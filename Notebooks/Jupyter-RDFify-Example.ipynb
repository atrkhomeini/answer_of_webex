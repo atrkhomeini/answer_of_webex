{
 "cells": [
  {
   "cell_type": "markdown",
   "metadata": {},
   "source": [
    "# Jupyter-RDFify Example Notebook\n",
    "\n",
    "The purpose of this notebook is to introduce you to the [Jupyter-RDFfify](https://github.com/SemWebNotebooks/Jupyter-RDFify) extension and show you many of its awesome features.\n",
    "\n",
    "## Installation\n",
    "\n",
    "<div class=\"alert alert-success\" role=\"alert\">\n",
    "    If you've already installed Jupyter-RDFify and its dependencies in your environment, you can skip this step!\n",
    "</div>\n",
    "\n",
    "Install the extension by running the following cell."
   ]
  },
  {
   "cell_type": "code",
   "execution_count": 2,
   "metadata": {
    "scrolled": true
   },
   "outputs": [
    {
     "name": "stdout",
     "output_type": "stream",
     "text": [
      "Collecting jupyter-rdfify\n",
      "  Downloading jupyter_rdfify-1.0.4-py3-none-any.whl.metadata (9.0 kB)\n",
      "Requirement already satisfied: rdflib>=6.1.1 in c:\\users\\atrke\\anaconda3\\lib\\site-packages (from jupyter-rdfify) (7.0.0)\n",
      "Requirement already satisfied: ipython>=7.0.0 in c:\\users\\atrke\\anaconda3\\lib\\site-packages (from jupyter-rdfify) (8.20.0)\n",
      "Collecting graphviz (from jupyter-rdfify)\n",
      "  Downloading graphviz-0.20.3-py3-none-any.whl.metadata (12 kB)\n",
      "Collecting sparqlwrapper>=1.8.5 (from jupyter-rdfify)\n",
      "  Downloading SPARQLWrapper-2.0.0-py3-none-any.whl.metadata (2.0 kB)\n",
      "Collecting owlrl>=6.0.2 (from jupyter-rdfify)\n",
      "  Downloading owlrl-6.0.2-py3-none-any.whl.metadata (3.4 kB)\n",
      "Collecting pyshex>=0.8.0 (from jupyter-rdfify)\n",
      "  Downloading PyShEx-0.8.1-py3-none-any.whl.metadata (1.0 kB)\n",
      "Requirement already satisfied: decorator in c:\\users\\atrke\\anaconda3\\lib\\site-packages (from ipython>=7.0.0->jupyter-rdfify) (5.1.1)\n",
      "Requirement already satisfied: jedi>=0.16 in c:\\users\\atrke\\anaconda3\\lib\\site-packages (from ipython>=7.0.0->jupyter-rdfify) (0.18.1)\n",
      "Requirement already satisfied: matplotlib-inline in c:\\users\\atrke\\anaconda3\\lib\\site-packages (from ipython>=7.0.0->jupyter-rdfify) (0.1.6)\n",
      "Requirement already satisfied: prompt-toolkit<3.1.0,>=3.0.41 in c:\\users\\atrke\\anaconda3\\lib\\site-packages (from ipython>=7.0.0->jupyter-rdfify) (3.0.43)\n",
      "Requirement already satisfied: pygments>=2.4.0 in c:\\users\\atrke\\anaconda3\\lib\\site-packages (from ipython>=7.0.0->jupyter-rdfify) (2.15.1)\n",
      "Requirement already satisfied: stack-data in c:\\users\\atrke\\anaconda3\\lib\\site-packages (from ipython>=7.0.0->jupyter-rdfify) (0.2.0)\n",
      "Requirement already satisfied: traitlets>=5 in c:\\users\\atrke\\anaconda3\\lib\\site-packages (from ipython>=7.0.0->jupyter-rdfify) (5.7.1)\n",
      "Requirement already satisfied: colorama in c:\\users\\atrke\\anaconda3\\lib\\site-packages (from ipython>=7.0.0->jupyter-rdfify) (0.4.6)\n",
      "Collecting cfgraph>=0.2.1 (from pyshex>=0.8.0->jupyter-rdfify)\n",
      "  Downloading CFGraph-0.2.1.tar.gz (2.6 kB)\n",
      "  Preparing metadata (setup.py): started\n",
      "  Preparing metadata (setup.py): finished with status 'error'\n"
     ]
    },
    {
     "name": "stderr",
     "output_type": "stream",
     "text": [
      "  error: subprocess-exited-with-error\n",
      "  \n",
      "  × python setup.py egg_info did not run successfully.\n",
      "  │ exit code: 1\n",
      "  ╰─> [1 lines of output]\n",
      "      ERROR: Can not execute `setup.py` since setuptools is not available in the build environment.\n",
      "      [end of output]\n",
      "  \n",
      "  note: This error originates from a subprocess, and is likely not a problem with pip.\n",
      "error: metadata-generation-failed\n",
      "\n",
      "× Encountered error while generating package metadata.\n",
      "╰─> See above for output.\n",
      "\n",
      "note: This is an issue with the package mentioned above, not pip.\n",
      "hint: See above for details.\n",
      "\n",
      "[notice] A new release of pip is available: 24.0 -> 24.2\n",
      "[notice] To update, run: python.exe -m pip install --upgrade pip\n"
     ]
    }
   ],
   "source": [
    "!python -m pip install --no-input jupyter-rdfify"
   ]
  },
  {
   "cell_type": "markdown",
   "metadata": {},
   "source": [
    "The extension requires Graphviz for graph visualization. If you've already installed Graphviz and added it to your path, you're good to go! If not, either install it and add it to your path or either add \"--display table\", \"--display raw\" or \"--display none\" to all cell with graphic output.\n",
    "\n",
    "If you've the conda package manager installed, you may also run the following cell to install the graphviz binaries."
   ]
  },
  {
   "cell_type": "code",
   "execution_count": 1,
   "metadata": {},
   "outputs": [
    {
     "name": "stdout",
     "output_type": "stream",
     "text": [
      "Retrieving notices: ...working... done\n",
      "Channels:\n",
      " - conda-forge\n",
      " - defaults\n",
      "Platform: win-64\n",
      "Collecting package metadata (repodata.json): ...working... done\n",
      "Solving environment: ...working... done\n",
      "\n",
      "## Package Plan ##\n",
      "\n",
      "  environment location: C:\\Users\\atrke\\anaconda3\n",
      "\n",
      "  added / updated specs:\n",
      "    - graphviz\n",
      "\n",
      "\n",
      "The following packages will be downloaded:\n",
      "\n",
      "    package                    |            build\n",
      "    ---------------------------|-----------------\n",
      "    ca-certificates-2024.8.30  |       h56e8100_0         155 KB  conda-forge\n",
      "    certifi-2024.8.30          |     pyhd8ed1ab_0         160 KB  conda-forge\n",
      "    conda-24.1.2               |  py311h1ea47a8_0         1.2 MB  conda-forge\n",
      "    font-ttf-ubuntu-0.83       |       h77eed37_2         1.5 MB  conda-forge\n",
      "    fribidi-1.0.10             |       h8d14728_0          63 KB  conda-forge\n",
      "    getopt-win32-0.1           |       hcfcfb64_1          21 KB  conda-forge\n",
      "    graphviz-11.0.0            |       h09e431a_0         1.1 MB  conda-forge\n",
      "    gts-0.7.6                  |       h6b5321d_4         184 KB  conda-forge\n",
      "    harfbuzz-8.5.0             |       h81778c3_0         1.0 MB  conda-forge\n",
      "    libgd-2.3.3                |       ha43c60c_1         314 KB\n",
      "    libglib-2.80.2             |       h0df6a38_0         3.6 MB  conda-forge\n",
      "    libintl-0.22.5             |       h5728263_3          93 KB  conda-forge\n",
      "    libsolv-0.7.29             |       h0ea2cb4_0         419 KB  conda-forge\n",
      "    libzlib-1.2.13             |       h2466b09_6          55 KB  conda-forge\n",
      "    openssl-3.3.2              |       h2466b09_0         8.0 MB  conda-forge\n",
      "    pango-1.50.14              |       h07c897b_2         432 KB  conda-forge\n",
      "    python_abi-3.11            |          2_cp311           5 KB  conda-forge\n",
      "    requests-2.32.3            |     pyhd8ed1ab_0          57 KB  conda-forge\n",
      "    setuptools-73.0.1          |     pyhd8ed1ab_0         1.4 MB  conda-forge\n",
      "    vc14_runtime-14.40.33810   |      hcc2c482_20         733 KB  conda-forge\n",
      "    zlib-1.2.13                |       h2466b09_6         105 KB  conda-forge\n",
      "    ------------------------------------------------------------\n",
      "                                           Total:        20.6 MB\n",
      "\n",
      "The following NEW packages will be INSTALLED:\n",
      "\n",
      "  cairo              conda-forge/win-64::cairo-1.18.0-h1fef639_0 \n",
      "  expat              conda-forge/win-64::expat-2.6.2-h63175ca_0 \n",
      "  font-ttf-dejavu-s~ conda-forge/noarch::font-ttf-dejavu-sans-mono-2.37-hab24e00_0 \n",
      "  font-ttf-inconsol~ conda-forge/noarch::font-ttf-inconsolata-3.000-h77eed37_0 \n",
      "  font-ttf-source-c~ conda-forge/noarch::font-ttf-source-code-pro-2.038-h77eed37_0 \n",
      "  font-ttf-ubuntu    conda-forge/noarch::font-ttf-ubuntu-0.83-h77eed37_2 \n",
      "  fontconfig         conda-forge/win-64::fontconfig-2.14.2-hbde0cde_0 \n",
      "  fonts-conda-ecosy~ conda-forge/noarch::fonts-conda-ecosystem-1-0 \n",
      "  fonts-conda-forge  conda-forge/noarch::fonts-conda-forge-1-0 \n",
      "  fribidi            conda-forge/win-64::fribidi-1.0.10-h8d14728_0 \n",
      "  getopt-win32       conda-forge/win-64::getopt-win32-0.1-hcfcfb64_1 \n",
      "  graphite2          conda-forge/win-64::graphite2-1.3.13-h63175ca_1003 \n",
      "  graphviz           conda-forge/win-64::graphviz-11.0.0-h09e431a_0 \n",
      "  gts                conda-forge/win-64::gts-0.7.6-h6b5321d_4 \n",
      "  harfbuzz           conda-forge/win-64::harfbuzz-8.5.0-h81778c3_0 \n",
      "  libexpat           conda-forge/win-64::libexpat-2.6.2-h63175ca_0 \n",
      "  libgd              pkgs/main/win-64::libgd-2.3.3-ha43c60c_1 \n",
      "  libglib            conda-forge/win-64::libglib-2.80.2-h0df6a38_0 \n",
      "  libintl            conda-forge/win-64::libintl-0.22.5-h5728263_3 \n",
      "  libzlib            conda-forge/win-64::libzlib-1.2.13-h2466b09_6 \n",
      "  pango              conda-forge/win-64::pango-1.50.14-h07c897b_2 \n",
      "  pixman             conda-forge/win-64::pixman-0.43.4-h63175ca_0 \n",
      "  python_abi         conda-forge/win-64::python_abi-3.11-2_cp311 \n",
      "  requests           conda-forge/noarch::requests-2.32.3-pyhd8ed1ab_0 \n",
      "  setuptools         conda-forge/noarch::setuptools-73.0.1-pyhd8ed1ab_0 \n",
      "  ucrt               conda-forge/win-64::ucrt-10.0.22621.0-h57928b3_0 \n",
      "  vc14_runtime       conda-forge/win-64::vc14_runtime-14.40.33810-hcc2c482_20 \n",
      "\n",
      "The following packages will be UPDATED:\n",
      "\n",
      "  ca-certificates    pkgs/main::ca-certificates-2023.12.12~ --> conda-forge::ca-certificates-2024.8.30-h56e8100_0 \n",
      "  certifi            pkgs/main/win-64::certifi-2024.2.2-py~ --> conda-forge/noarch::certifi-2024.8.30-pyhd8ed1ab_0 \n",
      "  icu                        pkgs/main::icu-73.1-h6c2663c_0 --> conda-forge::icu-73.2-h63175ca_0 \n",
      "  libiconv              pkgs/main::libiconv-1.16-h2bbff1b_2 --> conda-forge::libiconv-1.17-hcfcfb64_2 \n",
      "  libsolv              pkgs/main::libsolv-0.7.24-h23ce68f_0 --> conda-forge::libsolv-0.7.29-h0ea2cb4_0 \n",
      "  libwebp-base       pkgs/main::libwebp-base-1.3.2-h2bbff1~ --> conda-forge::libwebp-base-1.4.0-hcfcfb64_0 \n",
      "  openssl              pkgs/main::openssl-3.0.13-h2bbff1b_0 --> conda-forge::openssl-3.3.2-h2466b09_0 \n",
      "  pcre2                   pkgs/main::pcre2-10.42-h0ff8eda_0 --> conda-forge::pcre2-10.43-h17e33f8_0 \n",
      "  vs2015_runtime     pkgs/main::vs2015_runtime-14.27.29016~ --> conda-forge::vs2015_runtime-14.40.33810-h3bf8584_20 \n",
      "  zlib                    pkgs/main::zlib-1.2.13-h8cc25b3_0 --> conda-forge::zlib-1.2.13-h2466b09_6 \n",
      "\n",
      "The following packages will be SUPERSEDED by a higher-priority channel:\n",
      "\n",
      "  conda              pkgs/main::conda-24.1.2-py311haa95532~ --> conda-forge::conda-24.1.2-py311h1ea47a8_0 \n",
      "\n",
      "\n",
      "\n",
      "Downloading and Extracting Packages: ...working... done\n",
      "Preparing transaction: ...working... done\n",
      "Verifying transaction: ...working... done\n",
      "Executing transaction: ...working... done\n"
     ]
    }
   ],
   "source": [
    "!conda install --yes -c conda-forge graphviz"
   ]
  },
  {
   "cell_type": "markdown",
   "metadata": {},
   "source": [
    "## Loading The Extension\n",
    "\n",
    "Run the following cell to load the extension. You need to do this for every session or IPython will not recognize the rdf magic commands."
   ]
  },
  {
   "cell_type": "code",
   "execution_count": null,
   "metadata": {},
   "outputs": [],
   "source": [
    "%reload_ext jupyter-rdfify"
   ]
  },
  {
   "cell_type": "markdown",
   "metadata": {},
   "source": [
    "## It's A Kind Of Magic\n",
    "\n",
    "Magic commands are the way to tell IPython (the Python shell that Jupyter uses) that the following line or cell is not actual python code and should thus be treated differently. Everything in Jupyter-RDFify is controlled with the same magic, which is %rdf.\n",
    "\n",
    "Please be aware that there are line and cell magics. Line magics, which only interpret the line, start with one percent sign (e.g. `%rdf`) and cell magics, which interpret both the line and the cell, start with two percent signs (e.g. `%%rdf`). The Jupyter-RDFify uses both but in some use-cases you need to use cell magics (e.g. for parsing turtle).\n",
    "\n",
    "The rdf magic is interpreted like a command line interface so you can pass additional parameters using hyphens. If at any time you are lost or want to know which parameters you can use, use the help flag (`--help`, `-h`).\n",
    "\n",
    "To see all modules:"
   ]
  },
  {
   "cell_type": "code",
   "execution_count": null,
   "metadata": {},
   "outputs": [],
   "source": [
    "%rdf --help"
   ]
  },
  {
   "cell_type": "markdown",
   "metadata": {},
   "source": [
    "To see the parameters of a specific module (here we show it for the turtle module):"
   ]
  },
  {
   "cell_type": "code",
   "execution_count": null,
   "metadata": {},
   "outputs": [],
   "source": [
    "%rdf turtle --help"
   ]
  },
  {
   "cell_type": "markdown",
   "metadata": {},
   "source": [
    "## Features And Examples\n",
    "\n",
    "In the following we will present you many features that Jupyter-RDFify offers.\n",
    "\n",
    "### Serialization\n",
    "\n",
    "Jupyter-RDFify can parse many different RDF graph serializations (currently turtle, n3, json-ld and xml). After you have parsed a graph, you can later visualize, query, convert or entail it. The following cell parses a graph in Turtle notation and visualize it as a graph (this will throw an error if you do not have graphviz installed as explained in the [installation section](#Installation))."
   ]
  },
  {
   "cell_type": "code",
   "execution_count": null,
   "metadata": {},
   "outputs": [],
   "source": [
    "%%rdf turtle\n",
    "@prefix ex: <http://example.org/> .\n",
    "ex:Jupyter-RDFify a ex:IPythonExtension .\n",
    "ex:Jupyter-RDFify ex:is ex:Awesome .\n",
    "ex:Jupyter-RDFify ex:uses ex:Graphviz .\n",
    "ex:Graphviz ex:is ex:Awesome ."
   ]
  },
  {
   "cell_type": "markdown",
   "metadata": {},
   "source": [
    "### Conversion\n",
    "\n",
    "You can easily convert a serialization into a different format using the `--serialize <format>` parameter together with the `--display raw` parameter. The following cell converts our example graph into JSON-LD."
   ]
  },
  {
   "cell_type": "code",
   "execution_count": null,
   "metadata": {},
   "outputs": [],
   "source": [
    "%%rdf turtle --serialize json-ld --display raw\n",
    "@prefix ex: <http://example.org/> .\n",
    "ex:Jupyter-RDFify a ex:IPythonExtension .\n",
    "ex:Jupyter-RDFify ex:is ex:Awesome .\n",
    "ex:Jupyter-RDFify ex:uses ex:Graphviz .\n",
    "ex:Graphviz ex:is ex:Awesome ."
   ]
  },
  {
   "cell_type": "markdown",
   "metadata": {},
   "source": [
    "### Querying\n",
    "\n",
    "There are two possibilities to query graphs. Either we define and query a graph locally, or we use an external endpoint.\n",
    "\n",
    "#### Local\n",
    "\n",
    "To be able to reference a local graph for querying, we need to assign it a label. We can do this using the `--label <label>` parameter. Lets redefine our example graph and assign it the label `awesome_graph`"
   ]
  },
  {
   "cell_type": "code",
   "execution_count": null,
   "metadata": {},
   "outputs": [],
   "source": [
    "%%rdf turtle --label awesome_graph\n",
    "\n",
    "@prefix ex: <http://example.org/> .\n",
    "\n",
    "ex:Jupyter-RDFify a ex:IPythonExtension .\n",
    "ex:Jupyter-RDFify ex:is ex:Awesome .\n",
    "ex:Jupyter-RDFify ex:uses ex:Graphviz .\n",
    "ex:Graphviz ex:is ex:Awesome ."
   ]
  },
  {
   "cell_type": "markdown",
   "metadata": {},
   "source": [
    "Now we can query the local graph using the SPARQL module and referencing it using `--local <label>`."
   ]
  },
  {
   "cell_type": "code",
   "execution_count": null,
   "metadata": {},
   "outputs": [],
   "source": [
    "%%rdf sparql --local awesome_graph\n",
    "\n",
    "PREFIX ex: <http://example.org/>\n",
    "\n",
    "SELECT ?result WHERE {\n",
    "    ?result ex:is ex:Awesome .\n",
    "}"
   ]
  },
  {
   "cell_type": "markdown",
   "metadata": {},
   "source": [
    "#### External Endpoint\n",
    "\n",
    "It is also possible to query an external endpoint. As endpoints shouldn't be put under unnecessary load and as this functionality is not guaranteed to work flawlessly, we recommend using local queries instead whenever possible. You can pass an endpoint using the `--endpoint <endpoint>` parameter. The following cell will query [Wikidata](https://www.wikidata.org/) for nodes of type cat and obtain their labels."
   ]
  },
  {
   "cell_type": "code",
   "execution_count": null,
   "metadata": {
    "scrolled": true
   },
   "outputs": [],
   "source": [
    "%%rdf sparql --endpoint \"https://query.wikidata.org/sparql\"\n",
    "PREFIX wdt: <http://www.wikidata.org/prop/direct/>\n",
    "PREFIX wd: <http://www.wikidata.org/entity/>\n",
    "PREFIX bd: <http://www.bigdata.com/rdf#>\n",
    "PREFIX wikibase: <http://wikiba.se/ontology#>\n",
    "\n",
    "# Cats\n",
    "SELECT ?item ?itemLabel \n",
    "WHERE \n",
    "{\n",
    "  ?item wdt:P31 wd:Q146.\n",
    "  SERVICE wikibase:label { bd:serviceParam wikibase:language \"[AUTO_LANGUAGE],en\". }\n",
    "} LIMIT 10"
   ]
  },
  {
   "cell_type": "markdown",
   "metadata": {},
   "source": [
    "### Validation\n",
    "\n",
    "Jupyter-RDFify allows you to define graph schemas and validate your graphs with them. Currently it only supports ShEx but support for SHACL is planned.\n",
    "\n",
    "We first define our graph and our schema and assign labels `awesome_graph1` and `awesome_schema` accordingly."
   ]
  },
  {
   "cell_type": "code",
   "execution_count": null,
   "metadata": {},
   "outputs": [],
   "source": [
    "%%rdf turtle --label awesome_graph1\n",
    "\n",
    "PREFIX ex: <http://example.org/>\n",
    "\n",
    "ex:Jupyter-RDFify a ex:IPythonExtension .\n",
    "ex:Jupyter-RDFify ex:is ex:Awesome .\n",
    "ex:Jupyter-RDFify ex:uses ex:Graphviz .\n",
    "ex:Jupyter-RDFify ex:name \"Jupyter-RDFify\" .\n",
    "ex:Graphviz ex:is ex:Awesome ."
   ]
  },
  {
   "cell_type": "code",
   "execution_count": null,
   "metadata": {},
   "outputs": [],
   "source": [
    "%%rdf shex parse --label awesome_schema\n",
    "\n",
    "PREFIX ex: <http://example.org/>\n",
    "PREFIX xsd: <http://www.w3.org/2001/XMLSchema#>\n",
    "\n",
    "ex:AwesomeShape {\n",
    "    ex:is [ex:Awesome];\n",
    "    a [ex:IPythonExtension];\n",
    "    ex:name xsd:string\n",
    "}"
   ]
  },
  {
   "cell_type": "markdown",
   "metadata": {},
   "source": [
    "To validate your graph, use the `validate` action of the ShEx module and give the following parameters:\n",
    "- `--label, -l <schema label>` Label which you have assigned to the schema\n",
    "- `--graph, -g <graph label>` Label which you have assigned to the graph\n",
    "- `--start, -s <starting shape>` URI of shape which is the starting point of the schema\n",
    "- `--focus, -f <focus node>` URI of node in graph to focus on. Can be omitted to validate all nodes.\n",
    "\n",
    "In the following we will validate our graph using our schema. The defined shape is our starting shape and we will focus on both `ex:Jupyter-RDFify` and `ex:Graphviz`. The first is expected to pass while the second is expected to be rejected with a reason."
   ]
  },
  {
   "cell_type": "code",
   "execution_count": null,
   "metadata": {
    "scrolled": true
   },
   "outputs": [],
   "source": [
    "%rdf shex validate --label awesome_schema --graph awesome_graph1 --start http://example.org/AwesomeShape --focus http://example.org/Jupyter-RDFify\n",
    "%rdf shex validate --label awesome_schema --graph awesome_graph1 --start http://example.org/AwesomeShape --focus http://example.org/Graphviz"
   ]
  },
  {
   "cell_type": "markdown",
   "metadata": {},
   "source": [
    "## Other Features\n",
    "\n",
    "This section will go over other features worth mentioning very quickly.\n",
    "\n",
    "### Prefixes\n",
    "\n",
    "You can predefine a prefix for most modules. This is useful for prefix declarations and similar as to not repeat them each cell. Use the `--prefix` flag to define a prefix (or the `prefix` action in case of the ShEx module)."
   ]
  },
  {
   "cell_type": "code",
   "execution_count": null,
   "metadata": {},
   "outputs": [],
   "source": [
    "%%rdf turtle --prefix\n",
    "# This prefix will be prepend to every use of the turtle module\n",
    "PREFIX ex: <http://example.org/>"
   ]
  },
  {
   "cell_type": "markdown",
   "metadata": {},
   "source": [
    "We can now define graphs without declaring the `ex:` prefix."
   ]
  },
  {
   "cell_type": "code",
   "execution_count": null,
   "metadata": {},
   "outputs": [],
   "source": [
    "%%rdf turtle\n",
    "ex:Jupyter-RDFify ex:is ex:Awesome ."
   ]
  },
  {
   "cell_type": "markdown",
   "metadata": {},
   "source": [
    "### Entailment\n",
    "\n",
    "Jupyter-RDFify has basic RDFS and OWL entailment functionality. This uses [OWL-RL](https://owl-rl.readthedocs.io/en/latest/) to generate a finite closure under a given semantic. As this uses a brute-force approach, it may take a long time or fail for large graphs. To entail a graph using either rdfs, owl or rdfs+owl semantics, use the `--entail <regime>` parameter. Note that this may add some axiomatic triples as well."
   ]
  },
  {
   "cell_type": "code",
   "execution_count": null,
   "metadata": {},
   "outputs": [],
   "source": [
    "%%rdf turtle --entail rdfs\n",
    "PREFIX ex: <http://example.org/>\n",
    "PREFIX rdfs: <http://www.w3.org/2000/01/rdf-schema#>\n",
    "\n",
    "ex:Jupyter-RDFify a ex:IPythonExtension .\n",
    "ex:IPythonExtension rdfs:subClassOf ex:Extension ."
   ]
  },
  {
   "cell_type": "markdown",
   "metadata": {},
   "source": [
    "### Graph Manager\n",
    "\n",
    "You can use the Graph Manager to work with already defined labelled graphs. With it, you can list, remove, draw and entail graphs. Don't forget to specify a graph with the `--label` parameter."
   ]
  },
  {
   "cell_type": "code",
   "execution_count": null,
   "metadata": {},
   "outputs": [],
   "source": [
    "%rdf graph --help"
   ]
  },
  {
   "cell_type": "markdown",
   "metadata": {},
   "source": [
    "## Accessing Underlying Data\n",
    "\n",
    "Sometimes you may want to access the underlying datastructures (RDFLib graphs, PyShEx schemas, etc.). This is useful when working with a framework like [nbgrader](https://nbgrader.readthedocs.io/) to write tests which check whether a student has given a correct solution. With the `--return-store` flag, the magic execution will return all stored data in a python dictionary."
   ]
  },
  {
   "cell_type": "code",
   "execution_count": 56,
   "metadata": {},
   "outputs": [
    {
     "name": "stdout",
     "output_type": "stream",
     "text": [
      "Possible keys:\n",
      "  rdfgraphs\n",
      "  rdfsources\n",
      "  rdfresults\n",
      "  rdfshapes\n",
      "Labelled graphs:\n",
      "  awesome_graph1\n",
      "  last\n",
      "Triple was found\n"
     ]
    }
   ],
   "source": [
    "# Obtain all data\n",
    "data = %rdf --return-store\n",
    "# Print some information\n",
    "print(\"Possible keys:\")\n",
    "for key in data:\n",
    "    print(f\"  {key}\")\n",
    "\n",
    "# Print all graph labels\n",
    "print(\"Labelled graphs:\")\n",
    "for graph in data['rdfgraphs']:\n",
    "    print(f\"  {graph}\")\n",
    "    \n",
    "# Check whether the last graph contains the triple (ex:Jupyter-RDFify, rdf:type, ex:IPythonExtension)\n",
    "from rdflib import URIRef, RDF\n",
    "assert(\n",
    "    (URIRef(\"http://example.org/Jupyter-RDFify\"), RDF.type, URIRef(\"http://example.org/IPythonExtension\"))\n",
    "    in data['rdfgraphs']['last']\n",
    "), \"Triple not found\"\n",
    "print(\"Triple was found\")"
   ]
  }
 ],
 "metadata": {
  "kernelspec": {
   "display_name": "Python 3",
   "language": "python",
   "name": "python3"
  },
  "language_info": {
   "codemirror_mode": {
    "name": "ipython",
    "version": 3
   },
   "file_extension": ".py",
   "mimetype": "text/x-python",
   "name": "python",
   "nbconvert_exporter": "python",
   "pygments_lexer": "ipython3",
   "version": "3.11.7"
  }
 },
 "nbformat": 4,
 "nbformat_minor": 4
}
