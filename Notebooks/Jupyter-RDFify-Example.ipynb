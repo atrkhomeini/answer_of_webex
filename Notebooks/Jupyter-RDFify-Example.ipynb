{
 "cells": [
  {
   "cell_type": "markdown",
   "metadata": {},
   "source": [
    "# Jupyter-RDFify Example Notebook\n",
    "\n",
    "The purpose of this notebook is to introduce you to the [Jupyter-RDFfify](https://github.com/SemWebNotebooks/Jupyter-RDFify) extension and show you many of its awesome features.\n",
    "\n",
    "## Installation\n",
    "\n",
    "<div class=\"alert alert-success\" role=\"alert\">\n",
    "    If you've already installed Jupyter-RDFify and its dependencies in your environment, you can skip this step!\n",
    "</div>\n",
    "\n",
    "Install the extension by running the following cell."
   ]
  },
  {
   "cell_type": "code",
   "execution_count": null,
   "metadata": {
    "scrolled": true
   },
   "outputs": [],
   "source": [
    "!python -m pip install --no-input jupyter-rdfify"
   ]
  },
  {
   "cell_type": "markdown",
   "metadata": {},
   "source": [
    "The extension requires Graphviz for graph visualization. If you've already installed Graphviz and added it to your path, you're good to go! If not, either install it and add it to your path or either add \"--display table\", \"--display raw\" or \"--display none\" to all cell with graphic output.\n",
    "\n",
    "If you've the conda package manager installed, you may also run the following cell to install the graphviz binaries."
   ]
  },
  {
   "cell_type": "code",
   "execution_count": null,
   "metadata": {},
   "outputs": [],
   "source": [
    "!conda install --yes -c conda-forge graphviz"
   ]
  },
  {
   "cell_type": "markdown",
   "metadata": {},
   "source": [
    "## Loading The Extension\n",
    "\n",
    "Run the following cell to load the extension. You need to do this for every session or IPython will not recognize the rdf magic commands."
   ]
  },
  {
   "cell_type": "code",
   "execution_count": null,
   "metadata": {},
   "outputs": [],
   "source": [
    "%reload_ext jupyter-rdfify"
   ]
  },
  {
   "cell_type": "markdown",
   "metadata": {},
   "source": [
    "## It's A Kind Of Magic\n",
    "\n",
    "Magic commands are the way to tell IPython (the Python shell that Jupyter uses) that the following line or cell is not actual python code and should thus be treated differently. Everything in Jupyter-RDFify is controlled with the same magic, which is %rdf.\n",
    "\n",
    "Please be aware that there are line and cell magics. Line magics, which only interpret the line, start with one percent sign (e.g. `%rdf`) and cell magics, which interpret both the line and the cell, start with two percent signs (e.g. `%%rdf`). The Jupyter-RDFify uses both but in some use-cases you need to use cell magics (e.g. for parsing turtle).\n",
    "\n",
    "The rdf magic is interpreted like a command line interface so you can pass additional parameters using hyphens. If at any time you are lost or want to know which parameters you can use, use the help flag (`--help`, `-h`).\n",
    "\n",
    "To see all modules:"
   ]
  },
  {
   "cell_type": "code",
   "execution_count": null,
   "metadata": {},
   "outputs": [],
   "source": [
    "%rdf --help"
   ]
  },
  {
   "cell_type": "markdown",
   "metadata": {},
   "source": [
    "To see the parameters of a specific module (here we show it for the turtle module):"
   ]
  },
  {
   "cell_type": "code",
   "execution_count": null,
   "metadata": {},
   "outputs": [],
   "source": [
    "%rdf turtle --help"
   ]
  },
  {
   "cell_type": "markdown",
   "metadata": {},
   "source": [
    "## Features And Examples\n",
    "\n",
    "In the following we will present you many features that Jupyter-RDFify offers.\n",
    "\n",
    "### Serialization\n",
    "\n",
    "Jupyter-RDFify can parse many different RDF graph serializations (currently turtle, n3, json-ld and xml). After you have parsed a graph, you can later visualize, query, convert or entail it. The following cell parses a graph in Turtle notation and visualize it as a graph (this will throw an error if you do not have graphviz installed as explained in the [installation section](#Installation))."
   ]
  },
  {
   "cell_type": "code",
   "execution_count": null,
   "metadata": {},
   "outputs": [],
   "source": [
    "%%rdf turtle\n",
    "@prefix ex: <http://example.org/> .\n",
    "ex:Jupyter-RDFify a ex:IPythonExtension .\n",
    "ex:Jupyter-RDFify ex:is ex:Awesome .\n",
    "ex:Jupyter-RDFify ex:uses ex:Graphviz .\n",
    "ex:Graphviz ex:is ex:Awesome ."
   ]
  },
  {
   "cell_type": "markdown",
   "metadata": {},
   "source": [
    "### Conversion\n",
    "\n",
    "You can easily convert a serialization into a different format using the `--serialize <format>` parameter together with the `--display raw` parameter. The following cell converts our example graph into JSON-LD."
   ]
  },
  {
   "cell_type": "code",
   "execution_count": null,
   "metadata": {},
   "outputs": [],
   "source": [
    "%%rdf turtle --serialize json-ld --display raw\n",
    "@prefix ex: <http://example.org/> .\n",
    "ex:Jupyter-RDFify a ex:IPythonExtension .\n",
    "ex:Jupyter-RDFify ex:is ex:Awesome .\n",
    "ex:Jupyter-RDFify ex:uses ex:Graphviz .\n",
    "ex:Graphviz ex:is ex:Awesome ."
   ]
  },
  {
   "cell_type": "markdown",
   "metadata": {},
   "source": [
    "### Querying\n",
    "\n",
    "There are two possibilities to query graphs. Either we define and query a graph locally, or we use an external endpoint.\n",
    "\n",
    "#### Local\n",
    "\n",
    "To be able to reference a local graph for querying, we need to assign it a label. We can do this using the `--label <label>` parameter. Lets redefine our example graph and assign it the label `awesome_graph`"
   ]
  },
  {
   "cell_type": "code",
   "execution_count": null,
   "metadata": {},
   "outputs": [],
   "source": [
    "%%rdf turtle --label awesome_graph\n",
    "\n",
    "@prefix ex: <http://example.org/> .\n",
    "\n",
    "ex:Jupyter-RDFify a ex:IPythonExtension .\n",
    "ex:Jupyter-RDFify ex:is ex:Awesome .\n",
    "ex:Jupyter-RDFify ex:uses ex:Graphviz .\n",
    "ex:Graphviz ex:is ex:Awesome ."
   ]
  },
  {
   "cell_type": "markdown",
   "metadata": {},
   "source": [
    "Now we can query the local graph using the SPARQL module and referencing it using `--local <label>`."
   ]
  },
  {
   "cell_type": "code",
   "execution_count": null,
   "metadata": {},
   "outputs": [],
   "source": [
    "%%rdf sparql --local awesome_graph\n",
    "\n",
    "PREFIX ex: <http://example.org/>\n",
    "\n",
    "SELECT ?result WHERE {\n",
    "    ?result ex:is ex:Awesome .\n",
    "}"
   ]
  },
  {
   "cell_type": "markdown",
   "metadata": {},
   "source": [
    "#### External Endpoint\n",
    "\n",
    "It is also possible to query an external endpoint. As endpoints shouldn't be put under unnecessary load and as this functionality is not guaranteed to work flawlessly, we recommend using local queries instead whenever possible. You can pass an endpoint using the `--endpoint <endpoint>` parameter. The following cell will query [Wikidata](https://www.wikidata.org/) for nodes of type cat and obtain their labels."
   ]
  },
  {
   "cell_type": "code",
   "execution_count": null,
   "metadata": {
    "scrolled": true
   },
   "outputs": [],
   "source": [
    "%%rdf sparql --endpoint \"https://query.wikidata.org/sparql\"\n",
    "PREFIX wdt: <http://www.wikidata.org/prop/direct/>\n",
    "PREFIX wd: <http://www.wikidata.org/entity/>\n",
    "PREFIX bd: <http://www.bigdata.com/rdf#>\n",
    "PREFIX wikibase: <http://wikiba.se/ontology#>\n",
    "\n",
    "# Cats\n",
    "SELECT ?item ?itemLabel \n",
    "WHERE \n",
    "{\n",
    "  ?item wdt:P31 wd:Q146.\n",
    "  SERVICE wikibase:label { bd:serviceParam wikibase:language \"[AUTO_LANGUAGE],en\". }\n",
    "} LIMIT 10"
   ]
  },
  {
   "cell_type": "markdown",
   "metadata": {},
   "source": [
    "### Validation\n",
    "\n",
    "Jupyter-RDFify allows you to define graph schemas and validate your graphs with them. Currently it only supports ShEx but support for SHACL is planned.\n",
    "\n",
    "We first define our graph and our schema and assign labels `awesome_graph1` and `awesome_schema` accordingly."
   ]
  },
  {
   "cell_type": "code",
   "execution_count": null,
   "metadata": {},
   "outputs": [],
   "source": [
    "%%rdf turtle --label awesome_graph1\n",
    "\n",
    "PREFIX ex: <http://example.org/>\n",
    "\n",
    "ex:Jupyter-RDFify a ex:IPythonExtension .\n",
    "ex:Jupyter-RDFify ex:is ex:Awesome .\n",
    "ex:Jupyter-RDFify ex:uses ex:Graphviz .\n",
    "ex:Jupyter-RDFify ex:name \"Jupyter-RDFify\" .\n",
    "ex:Graphviz ex:is ex:Awesome ."
   ]
  },
  {
   "cell_type": "code",
   "execution_count": null,
   "metadata": {},
   "outputs": [],
   "source": [
    "%%rdf shex parse --label awesome_schema\n",
    "\n",
    "PREFIX ex: <http://example.org/>\n",
    "PREFIX xsd: <http://www.w3.org/2001/XMLSchema#>\n",
    "\n",
    "ex:AwesomeShape {\n",
    "    ex:is [ex:Awesome];\n",
    "    a [ex:IPythonExtension];\n",
    "    ex:name xsd:string\n",
    "}"
   ]
  },
  {
   "cell_type": "markdown",
   "metadata": {},
   "source": [
    "To validate your graph, use the `validate` action of the ShEx module and give the following parameters:\n",
    "- `--label, -l <schema label>` Label which you have assigned to the schema\n",
    "- `--graph, -g <graph label>` Label which you have assigned to the graph\n",
    "- `--start, -s <starting shape>` URI of shape which is the starting point of the schema\n",
    "- `--focus, -f <focus node>` URI of node in graph to focus on. Can be omitted to validate all nodes.\n",
    "\n",
    "In the following we will validate our graph using our schema. The defined shape is our starting shape and we will focus on both `ex:Jupyter-RDFify` and `ex:Graphviz`. The first is expected to pass while the second is expected to be rejected with a reason."
   ]
  },
  {
   "cell_type": "code",
   "execution_count": null,
   "metadata": {
    "scrolled": true
   },
   "outputs": [],
   "source": [
    "%rdf shex validate --label awesome_schema --graph awesome_graph1 --start http://example.org/AwesomeShape --focus http://example.org/Jupyter-RDFify\n",
    "%rdf shex validate --label awesome_schema --graph awesome_graph1 --start http://example.org/AwesomeShape --focus http://example.org/Graphviz"
   ]
  },
  {
   "cell_type": "markdown",
   "metadata": {},
   "source": [
    "## Other Features\n",
    "\n",
    "This section will go over other features worth mentioning very quickly.\n",
    "\n",
    "### Prefixes\n",
    "\n",
    "You can predefine a prefix for most modules. This is useful for prefix declarations and similar as to not repeat them each cell. Use the `--prefix` flag to define a prefix (or the `prefix` action in case of the ShEx module)."
   ]
  },
  {
   "cell_type": "code",
   "execution_count": null,
   "metadata": {},
   "outputs": [],
   "source": [
    "%%rdf turtle --prefix\n",
    "# This prefix will be prepend to every use of the turtle module\n",
    "PREFIX ex: <http://example.org/>"
   ]
  },
  {
   "cell_type": "markdown",
   "metadata": {},
   "source": [
    "We can now define graphs without declaring the `ex:` prefix."
   ]
  },
  {
   "cell_type": "code",
   "execution_count": null,
   "metadata": {},
   "outputs": [],
   "source": [
    "%%rdf turtle\n",
    "ex:Jupyter-RDFify ex:is ex:Awesome ."
   ]
  },
  {
   "cell_type": "markdown",
   "metadata": {},
   "source": [
    "### Entailment\n",
    "\n",
    "Jupyter-RDFify has basic RDFS and OWL entailment functionality. This uses [OWL-RL](https://owl-rl.readthedocs.io/en/latest/) to generate a finite closure under a given semantic. As this uses a brute-force approach, it may take a long time or fail for large graphs. To entail a graph using either rdfs, owl or rdfs+owl semantics, use the `--entail <regime>` parameter. Note that this may add some axiomatic triples as well."
   ]
  },
  {
   "cell_type": "code",
   "execution_count": null,
   "metadata": {},
   "outputs": [],
   "source": [
    "%%rdf turtle --entail rdfs\n",
    "PREFIX ex: <http://example.org/>\n",
    "PREFIX rdfs: <http://www.w3.org/2000/01/rdf-schema#>\n",
    "\n",
    "ex:Jupyter-RDFify a ex:IPythonExtension .\n",
    "ex:IPythonExtension rdfs:subClassOf ex:Extension ."
   ]
  },
  {
   "cell_type": "markdown",
   "metadata": {},
   "source": [
    "### Graph Manager\n",
    "\n",
    "You can use the Graph Manager to work with already defined labelled graphs. With it, you can list, remove, draw and entail graphs. Don't forget to specify a graph with the `--label` parameter."
   ]
  },
  {
   "cell_type": "code",
   "execution_count": null,
   "metadata": {},
   "outputs": [],
   "source": [
    "%rdf graph --help"
   ]
  },
  {
   "cell_type": "markdown",
   "metadata": {},
   "source": [
    "## Accessing Underlying Data\n",
    "\n",
    "Sometimes you may want to access the underlying datastructures (RDFLib graphs, PyShEx schemas, etc.). This is useful when working with a framework like [nbgrader](https://nbgrader.readthedocs.io/) to write tests which check whether a student has given a correct solution. With the `--return-store` flag, the magic execution will return all stored data in a python dictionary."
   ]
  },
  {
   "cell_type": "code",
   "execution_count": 56,
   "metadata": {},
   "outputs": [
    {
     "name": "stdout",
     "output_type": "stream",
     "text": [
      "Possible keys:\n",
      "  rdfgraphs\n",
      "  rdfsources\n",
      "  rdfresults\n",
      "  rdfshapes\n",
      "Labelled graphs:\n",
      "  awesome_graph1\n",
      "  last\n",
      "Triple was found\n"
     ]
    }
   ],
   "source": [
    "# Obtain all data\n",
    "data = %rdf --return-store\n",
    "# Print some information\n",
    "print(\"Possible keys:\")\n",
    "for key in data:\n",
    "    print(f\"  {key}\")\n",
    "\n",
    "# Print all graph labels\n",
    "print(\"Labelled graphs:\")\n",
    "for graph in data['rdfgraphs']:\n",
    "    print(f\"  {graph}\")\n",
    "    \n",
    "# Check whether the last graph contains the triple (ex:Jupyter-RDFify, rdf:type, ex:IPythonExtension)\n",
    "from rdflib import URIRef, RDF\n",
    "assert(\n",
    "    (URIRef(\"http://example.org/Jupyter-RDFify\"), RDF.type, URIRef(\"http://example.org/IPythonExtension\"))\n",
    "    in data['rdfgraphs']['last']\n",
    "), \"Triple not found\"\n",
    "print(\"Triple was found\")"
   ]
  }
 ],
 "metadata": {
  "kernelspec": {
   "display_name": "Python 3",
   "language": "python",
   "name": "python3"
  },
  "language_info": {
   "codemirror_mode": {
    "name": "ipython",
    "version": 3
   },
   "file_extension": ".py",
   "mimetype": "text/x-python",
   "name": "python",
   "nbconvert_exporter": "python",
   "pygments_lexer": "ipython3",
   "version": "3.8.5"
  }
 },
 "nbformat": 4,
 "nbformat_minor": 4
}
