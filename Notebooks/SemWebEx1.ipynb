{
 "cells": [
  {
   "cell_type": "code",
   "execution_count": 18,
   "metadata": {
    "deletable": false,
    "editable": false,
    "nbgrader": {
     "cell_type": "code",
     "checksum": "73c565738f463863ec6757fecc9af9bf",
     "grade": false,
     "grade_id": "cell-da806457bddca4c8",
     "locked": true,
     "schema_version": 3,
     "solution": false,
     "task": false
    }
   },
   "outputs": [
    {
     "data": {
      "application/javascript": "\n    if (typeof IPython !== \"undefined\") {\n        IPython.CodeCell.options_default.highlight_modes['application/sparql-query'] = {'reg':[/^%%rdf sparql/]};\n        IPython.CodeCell.options_default.highlight_modes['text/turtle'] = {'reg':[/^%%rdf turtle/, /^%%rdf shex/]};\n        IPython.CodeCell.options_default.highlight_modes['application/ld+json'] = {'reg':[/^%%rdf json-ld/]};\n        IPython.notebook.get_cells().map(function(cell){ if (cell.cell_type == 'code'){ cell.auto_highlight(); } });\n    }\n    "
     },
     "metadata": {},
     "output_type": "display_data"
    }
   ],
   "source": [
    "%reload_ext jupyter-rdfify"
   ]
  },
  {
   "cell_type": "markdown",
   "metadata": {
    "deletable": false,
    "editable": false,
    "nbgrader": {
     "cell_type": "markdown",
     "checksum": "747a7aa1da3e923b1e595bd9a2561c87",
     "grade": false,
     "grade_id": "cell-147e9d5d78c18ec7",
     "locked": true,
     "schema_version": 3,
     "solution": false,
     "task": false
    }
   },
   "source": [
    "**A small reminder that these assignments will be graded automatically. Please read the tasks carefully and be as pedantic as possible. Run your answers to check if your code parses correctly. Typing errors will lead to point loss. Do not change code that is already given as this may break the unit tests and lead to 0 points. Do not use comments in your code.**"
   ]
  },
  {
   "cell_type": "markdown",
   "metadata": {
    "deletable": false,
    "editable": false,
    "nbgrader": {
     "cell_type": "markdown",
     "checksum": "36191cdbb140b5ac7301deda4207ab36",
     "grade": false,
     "grade_id": "cell-baccffb6bb4a152d",
     "locked": true,
     "schema_version": 3,
     "solution": false,
     "task": false
    }
   },
   "source": [
    "# Turtle\n",
    "*Turtle* stands for **Terse RDF Triple Language** and is a [W3C recommended](https://www.w3.org/TR/turtle/) syntax and file format for serializing RDF Graphs. To serialize an RDF triple of the form *(Subject, Predicate, Object)* in Turtle, you just write them in that sequence, followed by a period. In this example you would write:\n",
    "\n",
    "**Subject Predicate Object .**\n",
    "\n",
    "Please note the period after a triple.\n",
    "\n",
    "In turtle, URIs are encased in angled brackets (&lt; &gt;). The RDF triple *(http://example.org/#Germany, http://example.org/#capital, http://example.org/#Berlin)* is serialized like this:\n",
    "\n",
    "**&lt;http://example.org/#Germany&gt; &lt;http://example.org/#capital&gt; &lt;http://example.org/#Berlin&gt; .**\n",
    "\n",
    "**Because of its very simple syntax, Turtle is intuitive and human-readable.**\n",
    "\n",
    "### Syntactic sugar:\n",
    "Because subjects or subject-predicate-combinations often repeat in the same graph, Turtle introduces some syntactic sugar.\n",
    "To repeat a subject, one can use a semicolon instead of a period after a triple. To express that germany has the capital Berlin and the state Bavaria, one would write the following:\n",
    "\n",
    "**&lt;http://example.org/#Germany&gt; &lt;http://example.org/#capital&gt; &lt;http://example.org/#Berlin&gt; ;  \n",
    "&nbsp;&nbsp;&nbsp;&nbsp;&lt;http://example.org/#state&gt; &lt;http://example.org/#Bavaria&gt; .**\n",
    "\n",
    "To repeat a subject-predicate-combination, one can use a comma instead of a period after the triple. To express that germany has the state Berlin and the state Bavaria, one would write the following:\n",
    "\n",
    "**&lt;http://example.org/#Germany&gt; &lt;http://example.org/#state&gt; &lt;http://example.org/#Berlin&gt; ,  \n",
    "&nbsp;&nbsp;&nbsp;&nbsp;&lt;http://example.org/#Bavaria&gt; .**\n",
    "\n",
    "Both of these can be chained to repeat the same subject/subject-predicate-combination over and over.\n",
    "\n",
    "**You are allowed and even encouraged to use syntactic sugar throughout all our assignments.**\n",
    "    "
   ]
  },
  {
   "cell_type": "markdown",
   "metadata": {
    "deletable": false,
    "editable": false,
    "nbgrader": {
     "cell_type": "markdown",
     "checksum": "4bd660d81b6f246a1e419d24ca0644ee",
     "grade": false,
     "grade_id": "cell-5e8f9a1e110133aa",
     "locked": true,
     "schema_version": 3,
     "solution": false,
     "task": false
    }
   },
   "source": [
    "## Task 1: My first Graph [6 points]\n",
    "### 1a) Sightseeing [3 points]\n",
    "The task is to create an RDF graph about places of interest using Turtle. The graph must contain the following Sights and their locations: The Louvre, the Colosseum and the Eiffel Tower.\n",
    "\n",
    "The graph should contain the following information: Both the **Louvre** and the **Eiffel Tower** are **located in** **France**. The **Colosseum** is **located in** **Italy**. **All** three **are sights**.\n",
    "\n",
    "Use the following URIs:  \n",
    "The Louvre: http://example.org/sights#Louvre  \n",
    "The Colosseum: http://example.org/sights#Colosseum  \n",
    "The Eiffel Tower: http://example.org/sights#EiffelTower  \n",
    "Located in: http://example.org/properties#locatedIn  \n",
    "France: http://example.org/countries#France  \n",
    "Italy: http://example.org/countries#Italy  \n",
    "Sight: http://example.org/classes#Sight  \n",
    "Is of type: http://www.w3.org/1999/02/22-rdf-syntax-ns#type\n",
    "\n",
    "**Do not use or define CURIEs (Prefixes) in this part of the task. The graph must not contain additional triples.**"
   ]
  },
  {
   "cell_type": "code",
   "execution_count": 19,
   "metadata": {},
   "outputs": [
    {
     "name": "stdout",
     "output_type": "stream",
     "text": [
      "Defaulting to user installation because normal site-packages is not writeable\n",
      "Requirement already satisfied: rdflib in /home/kali/.local/lib/python3.11/site-packages (7.0.0)\n",
      "Requirement already satisfied: isodate<0.7.0,>=0.6.0 in /home/kali/.local/lib/python3.11/site-packages (from rdflib) (0.6.1)\n",
      "Requirement already satisfied: pyparsing<4,>=2.1.0 in /usr/lib/python3/dist-packages (from rdflib) (3.1.2)\n",
      "Requirement already satisfied: six in /usr/lib/python3/dist-packages (from isodate<0.7.0,>=0.6.0->rdflib) (1.16.0)\n"
     ]
    }
   ],
   "source": [
    "!pip install rdflib "
   ]
  },
  {
   "cell_type": "code",
   "execution_count": 34,
   "metadata": {
    "deletable": false,
    "nbgrader": {
     "cell_type": "code",
     "checksum": "66ae973e1d9e00f6cfa1d75897aa74ac",
     "grade": false,
     "grade_id": "cell-a625a6dee09ca0d5",
     "locked": false,
     "schema_version": 3,
     "solution": true,
     "task": false
    }
   },
   "outputs": [
    {
     "data": {
      "image/svg+xml": [
       "<?xml version=\"1.0\" encoding=\"UTF-8\" standalone=\"no\"?>\n",
       "<!DOCTYPE svg PUBLIC \"-//W3C//DTD SVG 1.1//EN\"\n",
       " \"http://www.w3.org/Graphics/SVG/1.1/DTD/svg11.dtd\">\n",
       "<!-- Generated by graphviz version 2.43.0 (0)\n",
       " -->\n",
       "<!-- Title: %3 Pages: 1 -->\n",
       "<svg width=\"1315pt\" height=\"131pt\"\n",
       " viewBox=\"0.00 0.00 1314.58 131.00\" xmlns=\"http://www.w3.org/2000/svg\" xmlns:xlink=\"http://www.w3.org/1999/xlink\">\n",
       "<g id=\"graph0\" class=\"graph\" transform=\"scale(1 1) rotate(0) translate(4 127)\">\n",
       "<title>%3</title>\n",
       "<polygon fill=\"white\" stroke=\"transparent\" points=\"-4,4 -4,-127 1310.58,-127 1310.58,4 -4,4\"/>\n",
       "<!-- 0 -->\n",
       "<g id=\"node1\" class=\"node\">\n",
       "<title>0</title>\n",
       "<ellipse fill=\"none\" stroke=\"black\" cx=\"171.58\" cy=\"-18\" rx=\"171.67\" ry=\"18\"/>\n",
       "<text text-anchor=\"start\" x=\"47.58\" y=\"-14.3\" font-family=\"Times,serif\" font-size=\"14.00\">http://example.org/countries#Italy</text>\n",
       "</g>\n",
       "<!-- 1 -->\n",
       "<g id=\"node2\" class=\"node\">\n",
       "<title>1</title>\n",
       "<ellipse fill=\"none\" stroke=\"black\" cx=\"201.58\" cy=\"-105\" rx=\"185.77\" ry=\"18\"/>\n",
       "<text text-anchor=\"start\" x=\"66.58\" y=\"-101.3\" font-family=\"Times,serif\" font-size=\"14.00\">http://example.org/sights#Colosseum</text>\n",
       "</g>\n",
       "<!-- 1&#45;&gt;0 -->\n",
       "<g id=\"edge4\" class=\"edge\">\n",
       "<title>1&#45;&gt;0</title>\n",
       "<path fill=\"none\" stroke=\"black\" d=\"M183.64,-86.97C179.19,-81.68 175,-75.51 172.58,-69 169.95,-61.92 168.99,-53.88 168.88,-46.34\"/>\n",
       "<polygon fill=\"black\" stroke=\"black\" points=\"172.38,-46.29 169.18,-36.19 165.38,-46.08 172.38,-46.29\"/>\n",
       "<text text-anchor=\"start\" x=\"172.58\" y=\"-57.8\" font-family=\"Times,serif\" font-size=\"14.00\">http://example.org/properties#locatedIn</text>\n",
       "</g>\n",
       "<!-- 4 -->\n",
       "<g id=\"node5\" class=\"node\">\n",
       "<title>4</title>\n",
       "<ellipse fill=\"none\" stroke=\"black\" cx=\"564.58\" cy=\"-18\" rx=\"165.17\" ry=\"18\"/>\n",
       "<text text-anchor=\"start\" x=\"445.58\" y=\"-14.3\" font-family=\"Times,serif\" font-size=\"14.00\">http://example.org/classes#Sight</text>\n",
       "</g>\n",
       "<!-- 1&#45;&gt;4 -->\n",
       "<g id=\"edge3\" class=\"edge\">\n",
       "<title>1&#45;&gt;4</title>\n",
       "<path fill=\"none\" stroke=\"black\" d=\"M342.98,-93.25C381.95,-88.06 423.87,-80.37 461.58,-69 484.32,-62.14 508.26,-50.8 527.34,-40.65\"/>\n",
       "<polygon fill=\"black\" stroke=\"black\" points=\"529.17,-43.64 536.28,-35.79 525.83,-37.49 529.17,-43.64\"/>\n",
       "<text text-anchor=\"middle\" x=\"529.58\" y=\"-57.8\" font-family=\"Times,serif\" font-size=\"14.00\">rdf:type</text>\n",
       "</g>\n",
       "<!-- 2 -->\n",
       "<g id=\"node3\" class=\"node\">\n",
       "<title>2</title>\n",
       "<ellipse fill=\"none\" stroke=\"black\" cx=\"984.58\" cy=\"-18\" rx=\"182.77\" ry=\"18\"/>\n",
       "<text text-anchor=\"start\" x=\"852.08\" y=\"-14.3\" font-family=\"Times,serif\" font-size=\"14.00\">http://example.org/countries#France</text>\n",
       "</g>\n",
       "<!-- 3 -->\n",
       "<g id=\"node4\" class=\"node\">\n",
       "<title>3</title>\n",
       "<ellipse fill=\"none\" stroke=\"black\" cx=\"997.58\" cy=\"-105\" rx=\"167.87\" ry=\"18\"/>\n",
       "<text text-anchor=\"start\" x=\"876.58\" y=\"-101.3\" font-family=\"Times,serif\" font-size=\"14.00\">http://example.org/sights#Louvre</text>\n",
       "</g>\n",
       "<!-- 3&#45;&gt;2 -->\n",
       "<g id=\"edge6\" class=\"edge\">\n",
       "<title>3&#45;&gt;2</title>\n",
       "<path fill=\"none\" stroke=\"black\" d=\"M1010.58,-86.85C1016.28,-77.19 1020.82,-64.91 1016.58,-54 1015.22,-50.49 1013.33,-47.12 1011.13,-43.95\"/>\n",
       "<polygon fill=\"black\" stroke=\"black\" points=\"1013.79,-41.67 1004.79,-36.07 1008.33,-46.06 1013.79,-41.67\"/>\n",
       "<text text-anchor=\"start\" x=\"1017.58\" y=\"-57.8\" font-family=\"Times,serif\" font-size=\"14.00\">http://example.org/properties#locatedIn</text>\n",
       "</g>\n",
       "<!-- 3&#45;&gt;4 -->\n",
       "<g id=\"edge2\" class=\"edge\">\n",
       "<title>3&#45;&gt;4</title>\n",
       "<path fill=\"none\" stroke=\"black\" d=\"M976.54,-86.91C958.8,-72.53 936.21,-54.25 935.58,-54 924.57,-49.52 803.71,-38.63 702.89,-30.18\"/>\n",
       "<polygon fill=\"black\" stroke=\"black\" points=\"703.14,-26.69 692.89,-29.34 702.56,-33.66 703.14,-26.69\"/>\n",
       "<text text-anchor=\"middle\" x=\"982.58\" y=\"-57.8\" font-family=\"Times,serif\" font-size=\"14.00\">rdf:type</text>\n",
       "</g>\n",
       "<!-- 5 -->\n",
       "<g id=\"node6\" class=\"node\">\n",
       "<title>5</title>\n",
       "<ellipse fill=\"none\" stroke=\"black\" cx=\"593.58\" cy=\"-105\" rx=\"188.47\" ry=\"18\"/>\n",
       "<text text-anchor=\"start\" x=\"456.58\" y=\"-101.3\" font-family=\"Times,serif\" font-size=\"14.00\">http://example.org/sights#EiffelTower</text>\n",
       "</g>\n",
       "<!-- 5&#45;&gt;2 -->\n",
       "<g id=\"edge1\" class=\"edge\">\n",
       "<title>5&#45;&gt;2</title>\n",
       "<path fill=\"none\" stroke=\"black\" d=\"M606.87,-86.56C616.55,-75.23 630.72,-61.27 646.58,-54 664.04,-46 751.15,-37.09 832.55,-30.26\"/>\n",
       "<polygon fill=\"black\" stroke=\"black\" points=\"833.29,-33.71 842.96,-29.39 832.71,-26.73 833.29,-33.71\"/>\n",
       "<text text-anchor=\"start\" x=\"646.58\" y=\"-57.8\" font-family=\"Times,serif\" font-size=\"14.00\">http://example.org/properties#locatedIn</text>\n",
       "</g>\n",
       "<!-- 5&#45;&gt;4 -->\n",
       "<g id=\"edge5\" class=\"edge\">\n",
       "<title>5&#45;&gt;4</title>\n",
       "<path fill=\"none\" stroke=\"black\" d=\"M576.25,-86.88C571.95,-81.59 567.92,-75.44 565.58,-69 563.01,-61.9 562.07,-53.85 561.95,-46.32\"/>\n",
       "<polygon fill=\"black\" stroke=\"black\" points=\"565.46,-46.26 562.25,-36.16 558.46,-46.06 565.46,-46.26\"/>\n",
       "<text text-anchor=\"middle\" x=\"594.58\" y=\"-57.8\" font-family=\"Times,serif\" font-size=\"14.00\">rdf:type</text>\n",
       "</g>\n",
       "</g>\n",
       "</svg>\n"
      ],
      "text/plain": [
       "<graphviz.graphs.Digraph at 0x7f262cb2e850>"
      ]
     },
     "metadata": {},
     "output_type": "display_data"
    }
   ],
   "source": [
    "\n",
    "%%rdf turtle -l sights\n",
    "\"\"\"\n",
    "This code snippet represents RDF triples describing various sights located in different countries.\n",
    "\n",
    "The RDF triples are defined using the Turtle syntax and include the following information:\n",
    "\n",
    "- The Louvre sight is of type \"Sight\" and is located in France.\n",
    "- The Eiffel Tower sight is of type \"Sight\" and is located in France.\n",
    "- The Colosseum sight is of type \"Sight\" and is located in Italy.\n",
    "\n",
    "The RDF triples are used to represent semantic information about the sights and their locations.\n",
    "\n",
    "Note: This code snippet is part of a larger file located at \"/home/kali/Documents/Notebooks/Notebooks/SemWebEx1.ipynb\".\n",
    "\"\"\"\n",
    "### YOUR SOLUTION HERE\n",
    "<http://example.org/sights#Louvre> \n",
    "    <http://www.w3.org/1999/02/22-rdf-syntax-ns#type> <http://example.org/classes#Sight> ;\n",
    "    <http://example.org/properties#locatedIn> <http://example.org/countries#France> .\n",
    "\n",
    "<http://example.org/sights#EiffelTower> \n",
    "    <http://www.w3.org/1999/02/22-rdf-syntax-ns#type> <http://example.org/classes#Sight> ;\n",
    "    <http://example.org/properties#locatedIn> <http://example.org/countries#France> .\n",
    "\n",
    "<http://example.org/sights#Colosseum> \n",
    "    <http://www.w3.org/1999/02/22-rdf-syntax-ns#type> <http://example.org/classes#Sight> ;\n",
    "    <http://example.org/properties#locatedIn> <http://example.org/countries#Italy> .\n"
   ]
  },
  {
   "cell_type": "markdown",
   "metadata": {
    "deletable": false,
    "editable": false,
    "nbgrader": {
     "cell_type": "markdown",
     "checksum": "8423b3ecf4767b8bddfee3a5e7341197",
     "grade": false,
     "grade_id": "cell-f3bf946883727b5f",
     "locked": true,
     "schema_version": 3,
     "solution": false,
     "task": false
    }
   },
   "source": [
    "The following cell is a test cell to check your answer. Please remember that this is only a fraction of the tests to give you an orientation and that the real evaluation is a lot more thorough."
   ]
  },
  {
   "cell_type": "code",
   "execution_count": 35,
   "metadata": {
    "deletable": false,
    "editable": false,
    "nbgrader": {
     "cell_type": "code",
     "checksum": "5bbce85ea329cbb932a7b9181151ad2f",
     "grade": true,
     "grade_id": "cell-c927d061ef093322",
     "locked": true,
     "points": 2,
     "schema_version": 3,
     "solution": false,
     "task": false
    }
   },
   "outputs": [],
   "source": [
    "# This test will check whether your graph is complete and correct. [2 points]\n",
    "from rdflib import URIRef\n",
    "m = \"The graph is missing the following information: {}\"\n",
    "store = %rdf -r\n",
    "g = store['rdfgraphs'][\"sights\"]\n",
    "ex = \"http://example.org/{}\"\n",
    "tower = URIRef(ex.format(\"sights#EiffelTower\"))\n",
    "louvre = URIRef(ex.format(\"sights#Louvre\"))\n",
    "locIn = URIRef(ex.format(\"properties#locatedIn\"))\n",
    "ofType = URIRef(\"http://www.w3.org/1999/02/22-rdf-syntax-ns#type\")\n",
    "sight = URIRef(ex.format(\"classes#Sight\"))\n",
    "france = URIRef(ex.format(\"countries#France\"))\n",
    "assert((tower, locIn, france) in g), m.format(\"The Eiffel Tower is located in France.\")\n",
    "assert((louvre, ofType, sight) in g), m.format(\"The Louvre is a sight.\")"
   ]
  },
  {
   "cell_type": "code",
   "execution_count": 36,
   "metadata": {
    "deletable": false,
    "editable": false,
    "nbgrader": {
     "cell_type": "code",
     "checksum": "cf9940d61fd53964206633f15b2259be",
     "grade": true,
     "grade_id": "cell-d2bfeecaca65d849",
     "locked": true,
     "points": 1,
     "schema_version": 3,
     "solution": false,
     "task": false
    }
   },
   "outputs": [
    {
     "name": "stdout",
     "output_type": "stream",
     "text": [
      "All tests passed.\n"
     ]
    }
   ],
   "source": [
    "# This test will check whether your graph is minimal (does not contain additional triples). [1 point]\n",
    "\"\"\"\n",
    "This test checks whether the graph is minimal, meaning it does not contain any additional triples.\n",
    "The test asserts that the length of the graph is equal to 6, indicating that there are no extra triples.\n",
    "If the assertion fails, an error message is raised.\n",
    "\"\"\"\n",
    "# This point will not be granted when you use CURIEs or define prefixes (which is forbidden in this part of the task)\n",
    "# Some tests - like this one - are instructor only and can't be seen/run by students.\n",
    "assert(len(g) == 6), \"Your graph contains additional triples.\"\n",
    "\n",
    "print(\"All tests passed.\")"
   ]
  },
  {
   "cell_type": "markdown",
   "metadata": {},
   "source": []
  },
  {
   "cell_type": "markdown",
   "metadata": {
    "deletable": false,
    "editable": false,
    "nbgrader": {
     "cell_type": "markdown",
     "checksum": "cec20352d55bec9b564f2fc3bb54e2fe",
     "grade": false,
     "grade_id": "cell-af5942891348c4fb",
     "locked": true,
     "schema_version": 3,
     "solution": false,
     "task": false
    }
   },
   "source": [
    "### CURIEs\n",
    "Because we only used full URIs in 1a), the graph looks cluttered and both the graph and the turtle source are hard to read. But many URIs have the same prefix (http://example.org/sights for example) and turtle allows us to define abbreviations for these prefixes. These abbreviated URIs are called *Compact URIs* or *CURIES*. In Turtle, such a prefix is defined using the **@prefix** keyword, followed by the abbreviation, then the URI prefix in angled brackets (&lt; &gt;) and finally a period. For example, if we want to abbreviate *http://example.org/#* with *ex:*, then we need to prepend the following line to the turtle document:\n",
    "\n",
    "**@prefix ex: &lt;http://example.org/#&gt; .**\n",
    "\n",
    "Now we can abbreviate the RDF triple:\n",
    "\n",
    "**&lt;http://example.org/#Germany&gt; &lt;http://example.org/#capital&gt; &lt;http://example.org/#Berlin&gt; .**\n",
    "\n",
    "to:\n",
    "\n",
    "**ex:Germany ex:capital ex:Berlin .**\n",
    "\n",
    "Note, that we omit the angled brackets when using CURIEs.\n",
    "\n",
    "### 1b) Using CURIEs [3 points]\n",
    "Create the same RDF graph as in 1a) but use CURIEs and introduce the following abbreviations:  \n",
    "Abbreviate http://example.org/sights# to **si:**  \n",
    "Abbreviate http://example.org/countries# to **co:**  \n",
    "Abbreviate http://example.org/properties# to **pr:**  \n",
    "Abbreviate http://example.org/classes# to **cl:**  \n",
    "\n",
    "http://www.w3.org/1999/02/22-rdf-syntax-ns# can be abbreviated to **rdf:** (optional)\n",
    "\n",
    "Because the predicate rdf:type (http://www.w3.org/1999/02/22-rdf-syntax-ns#type) is used very frequently, you can just write **a** instead of the URI. Try it!  \n",
    "\n",
    "**Use the defined prefixes whenever they are applicable.**  \n",
    "**You are allowed and even encouraged to define and use as many prefixes as you want in all following tasks and assignments.**"
   ]
  },
  {
   "cell_type": "code",
   "execution_count": 40,
   "metadata": {
    "deletable": false,
    "nbgrader": {
     "cell_type": "code",
     "checksum": "5c0b1da427d39dbb7088a78c75736bc0",
     "grade": false,
     "grade_id": "cell-622f9e5d8ef2cccd",
     "locked": false,
     "schema_version": 3,
     "solution": true,
     "task": false
    }
   },
   "outputs": [
    {
     "data": {
      "image/svg+xml": [
       "<?xml version=\"1.0\" encoding=\"UTF-8\" standalone=\"no\"?>\n",
       "<!DOCTYPE svg PUBLIC \"-//W3C//DTD SVG 1.1//EN\"\n",
       " \"http://www.w3.org/Graphics/SVG/1.1/DTD/svg11.dtd\">\n",
       "<!-- Generated by graphviz version 2.43.0 (0)\n",
       " -->\n",
       "<!-- Title: %3 Pages: 1 -->\n",
       "<svg width=\"583pt\" height=\"131pt\"\n",
       " viewBox=\"0.00 0.00 582.85 131.00\" xmlns=\"http://www.w3.org/2000/svg\" xmlns:xlink=\"http://www.w3.org/1999/xlink\">\n",
       "<g id=\"graph0\" class=\"graph\" transform=\"scale(1 1) rotate(0) translate(4 127)\">\n",
       "<title>%3</title>\n",
       "<polygon fill=\"white\" stroke=\"transparent\" points=\"-4,4 -4,-127 578.85,-127 578.85,4 -4,4\"/>\n",
       "<!-- 0 -->\n",
       "<g id=\"node1\" class=\"node\">\n",
       "<title>0</title>\n",
       "<ellipse fill=\"none\" stroke=\"black\" cx=\"44.85\" cy=\"-18\" rx=\"44.69\" ry=\"18\"/>\n",
       "<text text-anchor=\"middle\" x=\"44.85\" y=\"-14.3\" font-family=\"Times,serif\" font-size=\"14.00\">co:Italy</text>\n",
       "</g>\n",
       "<!-- 1 -->\n",
       "<g id=\"node2\" class=\"node\">\n",
       "<title>1</title>\n",
       "<ellipse fill=\"none\" stroke=\"black\" cx=\"98.85\" cy=\"-105\" rx=\"71.49\" ry=\"18\"/>\n",
       "<text text-anchor=\"middle\" x=\"98.85\" y=\"-101.3\" font-family=\"Times,serif\" font-size=\"14.00\">si:Colosseum</text>\n",
       "</g>\n",
       "<!-- 1&#45;&gt;0 -->\n",
       "<g id=\"edge4\" class=\"edge\">\n",
       "<title>1&#45;&gt;0</title>\n",
       "<path fill=\"none\" stroke=\"black\" d=\"M65.55,-89C57.73,-83.83 50.37,-77.21 45.85,-69 42.1,-62.2 40.85,-54.06 40.81,-46.33\"/>\n",
       "<polygon fill=\"black\" stroke=\"black\" points=\"44.31,-46.41 41.38,-36.23 37.32,-46.02 44.31,-46.41\"/>\n",
       "<text text-anchor=\"middle\" x=\"89.35\" y=\"-57.8\" font-family=\"Times,serif\" font-size=\"14.00\">pr:locatedIn</text>\n",
       "</g>\n",
       "<!-- 4 -->\n",
       "<g id=\"node5\" class=\"node\">\n",
       "<title>4</title>\n",
       "<ellipse fill=\"none\" stroke=\"black\" cx=\"235.85\" cy=\"-18\" rx=\"46.29\" ry=\"18\"/>\n",
       "<text text-anchor=\"middle\" x=\"235.85\" y=\"-14.3\" font-family=\"Times,serif\" font-size=\"14.00\">cl:Sight</text>\n",
       "</g>\n",
       "<!-- 1&#45;&gt;4 -->\n",
       "<g id=\"edge3\" class=\"edge\">\n",
       "<title>1&#45;&gt;4</title>\n",
       "<path fill=\"none\" stroke=\"black\" d=\"M121.15,-87.87C135.41,-77.77 154.43,-64.69 171.85,-54 180.83,-48.48 190.74,-42.86 200.02,-37.77\"/>\n",
       "<polygon fill=\"black\" stroke=\"black\" points=\"201.91,-40.73 209.04,-32.89 198.58,-34.57 201.91,-40.73\"/>\n",
       "<text text-anchor=\"middle\" x=\"200.85\" y=\"-57.8\" font-family=\"Times,serif\" font-size=\"14.00\">rdf:type</text>\n",
       "</g>\n",
       "<!-- 2 -->\n",
       "<g id=\"node3\" class=\"node\">\n",
       "<title>2</title>\n",
       "<ellipse fill=\"none\" stroke=\"black\" cx=\"431.85\" cy=\"-18\" rx=\"55.79\" ry=\"18\"/>\n",
       "<text text-anchor=\"middle\" x=\"431.85\" y=\"-14.3\" font-family=\"Times,serif\" font-size=\"14.00\">co:France</text>\n",
       "</g>\n",
       "<!-- 3 -->\n",
       "<g id=\"node4\" class=\"node\">\n",
       "<title>3</title>\n",
       "<ellipse fill=\"none\" stroke=\"black\" cx=\"466.85\" cy=\"-105\" rx=\"53.89\" ry=\"18\"/>\n",
       "<text text-anchor=\"middle\" x=\"466.85\" y=\"-101.3\" font-family=\"Times,serif\" font-size=\"14.00\">si:Louvre</text>\n",
       "</g>\n",
       "<!-- 3&#45;&gt;2 -->\n",
       "<g id=\"edge6\" class=\"edge\">\n",
       "<title>3&#45;&gt;2</title>\n",
       "<path fill=\"none\" stroke=\"black\" d=\"M480.31,-87.29C486.62,-77.33 491.61,-64.61 485.85,-54 482.58,-48 477.8,-42.87 472.41,-38.53\"/>\n",
       "<polygon fill=\"black\" stroke=\"black\" points=\"474.37,-35.63 464.18,-32.74 470.34,-41.36 474.37,-35.63\"/>\n",
       "<text text-anchor=\"middle\" x=\"531.35\" y=\"-57.8\" font-family=\"Times,serif\" font-size=\"14.00\">pr:locatedIn</text>\n",
       "</g>\n",
       "<!-- 3&#45;&gt;4 -->\n",
       "<g id=\"edge2\" class=\"edge\">\n",
       "<title>3&#45;&gt;4</title>\n",
       "<path fill=\"none\" stroke=\"black\" d=\"M447.42,-88.16C429.7,-73.73 406.09,-54.59 404.85,-54 369,-37.06 325.06,-28.28 290.98,-23.75\"/>\n",
       "<polygon fill=\"black\" stroke=\"black\" points=\"291.09,-20.24 280.73,-22.48 290.22,-27.19 291.09,-20.24\"/>\n",
       "<text text-anchor=\"middle\" x=\"450.85\" y=\"-57.8\" font-family=\"Times,serif\" font-size=\"14.00\">rdf:type</text>\n",
       "</g>\n",
       "<!-- 5 -->\n",
       "<g id=\"node6\" class=\"node\">\n",
       "<title>5</title>\n",
       "<ellipse fill=\"none\" stroke=\"black\" cx=\"275.85\" cy=\"-105\" rx=\"74.19\" ry=\"18\"/>\n",
       "<text text-anchor=\"middle\" x=\"275.85\" y=\"-101.3\" font-family=\"Times,serif\" font-size=\"14.00\">si:EiffelTower</text>\n",
       "</g>\n",
       "<!-- 5&#45;&gt;2 -->\n",
       "<g id=\"edge1\" class=\"edge\">\n",
       "<title>5&#45;&gt;2</title>\n",
       "<path fill=\"none\" stroke=\"black\" d=\"M286.41,-86.95C293.94,-76.09 304.99,-62.51 317.85,-54 334.6,-42.9 355.04,-35.19 373.97,-29.89\"/>\n",
       "<polygon fill=\"black\" stroke=\"black\" points=\"374.91,-33.26 383.69,-27.33 373.13,-26.49 374.91,-33.26\"/>\n",
       "<text text-anchor=\"middle\" x=\"361.35\" y=\"-57.8\" font-family=\"Times,serif\" font-size=\"14.00\">pr:locatedIn</text>\n",
       "</g>\n",
       "<!-- 5&#45;&gt;4 -->\n",
       "<g id=\"edge5\" class=\"edge\">\n",
       "<title>5&#45;&gt;4</title>\n",
       "<path fill=\"none\" stroke=\"black\" d=\"M251.81,-87.97C245.83,-82.69 240.18,-76.28 236.85,-69 233.7,-62.13 232.58,-54.16 232.46,-46.62\"/>\n",
       "<polygon fill=\"black\" stroke=\"black\" points=\"235.97,-46.56 232.87,-36.42 228.97,-46.27 235.97,-46.56\"/>\n",
       "<text text-anchor=\"middle\" x=\"265.85\" y=\"-57.8\" font-family=\"Times,serif\" font-size=\"14.00\">rdf:type</text>\n",
       "</g>\n",
       "</g>\n",
       "</svg>\n"
      ],
      "text/plain": [
       "<graphviz.graphs.Digraph at 0x7f262c639890>"
      ]
     },
     "metadata": {},
     "output_type": "display_data"
    }
   ],
   "source": [
    "%%rdf turtle -l sights2\n",
    "\n",
    "### YOUR SOLUTION HERE\n",
    "@prefix si: <http://example.org/sights#> .\n",
    "@prefix co: <http://example.org/countries#> .\n",
    "@prefix pr: <http://example.org/properties#> .\n",
    "@prefix cl: <http://example.org/classes#> .\n",
    "@prefix rdf: <http://www.w3.org/1999/02/22-rdf-syntax-ns#> .\n",
    "\n",
    "si:Louvre a cl:Sight ;\n",
    "    pr:locatedIn co:France .\n",
    "\n",
    "si:EiffelTower a cl:Sight ;\n",
    "    pr:locatedIn co:France .\n",
    "\n",
    "si:Colosseum a cl:Sight ;\n",
    "    pr:locatedIn co:Italy .\n"
   ]
  },
  {
   "cell_type": "code",
   "execution_count": 41,
   "metadata": {
    "deletable": false,
    "editable": false,
    "nbgrader": {
     "cell_type": "code",
     "checksum": "68e8df2519e6e8834e8676802861453e",
     "grade": true,
     "grade_id": "cell-083e36ac4704a48b",
     "locked": true,
     "points": 1,
     "schema_version": 3,
     "solution": false,
     "task": false
    }
   },
   "outputs": [],
   "source": [
    "# This test will check whether you defined all mandatory prefixes [1 point]\n",
    "from rdflib import URIRef\n",
    "store = %rdf -r\n",
    "g = store['rdfgraphs'][\"sights2\"]\n",
    "ns = list(g.namespaces())\n",
    "assert(('si', URIRef(\"http://example.org/sights#\")) in ns)\n",
    "assert(('co', URIRef(\"http://example.org/countries#\")) in ns)\n",
    "assert(('pr', URIRef(\"http://example.org/properties#\")) in ns)\n",
    "assert(('cl', URIRef(\"http://example.org/classes#\")) in ns)"
   ]
  },
  {
   "cell_type": "code",
   "execution_count": 42,
   "metadata": {
    "deletable": false,
    "editable": false,
    "nbgrader": {
     "cell_type": "code",
     "checksum": "fff9c6d94f145387b1fe46fa1ceaa3e1",
     "grade": true,
     "grade_id": "cell-cc0cb388f72d175c",
     "locked": true,
     "points": 1,
     "schema_version": 3,
     "solution": false,
     "task": false
    }
   },
   "outputs": [
    {
     "ename": "ValueError",
     "evalue": "Subject http://example.org/sights#EiffelTower is using a full URI instead of a CURIE.",
     "output_type": "error",
     "traceback": [
      "\u001b[0;31m---------------------------------------------------------------------------\u001b[0m",
      "\u001b[0;31mValueError\u001b[0m                                Traceback (most recent call last)",
      "Cell \u001b[0;32mIn[42], line 11\u001b[0m\n\u001b[1;32m      8\u001b[0m \u001b[38;5;28;01mfor\u001b[39;00m s, p, o \u001b[38;5;129;01min\u001b[39;00m g:\n\u001b[1;32m      9\u001b[0m     \u001b[38;5;66;03m# Check if the subject, predicate, or object is using the full URI where a CURIE should be used\u001b[39;00m\n\u001b[1;32m     10\u001b[0m     \u001b[38;5;28;01mif\u001b[39;00m \u001b[38;5;28misinstance\u001b[39m(s, URIRef) \u001b[38;5;129;01mand\u001b[39;00m (\u001b[38;5;28mstr\u001b[39m(s)\u001b[38;5;241m.\u001b[39mstartswith(si_uri) \u001b[38;5;129;01mor\u001b[39;00m \u001b[38;5;28mstr\u001b[39m(s)\u001b[38;5;241m.\u001b[39mstartswith(co_uri) \u001b[38;5;129;01mor\u001b[39;00m \u001b[38;5;28mstr\u001b[39m(s)\u001b[38;5;241m.\u001b[39mstartswith(pr_uri) \u001b[38;5;129;01mor\u001b[39;00m \u001b[38;5;28mstr\u001b[39m(s)\u001b[38;5;241m.\u001b[39mstartswith(cl_uri)):\n\u001b[0;32m---> 11\u001b[0m         \u001b[38;5;28;01mraise\u001b[39;00m \u001b[38;5;167;01mValueError\u001b[39;00m(\u001b[38;5;124mf\u001b[39m\u001b[38;5;124m\"\u001b[39m\u001b[38;5;124mSubject \u001b[39m\u001b[38;5;132;01m{\u001b[39;00ms\u001b[38;5;132;01m}\u001b[39;00m\u001b[38;5;124m is using a full URI instead of a CURIE.\u001b[39m\u001b[38;5;124m\"\u001b[39m)\n\u001b[1;32m     13\u001b[0m     \u001b[38;5;28;01mif\u001b[39;00m \u001b[38;5;28misinstance\u001b[39m(p, URIRef) \u001b[38;5;129;01mand\u001b[39;00m (\u001b[38;5;28mstr\u001b[39m(p)\u001b[38;5;241m.\u001b[39mstartswith(si_uri) \u001b[38;5;129;01mor\u001b[39;00m \u001b[38;5;28mstr\u001b[39m(p)\u001b[38;5;241m.\u001b[39mstartswith(co_uri) \u001b[38;5;129;01mor\u001b[39;00m \u001b[38;5;28mstr\u001b[39m(p)\u001b[38;5;241m.\u001b[39mstartswith(pr_uri) \u001b[38;5;129;01mor\u001b[39;00m \u001b[38;5;28mstr\u001b[39m(p)\u001b[38;5;241m.\u001b[39mstartswith(cl_uri)):\n\u001b[1;32m     14\u001b[0m         \u001b[38;5;28;01mraise\u001b[39;00m \u001b[38;5;167;01mValueError\u001b[39;00m(\u001b[38;5;124mf\u001b[39m\u001b[38;5;124m\"\u001b[39m\u001b[38;5;124mPredicate \u001b[39m\u001b[38;5;132;01m{\u001b[39;00mp\u001b[38;5;132;01m}\u001b[39;00m\u001b[38;5;124m is using a full URI instead of a CURIE.\u001b[39m\u001b[38;5;124m\"\u001b[39m)\n",
      "\u001b[0;31mValueError\u001b[0m: Subject http://example.org/sights#EiffelTower is using a full URI instead of a CURIE."
     ]
    }
   ],
   "source": [
    "# This test will check whether you actually used CURIEs whenever applicable. [1 point]\n",
    "# Check if CURIEs are used whenever applicable\n",
    "si_uri = \"http://example.org/sights#\"\n",
    "co_uri = \"http://example.org/countries#\"\n",
    "pr_uri = \"http://example.org/properties#\"\n",
    "cl_uri = \"http://example.org/classes#\"\n",
    "\n",
    "for s, p, o in g:\n",
    "    # Check if the subject, predicate, or object is using the full URI where a CURIE should be used\n",
    "    if isinstance(s, URIRef) and (str(s).startswith(si_uri) or str(s).startswith(co_uri) or str(s).startswith(pr_uri) or str(s).startswith(cl_uri)):\n",
    "        raise ValueError(f\"Subject {s} is using a full URI instead of a CURIE.\")\n",
    "    \n",
    "    if isinstance(p, URIRef) and (str(p).startswith(si_uri) or str(p).startswith(co_uri) or str(p).startswith(pr_uri) or str(p).startswith(cl_uri)):\n",
    "        raise ValueError(f\"Predicate {p} is using a full URI instead of a CURIE.\")\n",
    "    \n",
    "    if isinstance(o, URIRef) and (str(o).startswith(si_uri) or str(o).startswith(co_uri) or str(o).startswith(pr_uri) or str(o).startswith(cl_uri)):\n",
    "        raise ValueError(f\"Object {o} is using a full URI instead of a CURIE.\")\n",
    "\n",
    "print(\"All CURIEs are used properly!\")\n"
   ]
  },
  {
   "cell_type": "code",
   "execution_count": 26,
   "metadata": {
    "deletable": false,
    "editable": false,
    "nbgrader": {
     "cell_type": "code",
     "checksum": "d5cb6437d567f26d2eb3e5f4c2417704",
     "grade": true,
     "grade_id": "cell-00a42b342af34ba8",
     "locked": true,
     "points": 1,
     "schema_version": 3,
     "solution": false,
     "task": false
    }
   },
   "outputs": [],
   "source": [
    "# This test will check whether the graph is complete and correct. [1 point]\n"
   ]
  },
  {
   "cell_type": "markdown",
   "metadata": {
    "deletable": false,
    "editable": false,
    "nbgrader": {
     "cell_type": "markdown",
     "checksum": "1e367d7fc0c413eab5975e59bab7cc91",
     "grade": false,
     "grade_id": "cell-0020acafde24d970",
     "locked": true,
     "schema_version": 3,
     "solution": false,
     "task": false
    }
   },
   "source": [
    "## Task 2: Literals [3 points]\n",
    "For basic values such as numbers and strings, it is impractical to use URIs. Instead of URIs we use literals. Literals have a datatype, which is string by default. Literals can only be used in the object position of triples and are encased in double quotes (\" \"). An example for a triple with a string literal is:\n",
    "\n",
    "**ex:Germany ex:name \"Deutschland\" .**\n",
    "\n",
    "To specify a *datatype*, it is appended to the literal with *two carets* (^^). A datatype can be an arbitrary URI, but there are some predefined datatypes which should suffice in most cases. These predefined datatypes use the prefix *http://www.w3.org/2001/XMLSchema#*, which is usually abbreviated with *xsd:*. An example for an integer literal:\n",
    "\n",
    "**ex:Germany ex:population \"83042235\"^^xsd:int .**\n",
    "\n",
    "There are also string literals with a specified language. This is useful for names that differ in different languages. To specify a language, we append a two character language tag with an at symbol (@) behind the literal. The literal is then automatically interpreted as a language tagged string (this datatype is never specified explicitly). To express that ex:germany has a different name in english and in german, one would add two triples:\n",
    "\n",
    "**ex:Germany ex:name \"Deutschland\"@de .**  \n",
    "**ex:Germany ex:name \"Germany\"@en .**  \n",
    "\n",
    "Please note that the URI ex:Germany is **not** the same as the literal \"Germany\" and in some cases you can't deduce the name of an entity from the URI (for example www.wikidata.org uses numerical IDs, e.g https://www.wikidata.org/entity/Q1017).\n",
    "\n",
    "### 2a) Austria [3 points]\n",
    "The task is to create an RDF graph about Austria with Turtle. The graph must contain the following information:\n",
    "\n",
    "Austria is called **Österreich** in german (*de*), **Austria** in english (*en*) and **Oostenrijk** in dutch (*nl*). Austria has a population of **8901064** and an area of **83878.99**km². The capital of Austria is Vienna, which is called **Vienna** in english and **Wenen** in dutch.\n",
    "\n",
    "Use the following URIs:  \n",
    "Austria: http://example.org/countries#Austria  \n",
    "Vienna: http://example.org/cities#Vienna  \n",
    "Capital: http://example.org/properties#capital  \n",
    "Area: http://example.org/properties#area  \n",
    "Population: http://example.org/properties#population  \n",
    "Is called: rdfs:label\n",
    "\n",
    "Language tags:\n",
    "\n",
    "| Language | Tag |\n",
    "| --- | --- |\n",
    "| English | en |\n",
    "| German | de |\n",
    "| Dutch | nl |\n",
    "\n",
    "Only use the datatypes **xsd:string**, **rdf:langString**, **xsd:int** and **xsd:float**.\n",
    "\n",
    "Tip: CURIEs do not change the graph but they make the result more readable and less error prone. Use them whenever possible!"
   ]
  },
  {
   "cell_type": "code",
   "execution_count": 27,
   "metadata": {
    "deletable": false,
    "nbgrader": {
     "cell_type": "code",
     "checksum": "8c62a8376c23bfb1ea925a5792b8a3bc",
     "grade": false,
     "grade_id": "cell-3e75579d76831c23",
     "locked": false,
     "schema_version": 3,
     "solution": true,
     "task": false
    }
   },
   "outputs": [
    {
     "data": {
      "image/svg+xml": [
       "<?xml version=\"1.0\" encoding=\"UTF-8\" standalone=\"no\"?>\n",
       "<!DOCTYPE svg PUBLIC \"-//W3C//DTD SVG 1.1//EN\"\n",
       " \"http://www.w3.org/Graphics/SVG/1.1/DTD/svg11.dtd\">\n",
       "<!-- Generated by graphviz version 2.43.0 (0)\n",
       " -->\n",
       "<!-- Title: %3 Pages: 1 -->\n",
       "<svg width=\"975pt\" height=\"218pt\"\n",
       " viewBox=\"0.00 0.00 975.00 218.00\" xmlns=\"http://www.w3.org/2000/svg\" xmlns:xlink=\"http://www.w3.org/1999/xlink\">\n",
       "<g id=\"graph0\" class=\"graph\" transform=\"scale(1 1) rotate(0) translate(4 214)\">\n",
       "<title>%3</title>\n",
       "<polygon fill=\"white\" stroke=\"transparent\" points=\"-4,4 -4,-214 971,-214 971,4 -4,4\"/>\n",
       "<!-- 0 -->\n",
       "<g id=\"node1\" class=\"node\">\n",
       "<title>0</title>\n",
       "<polygon fill=\"none\" stroke=\"black\" points=\"534,-36 428,-36 428,0 534,0 534,-36\"/>\n",
       "<text text-anchor=\"middle\" x=\"481\" y=\"-14.3\" font-family=\"Times,serif\" font-size=\"14.00\">&quot;Wenen&quot;@nl</text>\n",
       "</g>\n",
       "<!-- 1 -->\n",
       "<g id=\"node2\" class=\"node\">\n",
       "<title>1</title>\n",
       "<polygon fill=\"none\" stroke=\"black\" points=\"662,-36 552,-36 552,0 662,0 662,-36\"/>\n",
       "<text text-anchor=\"middle\" x=\"607\" y=\"-14.3\" font-family=\"Times,serif\" font-size=\"14.00\">&quot;Vienna&quot;@en</text>\n",
       "</g>\n",
       "<!-- 2 -->\n",
       "<g id=\"node3\" class=\"node\">\n",
       "<title>2</title>\n",
       "<polygon fill=\"none\" stroke=\"black\" points=\"166,-123 0,-123 0,-87 166,-87 166,-123\"/>\n",
       "<text text-anchor=\"middle\" x=\"83\" y=\"-101.3\" font-family=\"Times,serif\" font-size=\"14.00\">&quot;8901064&quot;^^xsd:int</text>\n",
       "</g>\n",
       "<!-- 3 -->\n",
       "<g id=\"node4\" class=\"node\">\n",
       "<title>3</title>\n",
       "<polygon fill=\"none\" stroke=\"black\" points=\"297.5,-123 184.5,-123 184.5,-87 297.5,-87 297.5,-123\"/>\n",
       "<text text-anchor=\"middle\" x=\"241\" y=\"-101.3\" font-family=\"Times,serif\" font-size=\"14.00\">&quot;Austria&quot;@en</text>\n",
       "</g>\n",
       "<!-- 4 -->\n",
       "<g id=\"node5\" class=\"node\">\n",
       "<title>4</title>\n",
       "<polygon fill=\"none\" stroke=\"black\" points=\"452.5,-123 315.5,-123 315.5,-87 452.5,-87 452.5,-123\"/>\n",
       "<text text-anchor=\"middle\" x=\"384\" y=\"-101.3\" font-family=\"Times,serif\" font-size=\"14.00\">&quot;Österreich&quot;@de</text>\n",
       "</g>\n",
       "<!-- 5 -->\n",
       "<g id=\"node6\" class=\"node\">\n",
       "<title>5</title>\n",
       "<ellipse fill=\"none\" stroke=\"black\" cx=\"544\" cy=\"-105\" rx=\"73.39\" ry=\"18\"/>\n",
       "<text text-anchor=\"middle\" x=\"544\" y=\"-101.3\" font-family=\"Times,serif\" font-size=\"14.00\">excity:Vienna</text>\n",
       "</g>\n",
       "<!-- 5&#45;&gt;0 -->\n",
       "<g id=\"edge5\" class=\"edge\">\n",
       "<title>5&#45;&gt;0</title>\n",
       "<path fill=\"none\" stroke=\"black\" d=\"M519.03,-87.88C512.16,-82.52 505.18,-76.09 500,-69 494.99,-62.15 491.14,-53.81 488.25,-45.93\"/>\n",
       "<polygon fill=\"black\" stroke=\"black\" points=\"491.55,-44.74 485.1,-36.33 484.9,-46.92 491.55,-44.74\"/>\n",
       "<text text-anchor=\"middle\" x=\"534\" y=\"-57.8\" font-family=\"Times,serif\" font-size=\"14.00\">rdfs:label</text>\n",
       "</g>\n",
       "<!-- 5&#45;&gt;1 -->\n",
       "<g id=\"edge3\" class=\"edge\">\n",
       "<title>5&#45;&gt;1</title>\n",
       "<path fill=\"none\" stroke=\"black\" d=\"M556.45,-87.21C565.53,-74.95 578.01,-58.11 588.29,-44.24\"/>\n",
       "<polygon fill=\"black\" stroke=\"black\" points=\"591.22,-46.17 594.36,-36.05 585.6,-42 591.22,-46.17\"/>\n",
       "<text text-anchor=\"middle\" x=\"614\" y=\"-57.8\" font-family=\"Times,serif\" font-size=\"14.00\">rdfs:label</text>\n",
       "</g>\n",
       "<!-- 6 -->\n",
       "<g id=\"node7\" class=\"node\">\n",
       "<title>6</title>\n",
       "<polygon fill=\"none\" stroke=\"black\" points=\"817,-123 635,-123 635,-87 817,-87 817,-123\"/>\n",
       "<text text-anchor=\"middle\" x=\"726\" y=\"-101.3\" font-family=\"Times,serif\" font-size=\"14.00\">&quot;83878.99&quot;^^xsd:float</text>\n",
       "</g>\n",
       "<!-- 7 -->\n",
       "<g id=\"node8\" class=\"node\">\n",
       "<title>7</title>\n",
       "<ellipse fill=\"none\" stroke=\"black\" cx=\"464\" cy=\"-192\" rx=\"57.69\" ry=\"18\"/>\n",
       "<text text-anchor=\"middle\" x=\"464\" y=\"-188.3\" font-family=\"Times,serif\" font-size=\"14.00\">ex:Austria</text>\n",
       "</g>\n",
       "<!-- 7&#45;&gt;2 -->\n",
       "<g id=\"edge6\" class=\"edge\">\n",
       "<title>7&#45;&gt;2</title>\n",
       "<path fill=\"none\" stroke=\"black\" d=\"M406.16,-190.91C345.78,-189.26 249.04,-182.2 170,-156 150.79,-149.63 131.09,-138.74 115.31,-128.75\"/>\n",
       "<polygon fill=\"black\" stroke=\"black\" points=\"116.79,-125.54 106.5,-123.01 112.97,-131.4 116.79,-125.54\"/>\n",
       "<text text-anchor=\"middle\" x=\"235\" y=\"-144.8\" font-family=\"Times,serif\" font-size=\"14.00\">exprop:population</text>\n",
       "</g>\n",
       "<!-- 7&#45;&gt;3 -->\n",
       "<g id=\"edge8\" class=\"edge\">\n",
       "<title>7&#45;&gt;3</title>\n",
       "<path fill=\"none\" stroke=\"black\" d=\"M417.9,-180.97C393.19,-174.95 362.47,-166.44 336,-156 316.54,-148.33 295.89,-137.77 278.83,-128.34\"/>\n",
       "<polygon fill=\"black\" stroke=\"black\" points=\"280.18,-125.08 269.75,-123.24 276.75,-131.19 280.18,-125.08\"/>\n",
       "<text text-anchor=\"middle\" x=\"370\" y=\"-144.8\" font-family=\"Times,serif\" font-size=\"14.00\">rdfs:label</text>\n",
       "</g>\n",
       "<!-- 7&#45;&gt;4 -->\n",
       "<g id=\"edge1\" class=\"edge\">\n",
       "<title>7&#45;&gt;4</title>\n",
       "<path fill=\"none\" stroke=\"black\" d=\"M441.5,-175.02C434.27,-169.4 426.47,-162.78 420,-156 412.95,-148.61 406.16,-139.78 400.4,-131.61\"/>\n",
       "<polygon fill=\"black\" stroke=\"black\" points=\"403.13,-129.39 394.61,-123.1 397.34,-133.33 403.13,-129.39\"/>\n",
       "<text text-anchor=\"middle\" x=\"454\" y=\"-144.8\" font-family=\"Times,serif\" font-size=\"14.00\">rdfs:label</text>\n",
       "</g>\n",
       "<!-- 7&#45;&gt;5 -->\n",
       "<g id=\"edge4\" class=\"edge\">\n",
       "<title>7&#45;&gt;5</title>\n",
       "<path fill=\"none\" stroke=\"black\" d=\"M479.42,-174.61C491.3,-161.99 507.9,-144.36 521.29,-130.13\"/>\n",
       "<polygon fill=\"black\" stroke=\"black\" points=\"524.04,-132.31 528.35,-122.63 518.95,-127.51 524.04,-132.31\"/>\n",
       "<text text-anchor=\"middle\" x=\"560.5\" y=\"-144.8\" font-family=\"Times,serif\" font-size=\"14.00\">exprop:capital</text>\n",
       "</g>\n",
       "<!-- 7&#45;&gt;6 -->\n",
       "<g id=\"edge7\" class=\"edge\">\n",
       "<title>7&#45;&gt;6</title>\n",
       "<path fill=\"none\" stroke=\"black\" d=\"M512.95,-182.32C543.09,-176.34 582.27,-167.42 616,-156 638.98,-148.22 663.66,-137.26 683.8,-127.58\"/>\n",
       "<polygon fill=\"black\" stroke=\"black\" points=\"685.55,-130.63 693,-123.1 682.48,-124.33 685.55,-130.63\"/>\n",
       "<text text-anchor=\"middle\" x=\"697\" y=\"-144.8\" font-family=\"Times,serif\" font-size=\"14.00\">exprop:area</text>\n",
       "</g>\n",
       "<!-- 8 -->\n",
       "<g id=\"node9\" class=\"node\">\n",
       "<title>8</title>\n",
       "<polygon fill=\"none\" stroke=\"black\" points=\"967,-123 835,-123 835,-87 967,-87 967,-123\"/>\n",
       "<text text-anchor=\"middle\" x=\"901\" y=\"-101.3\" font-family=\"Times,serif\" font-size=\"14.00\">&quot;Oostenrijk&quot;@nl</text>\n",
       "</g>\n",
       "<!-- 7&#45;&gt;8 -->\n",
       "<g id=\"edge2\" class=\"edge\">\n",
       "<title>7&#45;&gt;8</title>\n",
       "<path fill=\"none\" stroke=\"black\" d=\"M519.76,-187.07C576.64,-182.35 667.2,-172.88 744,-156 778.26,-148.47 815.73,-136.68 845.47,-126.44\"/>\n",
       "<polygon fill=\"black\" stroke=\"black\" points=\"846.95,-129.63 855.24,-123.03 844.64,-123.02 846.95,-129.63\"/>\n",
       "<text text-anchor=\"middle\" x=\"830\" y=\"-144.8\" font-family=\"Times,serif\" font-size=\"14.00\">rdfs:label</text>\n",
       "</g>\n",
       "</g>\n",
       "</svg>\n"
      ],
      "text/plain": [
       "<graphviz.graphs.Digraph at 0x7f262c7e4bd0>"
      ]
     },
     "metadata": {},
     "output_type": "display_data"
    }
   ],
   "source": [
    "%%rdf turtle -l literals\n",
    "@prefix rdf: <http://www.w3.org/1999/02/22-rdf-syntax-ns#> .\n",
    "@prefix rdfs: <http://www.w3.org/2000/01/rdf-schema#> .\n",
    "@prefix xsd: <http://www.w3.org/2001/XMLSchema#> .\n",
    "### YOUR SOLUTION HERE\n",
    "@prefix ex: <http://example.org/countries#> .\n",
    "@prefix exprop: <http://example.org/properties#> .\n",
    "@prefix excity: <http://example.org/cities#> .\n",
    "\n",
    "# Austria details\n",
    "ex:Austria\n",
    "    rdfs:label \"Österreich\"@de ;\n",
    "    rdfs:label \"Austria\"@en ;\n",
    "    rdfs:label \"Oostenrijk\"@nl ;\n",
    "    exprop:population \"8901064\"^^xsd:int ;\n",
    "    exprop:area \"83878.99\"^^xsd:float ;\n",
    "    exprop:capital excity:Vienna .\n",
    "\n",
    "# Vienna details\n",
    "excity:Vienna\n",
    "    rdfs:label \"Vienna\"@en ;\n",
    "    rdfs:label \"Wenen\"@nl .\n"
   ]
  },
  {
   "cell_type": "code",
   "execution_count": 28,
   "metadata": {
    "deletable": false,
    "editable": false,
    "nbgrader": {
     "cell_type": "code",
     "checksum": "6397a553fe3cc0f07fd3d6a25e7c9039",
     "grade": true,
     "grade_id": "cell-ec4e45a2d27a7d3f",
     "locked": true,
     "points": 1,
     "schema_version": 3,
     "solution": false,
     "task": false
    }
   },
   "outputs": [],
   "source": [
    "# This test will check whether your graph contains the facts (even if their datatype,value or quantity is wrong). [1 point]\n",
    "from rdflib import URIRef\n",
    "store = %rdf -r\n",
    "g = store['rdfgraphs'][\"literals\"]\n",
    "ex = \"http://example.org/{}\"\n",
    "au = URIRef(ex.format(\"countries#Austria\"))\n",
    "pop = URIRef(ex.format(\"properties#population\"))\n",
    "vi = URIRef(ex.format(\"cities#Vienna\"))\n",
    "lab = URIRef(\"http://www.w3.org/2000/01/rdf-schema#label\")\n",
    "err = \"The graph does not contain information about {}.\"\n",
    "assert (au, pop, None) in g, err.format(\"Austria's population\")\n",
    "assert (vi, lab, None) in g, err.format(\"Vienna's name\")\n",
    "assert (au, lab, None) in g, err.format(\"Austria's name\")"
   ]
  },
  {
   "cell_type": "code",
   "execution_count": 29,
   "metadata": {
    "deletable": false,
    "editable": false,
    "nbgrader": {
     "cell_type": "code",
     "checksum": "b79443c2944aaf80b0b6477819509040",
     "grade": true,
     "grade_id": "cell-ee0f15f19acfbd0d",
     "locked": true,
     "points": 1,
     "schema_version": 3,
     "solution": false,
     "task": false
    }
   },
   "outputs": [
    {
     "name": "stdout",
     "output_type": "stream",
     "text": [
      "All tests passed.\n"
     ]
    }
   ],
   "source": [
    "from rdflib import Literal, Namespace\n",
    "\n",
    "xsd = Namespace(\"http://www.w3.org/2001/XMLSchema#\")\n",
    "\n",
    "# This test will check whether your graph contains the correct datatypes. [1 point]\n",
    "err = \"The datatype of {} is not correct.\"\n",
    "assert (Literal(\"8901064\", datatype=xsd.int) in g.objects(au, pop)), err.format(\"Austria's population\")\n",
    "assert (Literal(\"83878.99\", datatype=xsd.float) in g.objects(au, URIRef(ex.format(\"properties#area\")))), err.format(\"Austria's area\")\n",
    "\n",
    "print(\"All tests passed.\")"
   ]
  },
  {
   "cell_type": "code",
   "execution_count": 30,
   "metadata": {
    "deletable": false,
    "editable": false,
    "nbgrader": {
     "cell_type": "code",
     "checksum": "b21e637e389b94cd11d86080a8021185",
     "grade": true,
     "grade_id": "cell-d8cbac1ebdcccb0f",
     "locked": true,
     "points": 1,
     "schema_version": 3,
     "solution": false,
     "task": false
    }
   },
   "outputs": [
    {
     "name": "stdout",
     "output_type": "stream",
     "text": [
      "All tests passed.\n"
     ]
    }
   ],
   "source": [
    "# This test will check whether your graph contains all language tagged literals. [1 point]\n",
    "err = \"The graph is missing the following language tagged literal: {}\"\n",
    "assert (Literal(\"Österreich\", lang=\"de\") in g.objects(au, lab)), err.format(\"Austria's name in German\")\n",
    "assert (Literal(\"Austria\", lang=\"en\") in g.objects(au, lab)), err.format(\"Austria's name in English\")\n",
    "assert (Literal(\"Oostenrijk\", lang=\"nl\") in g.objects(au, lab)), err.format(\"Austria's name in Dutch\")\n",
    "assert (Literal(\"Vienna\", lang=\"en\") in g.objects(vi, lab)), err.format(\"Vienna's name in English\")\n",
    "assert (Literal(\"Wenen\", lang=\"nl\") in g.objects(vi, lab)), err.format(\"Vienna's name in Dutch\")\n",
    "\n",
    "print(\"All tests passed.\")"
   ]
  },
  {
   "cell_type": "markdown",
   "metadata": {
    "deletable": false,
    "editable": false,
    "nbgrader": {
     "cell_type": "markdown",
     "checksum": "0985abaabe7ae9b9c90ca5b7ccfd0c18",
     "grade": false,
     "grade_id": "cell-d95a51a59335c2de",
     "locked": true,
     "schema_version": 3,
     "solution": false,
     "task": false
    }
   },
   "source": [
    "## Task 3: Blank Nodes [3 points]\n",
    "Sometimes resources do not or should not have an identifier but still stand in relation to other resources. These anonymous resources are represented by blank nodes in RDF graphs. In Turtle, blank nodes are are represented with an underscore followed by a colon and an identifier (\\_:identifier). The purpose of the identifier is to be able to locally reference the anonymous resource multiple times. Even if two blank nodes in different graphs use the same identifier, they usually reference a different resource. For example, when you want to express that you know someone who is a professor but doesn't have an identifier and there is someone else you don't know who is also a professor, you do it like this:\n",
    "\n",
    "**ex:me ex:knows \\_:1 .  \n",
    "\\_:1 rdf:type ex:professor .  \n",
    "\\_:2 rdf:type ex:professor .**\n",
    "\n",
    "You know \\_:1 but don't know \\_:2 but they are both professors.\n",
    "\n",
    "Additionally, blank nodes are often used to represent n-ary relations. For example, a grading that needs to have a grade and a grader can be expressed like this:\n",
    "\n",
    "**ex:student ex:grading \\_:1 .  \n",
    "\\_:1 ex:grade \"1.0\" .  \n",
    "\\_:1 ex:grader ex:professor .**\n",
    "\n",
    "**Syntactic sugar:**  \n",
    "To make this more readable, you can instead use square brackets (\\[ \\]) and every predicate-object-combination in between the square brackets will reference the same blank node. The grade example would then look like this:\n",
    "\n",
    "**ex:student ex:grading \\[  \n",
    "&nbsp;&nbsp;&nbsp;&nbsp;ex:grade \"1.0\" ;  \n",
    "&nbsp;&nbsp;&nbsp;&nbsp;ex:grader ex:professor  \n",
    "\\] .**\n",
    "\n",
    "Note that we must use semicolons and commas in between the brackets (see syntactic sugar at top of assignment) and there is still a period after the brackets.\n",
    "\n",
    "Also Note that the blank node identifier is exchangable as long as we use the same one when referencing the same node. That is why the bracket notation does not need an identifier.\n",
    "\n",
    "### 3a) I know someone who lives somewhere [3 points]\n",
    "Create an RDF graph using turtle that expresses the following:  \n",
    "You, a person without an identifier, knows another person without an identifier, who lives at the following address:\n",
    "\n",
    "Street: Templergraben  \n",
    "House number: 55  \n",
    "Postal code: 52062  \n",
    "City: Aachen\n",
    "\n",
    "Use the following URIs:  \n",
    "Type: rdf:type  \n",
    "Knows: foaf:knows  \n",
    "Person: http://example.org/classes#Person  \n",
    "Address: http://example.org/properties#address  \n",
    "Street: http://example.org/properties#street  \n",
    "House number: http://example.org/properties#houseNumber  \n",
    "Postal code: http://example.org/properties#postalCode  \n",
    "City: http://example.org/properties#city  \n",
    "\n",
    "Hint: use an n-ary relation for the address.\n",
    "\n",
    "**Use only string literals without language tags.**"
   ]
  },
  {
   "cell_type": "code",
   "execution_count": 31,
   "metadata": {
    "deletable": false,
    "nbgrader": {
     "cell_type": "code",
     "checksum": "79a506cd3eb3e91d9e2ea74a90ba5570",
     "grade": false,
     "grade_id": "cell-865f7b3dbf506688",
     "locked": false,
     "schema_version": 3,
     "solution": true,
     "task": false
    }
   },
   "outputs": [
    {
     "data": {
      "image/svg+xml": [
       "<?xml version=\"1.0\" encoding=\"UTF-8\" standalone=\"no\"?>\n",
       "<!DOCTYPE svg PUBLIC \"-//W3C//DTD SVG 1.1//EN\"\n",
       " \"http://www.w3.org/Graphics/SVG/1.1/DTD/svg11.dtd\">\n",
       "<!-- Generated by graphviz version 2.43.0 (0)\n",
       " -->\n",
       "<!-- Title: %3 Pages: 1 -->\n",
       "<svg width=\"473pt\" height=\"305pt\"\n",
       " viewBox=\"0.00 0.00 473.00 305.00\" xmlns=\"http://www.w3.org/2000/svg\" xmlns:xlink=\"http://www.w3.org/1999/xlink\">\n",
       "<g id=\"graph0\" class=\"graph\" transform=\"scale(1 1) rotate(0) translate(4 301)\">\n",
       "<title>%3</title>\n",
       "<polygon fill=\"white\" stroke=\"transparent\" points=\"-4,4 -4,-301 469,-301 469,4 -4,4\"/>\n",
       "<!-- 0 -->\n",
       "<g id=\"node1\" class=\"node\">\n",
       "<title>0</title>\n",
       "<ellipse fill=\"none\" stroke=\"black\" cx=\"233\" cy=\"-105\" rx=\"36\" ry=\"18\"/>\n",
       "<text text-anchor=\"middle\" x=\"233\" y=\"-101.3\" font-family=\"Times,serif\" font-size=\"14.00\">_:bn0</text>\n",
       "</g>\n",
       "<!-- 2 -->\n",
       "<g id=\"node3\" class=\"node\">\n",
       "<title>2</title>\n",
       "<polygon fill=\"none\" stroke=\"black\" points=\"54,-36 0,-36 0,0 54,0 54,-36\"/>\n",
       "<text text-anchor=\"middle\" x=\"27\" y=\"-14.3\" font-family=\"Times,serif\" font-size=\"14.00\">&quot;55&quot;</text>\n",
       "</g>\n",
       "<!-- 0&#45;&gt;2 -->\n",
       "<g id=\"edge4\" class=\"edge\">\n",
       "<title>0&#45;&gt;2</title>\n",
       "<path fill=\"none\" stroke=\"black\" d=\"M197.6,-102.06C148.28,-98.63 62.41,-89.79 40,-69 33.64,-63.1 30.23,-54.53 28.45,-46.14\"/>\n",
       "<polygon fill=\"black\" stroke=\"black\" points=\"31.91,-45.58 27,-36.19 24.98,-46.59 31.91,-45.58\"/>\n",
       "<text text-anchor=\"middle\" x=\"100.5\" y=\"-57.8\" font-family=\"Times,serif\" font-size=\"14.00\">pr:houseNumber</text>\n",
       "</g>\n",
       "<!-- 4 -->\n",
       "<g id=\"node5\" class=\"node\">\n",
       "<title>4</title>\n",
       "<polygon fill=\"none\" stroke=\"black\" points=\"207.5,-36 132.5,-36 132.5,0 207.5,0 207.5,-36\"/>\n",
       "<text text-anchor=\"middle\" x=\"170\" y=\"-14.3\" font-family=\"Times,serif\" font-size=\"14.00\">&quot;52062&quot;</text>\n",
       "</g>\n",
       "<!-- 0&#45;&gt;4 -->\n",
       "<g id=\"edge7\" class=\"edge\">\n",
       "<title>0&#45;&gt;4</title>\n",
       "<path fill=\"none\" stroke=\"black\" d=\"M202.9,-95.24C190.1,-89.86 176.43,-81.53 169,-69 165.04,-62.33 163.97,-54.22 164.25,-46.49\"/>\n",
       "<polygon fill=\"black\" stroke=\"black\" points=\"167.75,-46.67 165.33,-36.36 160.79,-45.93 167.75,-46.67\"/>\n",
       "<text text-anchor=\"middle\" x=\"219\" y=\"-57.8\" font-family=\"Times,serif\" font-size=\"14.00\">pr:postalCode</text>\n",
       "</g>\n",
       "<!-- 6 -->\n",
       "<g id=\"node7\" class=\"node\">\n",
       "<title>6</title>\n",
       "<polygon fill=\"none\" stroke=\"black\" points=\"364.5,-36 225.5,-36 225.5,0 364.5,0 364.5,-36\"/>\n",
       "<text text-anchor=\"middle\" x=\"295\" y=\"-14.3\" font-family=\"Times,serif\" font-size=\"14.00\">&quot;Templergraben&quot;</text>\n",
       "</g>\n",
       "<!-- 0&#45;&gt;6 -->\n",
       "<g id=\"edge3\" class=\"edge\">\n",
       "<title>0&#45;&gt;6</title>\n",
       "<path fill=\"none\" stroke=\"black\" d=\"M252.55,-89.82C259.65,-83.96 267.32,-76.74 273,-69 278.19,-61.93 282.5,-53.45 285.88,-45.5\"/>\n",
       "<polygon fill=\"black\" stroke=\"black\" points=\"289.14,-46.78 289.56,-36.19 282.63,-44.21 289.14,-46.78\"/>\n",
       "<text text-anchor=\"middle\" x=\"314\" y=\"-57.8\" font-family=\"Times,serif\" font-size=\"14.00\">pr:street</text>\n",
       "</g>\n",
       "<!-- 7 -->\n",
       "<g id=\"node8\" class=\"node\">\n",
       "<title>7</title>\n",
       "<polygon fill=\"none\" stroke=\"black\" points=\"465,-36 383,-36 383,0 465,0 465,-36\"/>\n",
       "<text text-anchor=\"middle\" x=\"424\" y=\"-14.3\" font-family=\"Times,serif\" font-size=\"14.00\">&quot;Aachen&quot;</text>\n",
       "</g>\n",
       "<!-- 0&#45;&gt;7 -->\n",
       "<g id=\"edge1\" class=\"edge\">\n",
       "<title>0&#45;&gt;7</title>\n",
       "<path fill=\"none\" stroke=\"black\" d=\"M265.25,-97.15C289.3,-91.38 322.6,-81.98 350,-69 365.4,-61.7 381.22,-51.45 394.26,-42.13\"/>\n",
       "<polygon fill=\"black\" stroke=\"black\" points=\"396.39,-44.91 402.39,-36.18 392.26,-39.26 396.39,-44.91\"/>\n",
       "<text text-anchor=\"middle\" x=\"399.5\" y=\"-57.8\" font-family=\"Times,serif\" font-size=\"14.00\">pr:city</text>\n",
       "</g>\n",
       "<!-- 1 -->\n",
       "<g id=\"node2\" class=\"node\">\n",
       "<title>1</title>\n",
       "<ellipse fill=\"none\" stroke=\"black\" cx=\"314\" cy=\"-192\" rx=\"36\" ry=\"18\"/>\n",
       "<text text-anchor=\"middle\" x=\"314\" y=\"-188.3\" font-family=\"Times,serif\" font-size=\"14.00\">_:bn1</text>\n",
       "</g>\n",
       "<!-- 1&#45;&gt;0 -->\n",
       "<g id=\"edge5\" class=\"edge\">\n",
       "<title>1&#45;&gt;0</title>\n",
       "<path fill=\"none\" stroke=\"black\" d=\"M283.68,-182.16C269.99,-176.7 254.74,-168.33 245,-156 239.92,-149.57 236.94,-141.32 235.21,-133.39\"/>\n",
       "<polygon fill=\"black\" stroke=\"black\" points=\"238.63,-132.63 233.58,-123.32 231.72,-133.75 238.63,-132.63\"/>\n",
       "<text text-anchor=\"middle\" x=\"283.5\" y=\"-144.8\" font-family=\"Times,serif\" font-size=\"14.00\">pr:address</text>\n",
       "</g>\n",
       "<!-- 3 -->\n",
       "<g id=\"node4\" class=\"node\">\n",
       "<title>3</title>\n",
       "<ellipse fill=\"none\" stroke=\"black\" cx=\"374\" cy=\"-105\" rx=\"55.79\" ry=\"18\"/>\n",
       "<text text-anchor=\"middle\" x=\"374\" y=\"-101.3\" font-family=\"Times,serif\" font-size=\"14.00\">ex:Person</text>\n",
       "</g>\n",
       "<!-- 1&#45;&gt;3 -->\n",
       "<g id=\"edge6\" class=\"edge\">\n",
       "<title>1&#45;&gt;3</title>\n",
       "<path fill=\"none\" stroke=\"black\" d=\"M318.66,-173.79C321.93,-163.66 326.98,-150.92 334,-141 337.05,-136.69 340.75,-132.55 344.63,-128.73\"/>\n",
       "<polygon fill=\"black\" stroke=\"black\" points=\"347.2,-131.12 352.24,-121.8 342.49,-125.95 347.2,-131.12\"/>\n",
       "<text text-anchor=\"middle\" x=\"363\" y=\"-144.8\" font-family=\"Times,serif\" font-size=\"14.00\">rdf:type</text>\n",
       "</g>\n",
       "<!-- 5 -->\n",
       "<g id=\"node6\" class=\"node\">\n",
       "<title>5</title>\n",
       "<ellipse fill=\"none\" stroke=\"black\" cx=\"360\" cy=\"-279\" rx=\"36\" ry=\"18\"/>\n",
       "<text text-anchor=\"middle\" x=\"360\" y=\"-275.3\" font-family=\"Times,serif\" font-size=\"14.00\">_:bn2</text>\n",
       "</g>\n",
       "<!-- 5&#45;&gt;1 -->\n",
       "<g id=\"edge2\" class=\"edge\">\n",
       "<title>5&#45;&gt;1</title>\n",
       "<path fill=\"none\" stroke=\"black\" d=\"M336.13,-265.37C327.91,-259.7 319.61,-252.2 315,-243 311.52,-236.06 310.35,-227.88 310.3,-220.16\"/>\n",
       "<polygon fill=\"black\" stroke=\"black\" points=\"313.8,-220.25 310.81,-210.08 306.81,-219.89 313.8,-220.25\"/>\n",
       "<text text-anchor=\"middle\" x=\"353.5\" y=\"-231.8\" font-family=\"Times,serif\" font-size=\"14.00\">foaf:knows</text>\n",
       "</g>\n",
       "<!-- 5&#45;&gt;3 -->\n",
       "<g id=\"edge8\" class=\"edge\">\n",
       "<title>5&#45;&gt;3</title>\n",
       "<path fill=\"none\" stroke=\"black\" d=\"M377.85,-263.4C383.49,-257.69 389.02,-250.68 392,-243 408.41,-200.74 402.67,-185.06 392,-141 391.27,-137.98 390.23,-134.92 389.01,-131.94\"/>\n",
       "<polygon fill=\"black\" stroke=\"black\" points=\"392.13,-130.35 384.69,-122.81 385.8,-133.34 392.13,-130.35\"/>\n",
       "<text text-anchor=\"middle\" x=\"431\" y=\"-188.3\" font-family=\"Times,serif\" font-size=\"14.00\">rdf:type</text>\n",
       "</g>\n",
       "</g>\n",
       "</svg>\n"
      ],
      "text/plain": [
       "<graphviz.graphs.Digraph at 0x7f262c657d10>"
      ]
     },
     "metadata": {},
     "output_type": "display_data"
    }
   ],
   "source": [
    "%%rdf turtle -l bnodes\n",
    "@prefix rdf: <http://www.w3.org/1999/02/22-rdf-syntax-ns#> .\n",
    "@prefix foaf: <http://xmlns.com/foaf/0.1/> .\n",
    "@prefix xsd: <http://www.w3.org/2001/XMLSchema#> .\n",
    "@prefix pr: <http://example.org/properties#> .\n",
    "@prefix ex: <http://example.org/classes#> .\n",
    "### YOUR SOLUTION HERE\n",
    "# You, an anonymous person\n",
    "[] rdf:type ex:Person ;\n",
    "    foaf:knows [\n",
    "        rdf:type ex:Person ;\n",
    "        pr:address [\n",
    "            pr:street \"Templergraben\" ;\n",
    "            pr:houseNumber \"55\" ;\n",
    "            pr:postalCode \"52062\" ;\n",
    "            pr:city \"Aachen\"\n",
    "        ]\n",
    "    ] .\n",
    "\n"
   ]
  },
  {
   "cell_type": "code",
   "execution_count": 45,
   "metadata": {
    "deletable": false,
    "editable": false,
    "nbgrader": {
     "cell_type": "code",
     "checksum": "215d24621daf48fb93b6f86a8239841f",
     "grade": true,
     "grade_id": "cell-c99512ff1812ee4d",
     "locked": true,
     "points": 1,
     "schema_version": 3,
     "solution": false,
     "task": false
    }
   },
   "outputs": [
    {
     "name": "stdout",
     "output_type": "stream",
     "text": [
      "Test passed: An anonymous person knows another anonymous person.\n"
     ]
    }
   ],
   "source": [
    "# This test will check whether there is an anonymous person that knows another anonymous person. [1 point]\n",
    "\n",
    "from rdflib import Graph, URIRef, BNode, Namespace\n",
    "from rdflib.namespace import RDF\n",
    "\n",
    "# Assuming you already have your RDF graph loaded\n",
    "store = %rdf -r\n",
    "g = store['rdfgraphs'][\"bnodes\"]\n",
    "\n",
    "# Namespaces\n",
    "EX = Namespace(\"http://example.org/classes#\")\n",
    "FOAF = Namespace(\"http://xmlns.com/foaf/0.1/\")\n",
    "PR = Namespace(\"http://example.org/properties#\")\n",
    "\n",
    "# Test function\n",
    "def test_anonymous_person_knows_another_anonymous_person(g):\n",
    "    # Iterate through all triples in the graph\n",
    "    found = False\n",
    "    for s, p, o in g.triples((None, FOAF.knows, None)):\n",
    "        # Check if the subject is a blank node\n",
    "        if isinstance(s, BNode) and isinstance(o, BNode):\n",
    "            # Check if the object is also a blank node\n",
    "            if (s, RDF.type, EX.Person) in g and (o, RDF.type, EX.Person) in g:\n",
    "                found = True\n",
    "                break\n",
    "    assert found, \"No anonymous person that knows another anonymous person found.\"\n",
    "\n",
    "# Run the test\n",
    "test_anonymous_person_knows_another_anonymous_person(g)\n",
    "\n",
    "print(\"Test passed: An anonymous person knows another anonymous person.\")\n"
   ]
  },
  {
   "cell_type": "code",
   "execution_count": 46,
   "metadata": {
    "deletable": false,
    "editable": false,
    "nbgrader": {
     "cell_type": "code",
     "checksum": "4fed1f72fcd8f0716d453131de412727",
     "grade": true,
     "grade_id": "cell-34bb05ce1f74e4e4",
     "locked": true,
     "points": 1,
     "schema_version": 3,
     "solution": false,
     "task": false
    }
   },
   "outputs": [
    {
     "name": "stdout",
     "output_type": "stream",
     "text": [
      "Test passed: An anonymous entity with an n-ary address was found.\n"
     ]
    }
   ],
   "source": [
    "# This test will check whether there is an anonymous entity with an n-ary address. [1 point]\n",
    "def test_anonymous_entity_with_nary_address(g):\n",
    "    # Iterate through all triples in the graph to find blank nodes\n",
    "    found = False\n",
    "    for s in g.subjects(RDF.type, EX.Person):\n",
    "        if isinstance(s, BNode):  # Check if the subject is a blank node\n",
    "            # Check if this blank node (person) has an address that is also a blank node\n",
    "            for o in g.objects(s, PR.address):\n",
    "                if isinstance(o, BNode):\n",
    "                    # Check for the required properties in the n-ary address\n",
    "                    if (o, PR.street, Literal(\"Templergraben\")) in g and \\\n",
    "                       (o, PR.houseNumber, Literal(\"55\")) in g and \\\n",
    "                       (o, PR.postalCode, Literal(\"52062\")) in g and \\\n",
    "                       (o, PR.city, Literal(\"Aachen\")) in g:\n",
    "                        found = True\n",
    "                        break\n",
    "        if found:\n",
    "            break\n",
    "    \n",
    "    assert found, \"No anonymous entity with an n-ary address found.\"\n",
    "\n",
    "# Run the test\n",
    "test_anonymous_entity_with_nary_address(g)\n",
    "\n",
    "print(\"Test passed: An anonymous entity with an n-ary address was found.\")"
   ]
  },
  {
   "cell_type": "code",
   "execution_count": 47,
   "metadata": {
    "deletable": false,
    "editable": false,
    "nbgrader": {
     "cell_type": "code",
     "checksum": "111a0c7bc027a0cebaf090b53c52ef58",
     "grade": true,
     "grade_id": "cell-b317826a68e2bede",
     "locked": true,
     "points": 1,
     "schema_version": 3,
     "solution": false,
     "task": false
    }
   },
   "outputs": [
    {
     "name": "stdout",
     "output_type": "stream",
     "text": [
      "Test passed: A correct n-ary address was found.\n"
     ]
    }
   ],
   "source": [
    "# This test will check whether there is a correct n-ary address. [1 point]\n",
    "\n",
    "def test_correct_nary_address(g):\n",
    "    # Iterate through all blank nodes that could represent an address\n",
    "    found = False\n",
    "    for s in g.subjects(None, None):\n",
    "        if isinstance(s, BNode):\n",
    "            # Check for the required properties in the n-ary address\n",
    "            if (s, PR.street, Literal(\"Templergraben\")) in g and \\\n",
    "               (s, PR.houseNumber, Literal(\"55\")) in g and \\\n",
    "               (s, PR.postalCode, Literal(\"52062\")) in g and \\\n",
    "               (s, PR.city, Literal(\"Aachen\")) in g:\n",
    "                found = True\n",
    "                break\n",
    "    \n",
    "    assert found, \"No correct n-ary address found in the graph.\"\n",
    "\n",
    "# Run the test\n",
    "test_correct_nary_address(g)\n",
    "\n",
    "print(\"Test passed: A correct n-ary address was found.\")\n"
   ]
  }
 ],
 "metadata": {
  "kernelspec": {
   "display_name": "Python 3",
   "language": "python",
   "name": "python3"
  },
  "language_info": {
   "codemirror_mode": {
    "name": "ipython",
    "version": 3
   },
   "file_extension": ".py",
   "mimetype": "text/x-python",
   "name": "python",
   "nbconvert_exporter": "python",
   "pygments_lexer": "ipython3",
   "version": "3.11.9"
  }
 },
 "nbformat": 4,
 "nbformat_minor": 4
}
