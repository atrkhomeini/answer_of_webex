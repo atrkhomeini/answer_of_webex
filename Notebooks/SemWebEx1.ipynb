{
 "cells": [
  {
   "cell_type": "code",
   "execution_count": 3,
   "metadata": {},
   "outputs": [
    {
     "name": "stdout",
     "output_type": "stream",
     "text": [
      "Collecting jupyter-rdfify\n",
      "  Using cached jupyter_rdfify-1.0.4-py3-none-any.whl.metadata (9.0 kB)\n",
      "Requirement already satisfied: rdflib>=6.1.1 in c:\\users\\atrke\\anaconda3\\lib\\site-packages (from jupyter-rdfify) (7.0.0)\n",
      "Requirement already satisfied: ipython>=7.0.0 in c:\\users\\atrke\\anaconda3\\lib\\site-packages (from jupyter-rdfify) (8.20.0)\n",
      "Collecting graphviz (from jupyter-rdfify)\n",
      "  Using cached graphviz-0.20.3-py3-none-any.whl.metadata (12 kB)\n",
      "Collecting sparqlwrapper>=1.8.5 (from jupyter-rdfify)\n",
      "  Using cached SPARQLWrapper-2.0.0-py3-none-any.whl.metadata (2.0 kB)\n",
      "Collecting owlrl>=6.0.2 (from jupyter-rdfify)\n",
      "  Using cached owlrl-6.0.2-py3-none-any.whl.metadata (3.4 kB)\n",
      "Collecting pyshex>=0.8.0 (from jupyter-rdfify)\n",
      "  Using cached PyShEx-0.8.1-py3-none-any.whl.metadata (1.0 kB)\n",
      "Requirement already satisfied: decorator in c:\\users\\atrke\\anaconda3\\lib\\site-packages (from ipython>=7.0.0->jupyter-rdfify) (5.1.1)\n",
      "Requirement already satisfied: jedi>=0.16 in c:\\users\\atrke\\anaconda3\\lib\\site-packages (from ipython>=7.0.0->jupyter-rdfify) (0.18.1)\n",
      "Requirement already satisfied: matplotlib-inline in c:\\users\\atrke\\anaconda3\\lib\\site-packages (from ipython>=7.0.0->jupyter-rdfify) (0.1.6)\n",
      "Requirement already satisfied: prompt-toolkit<3.1.0,>=3.0.41 in c:\\users\\atrke\\anaconda3\\lib\\site-packages (from ipython>=7.0.0->jupyter-rdfify) (3.0.43)\n",
      "Requirement already satisfied: pygments>=2.4.0 in c:\\users\\atrke\\anaconda3\\lib\\site-packages (from ipython>=7.0.0->jupyter-rdfify) (2.15.1)\n",
      "Requirement already satisfied: stack-data in c:\\users\\atrke\\anaconda3\\lib\\site-packages (from ipython>=7.0.0->jupyter-rdfify) (0.2.0)\n",
      "Requirement already satisfied: traitlets>=5 in c:\\users\\atrke\\anaconda3\\lib\\site-packages (from ipython>=7.0.0->jupyter-rdfify) (5.7.1)\n",
      "Requirement already satisfied: colorama in c:\\users\\atrke\\anaconda3\\lib\\site-packages (from ipython>=7.0.0->jupyter-rdfify) (0.4.6)\n",
      "Collecting cfgraph>=0.2.1 (from pyshex>=0.8.0->jupyter-rdfify)\n",
      "  Using cached CFGraph-0.2.1.tar.gz (2.6 kB)\n",
      "  Preparing metadata (setup.py): started\n",
      "  Preparing metadata (setup.py): finished with status 'error'\n"
     ]
    },
    {
     "name": "stderr",
     "output_type": "stream",
     "text": [
      "  error: subprocess-exited-with-error\n",
      "  \n",
      "  × python setup.py egg_info did not run successfully.\n",
      "  │ exit code: 1\n",
      "  ╰─> [1 lines of output]\n",
      "      ERROR: Can not execute `setup.py` since setuptools is not available in the build environment.\n",
      "      [end of output]\n",
      "  \n",
      "  note: This error originates from a subprocess, and is likely not a problem with pip.\n",
      "error: metadata-generation-failed\n",
      "\n",
      "× Encountered error while generating package metadata.\n",
      "╰─> See above for output.\n",
      "\n",
      "note: This is an issue with the package mentioned above, not pip.\n",
      "hint: See above for details.\n",
      "\n",
      "[notice] A new release of pip is available: 24.0 -> 24.2\n",
      "[notice] To update, run: python.exe -m pip install --upgrade pip\n"
     ]
    }
   ],
   "source": [
    "!pip install jupyter-rdfify"
   ]
  },
  {
   "cell_type": "code",
   "execution_count": 2,
   "metadata": {
    "deletable": false,
    "editable": false,
    "nbgrader": {
     "cell_type": "code",
     "checksum": "73c565738f463863ec6757fecc9af9bf",
     "grade": false,
     "grade_id": "cell-da806457bddca4c8",
     "locked": true,
     "schema_version": 3,
     "solution": false,
     "task": false
    }
   },
   "outputs": [
    {
     "ename": "ModuleNotFoundError",
     "evalue": "No module named 'jupyter-rdfify'",
     "output_type": "error",
     "traceback": [
      "\u001b[1;31m---------------------------------------------------------------------------\u001b[0m",
      "\u001b[1;31mModuleNotFoundError\u001b[0m                       Traceback (most recent call last)",
      "Cell \u001b[1;32mIn[2], line 1\u001b[0m\n\u001b[1;32m----> 1\u001b[0m get_ipython()\u001b[38;5;241m.\u001b[39mrun_line_magic(\u001b[38;5;124m'\u001b[39m\u001b[38;5;124mreload_ext\u001b[39m\u001b[38;5;124m'\u001b[39m, \u001b[38;5;124m'\u001b[39m\u001b[38;5;124mjupyter-rdfify\u001b[39m\u001b[38;5;124m'\u001b[39m)\n",
      "File \u001b[1;32mc:\\Users\\atrke\\anaconda3\\Lib\\site-packages\\IPython\\core\\interactiveshell.py:2456\u001b[0m, in \u001b[0;36mInteractiveShell.run_line_magic\u001b[1;34m(self, magic_name, line, _stack_depth)\u001b[0m\n\u001b[0;32m   2454\u001b[0m     kwargs[\u001b[38;5;124m'\u001b[39m\u001b[38;5;124mlocal_ns\u001b[39m\u001b[38;5;124m'\u001b[39m] \u001b[38;5;241m=\u001b[39m \u001b[38;5;28mself\u001b[39m\u001b[38;5;241m.\u001b[39mget_local_scope(stack_depth)\n\u001b[0;32m   2455\u001b[0m \u001b[38;5;28;01mwith\u001b[39;00m \u001b[38;5;28mself\u001b[39m\u001b[38;5;241m.\u001b[39mbuiltin_trap:\n\u001b[1;32m-> 2456\u001b[0m     result \u001b[38;5;241m=\u001b[39m fn(\u001b[38;5;241m*\u001b[39margs, \u001b[38;5;241m*\u001b[39m\u001b[38;5;241m*\u001b[39mkwargs)\n\u001b[0;32m   2458\u001b[0m \u001b[38;5;66;03m# The code below prevents the output from being displayed\u001b[39;00m\n\u001b[0;32m   2459\u001b[0m \u001b[38;5;66;03m# when using magics with decorator @output_can_be_silenced\u001b[39;00m\n\u001b[0;32m   2460\u001b[0m \u001b[38;5;66;03m# when the last Python token in the expression is a ';'.\u001b[39;00m\n\u001b[0;32m   2461\u001b[0m \u001b[38;5;28;01mif\u001b[39;00m \u001b[38;5;28mgetattr\u001b[39m(fn, magic\u001b[38;5;241m.\u001b[39mMAGIC_OUTPUT_CAN_BE_SILENCED, \u001b[38;5;28;01mFalse\u001b[39;00m):\n",
      "File \u001b[1;32mc:\\Users\\atrke\\anaconda3\\Lib\\site-packages\\IPython\\core\\magics\\extension.py:63\u001b[0m, in \u001b[0;36mExtensionMagics.reload_ext\u001b[1;34m(self, module_str)\u001b[0m\n\u001b[0;32m     61\u001b[0m \u001b[38;5;28;01mif\u001b[39;00m \u001b[38;5;129;01mnot\u001b[39;00m module_str:\n\u001b[0;32m     62\u001b[0m     \u001b[38;5;28;01mraise\u001b[39;00m UsageError(\u001b[38;5;124m'\u001b[39m\u001b[38;5;124mMissing module name.\u001b[39m\u001b[38;5;124m'\u001b[39m)\n\u001b[1;32m---> 63\u001b[0m \u001b[38;5;28mself\u001b[39m\u001b[38;5;241m.\u001b[39mshell\u001b[38;5;241m.\u001b[39mextension_manager\u001b[38;5;241m.\u001b[39mreload_extension(module_str)\n",
      "File \u001b[1;32mc:\\Users\\atrke\\anaconda3\\Lib\\site-packages\\IPython\\core\\extensions.py:141\u001b[0m, in \u001b[0;36mExtensionManager.reload_extension\u001b[1;34m(self, module_str)\u001b[0m\n\u001b[0;32m    139\u001b[0m         \u001b[38;5;28mself\u001b[39m\u001b[38;5;241m.\u001b[39mloaded\u001b[38;5;241m.\u001b[39madd(module_str)\n\u001b[0;32m    140\u001b[0m \u001b[38;5;28;01melse\u001b[39;00m:\n\u001b[1;32m--> 141\u001b[0m     \u001b[38;5;28mself\u001b[39m\u001b[38;5;241m.\u001b[39mload_extension(module_str)\n",
      "File \u001b[1;32mc:\\Users\\atrke\\anaconda3\\Lib\\site-packages\\IPython\\core\\extensions.py:76\u001b[0m, in \u001b[0;36mExtensionManager.load_extension\u001b[1;34m(self, module_str)\u001b[0m\n\u001b[0;32m     69\u001b[0m \u001b[38;5;250m\u001b[39m\u001b[38;5;124;03m\"\"\"Load an IPython extension by its module name.\u001b[39;00m\n\u001b[0;32m     70\u001b[0m \n\u001b[0;32m     71\u001b[0m \u001b[38;5;124;03mReturns the string \"already loaded\" if the extension is already loaded,\u001b[39;00m\n\u001b[0;32m     72\u001b[0m \u001b[38;5;124;03m\"no load function\" if the module doesn't have a load_ipython_extension\u001b[39;00m\n\u001b[0;32m     73\u001b[0m \u001b[38;5;124;03mfunction, or None if it succeeded.\u001b[39;00m\n\u001b[0;32m     74\u001b[0m \u001b[38;5;124;03m\"\"\"\u001b[39;00m\n\u001b[0;32m     75\u001b[0m \u001b[38;5;28;01mtry\u001b[39;00m:\n\u001b[1;32m---> 76\u001b[0m     \u001b[38;5;28;01mreturn\u001b[39;00m \u001b[38;5;28mself\u001b[39m\u001b[38;5;241m.\u001b[39m_load_extension(module_str)\n\u001b[0;32m     77\u001b[0m \u001b[38;5;28;01mexcept\u001b[39;00m \u001b[38;5;167;01mModuleNotFoundError\u001b[39;00m:\n\u001b[0;32m     78\u001b[0m     \u001b[38;5;28;01mif\u001b[39;00m module_str \u001b[38;5;129;01min\u001b[39;00m BUILTINS_EXTS:\n",
      "File \u001b[1;32mc:\\Users\\atrke\\anaconda3\\Lib\\site-packages\\IPython\\core\\extensions.py:91\u001b[0m, in \u001b[0;36mExtensionManager._load_extension\u001b[1;34m(self, module_str)\u001b[0m\n\u001b[0;32m     89\u001b[0m \u001b[38;5;28;01mwith\u001b[39;00m \u001b[38;5;28mself\u001b[39m\u001b[38;5;241m.\u001b[39mshell\u001b[38;5;241m.\u001b[39mbuiltin_trap:\n\u001b[0;32m     90\u001b[0m     \u001b[38;5;28;01mif\u001b[39;00m module_str \u001b[38;5;129;01mnot\u001b[39;00m \u001b[38;5;129;01min\u001b[39;00m sys\u001b[38;5;241m.\u001b[39mmodules:\n\u001b[1;32m---> 91\u001b[0m         mod \u001b[38;5;241m=\u001b[39m import_module(module_str)\n\u001b[0;32m     92\u001b[0m     mod \u001b[38;5;241m=\u001b[39m sys\u001b[38;5;241m.\u001b[39mmodules[module_str]\n\u001b[0;32m     93\u001b[0m     \u001b[38;5;28;01mif\u001b[39;00m \u001b[38;5;28mself\u001b[39m\u001b[38;5;241m.\u001b[39m_call_load_ipython_extension(mod):\n",
      "File \u001b[1;32mc:\\Users\\atrke\\anaconda3\\Lib\\importlib\\__init__.py:126\u001b[0m, in \u001b[0;36mimport_module\u001b[1;34m(name, package)\u001b[0m\n\u001b[0;32m    124\u001b[0m             \u001b[38;5;28;01mbreak\u001b[39;00m\n\u001b[0;32m    125\u001b[0m         level \u001b[38;5;241m+\u001b[39m\u001b[38;5;241m=\u001b[39m \u001b[38;5;241m1\u001b[39m\n\u001b[1;32m--> 126\u001b[0m \u001b[38;5;28;01mreturn\u001b[39;00m _bootstrap\u001b[38;5;241m.\u001b[39m_gcd_import(name[level:], package, level)\n",
      "File \u001b[1;32m<frozen importlib._bootstrap>:1204\u001b[0m, in \u001b[0;36m_gcd_import\u001b[1;34m(name, package, level)\u001b[0m\n",
      "File \u001b[1;32m<frozen importlib._bootstrap>:1176\u001b[0m, in \u001b[0;36m_find_and_load\u001b[1;34m(name, import_)\u001b[0m\n",
      "File \u001b[1;32m<frozen importlib._bootstrap>:1140\u001b[0m, in \u001b[0;36m_find_and_load_unlocked\u001b[1;34m(name, import_)\u001b[0m\n",
      "\u001b[1;31mModuleNotFoundError\u001b[0m: No module named 'jupyter-rdfify'"
     ]
    }
   ],
   "source": [
    "%reload_ext jupyter-rdfify"
   ]
  },
  {
   "cell_type": "markdown",
   "metadata": {
    "deletable": false,
    "editable": false,
    "nbgrader": {
     "cell_type": "markdown",
     "checksum": "747a7aa1da3e923b1e595bd9a2561c87",
     "grade": false,
     "grade_id": "cell-147e9d5d78c18ec7",
     "locked": true,
     "schema_version": 3,
     "solution": false,
     "task": false
    }
   },
   "source": [
    "**A small reminder that these assignments will be graded automatically. Please read the tasks carefully and be as pedantic as possible. Run your answers to check if your code parses correctly. Typing errors will lead to point loss. Do not change code that is already given as this may break the unit tests and lead to 0 points. Do not use comments in your code.**"
   ]
  },
  {
   "cell_type": "markdown",
   "metadata": {
    "deletable": false,
    "editable": false,
    "nbgrader": {
     "cell_type": "markdown",
     "checksum": "36191cdbb140b5ac7301deda4207ab36",
     "grade": false,
     "grade_id": "cell-baccffb6bb4a152d",
     "locked": true,
     "schema_version": 3,
     "solution": false,
     "task": false
    }
   },
   "source": [
    "# Turtle\n",
    "*Turtle* stands for **Terse RDF Triple Language** and is a [W3C recommended](https://www.w3.org/TR/turtle/) syntax and file format for serializing RDF Graphs. To serialize an RDF triple of the form *(Subject, Predicate, Object)* in Turtle, you just write them in that sequence, followed by a period. In this example you would write:\n",
    "\n",
    "**Subject Predicate Object .**\n",
    "\n",
    "Please note the period after a triple.\n",
    "\n",
    "In turtle, URIs are encased in angled brackets (&lt; &gt;). The RDF triple *(http://example.org/#Germany, http://example.org/#capital, http://example.org/#Berlin)* is serialized like this:\n",
    "\n",
    "**&lt;http://example.org/#Germany&gt; &lt;http://example.org/#capital&gt; &lt;http://example.org/#Berlin&gt; .**\n",
    "\n",
    "**Because of its very simple syntax, Turtle is intuitive and human-readable.**\n",
    "\n",
    "### Syntactic sugar:\n",
    "Because subjects or subject-predicate-combinations often repeat in the same graph, Turtle introduces some syntactic sugar.\n",
    "To repeat a subject, one can use a semicolon instead of a period after a triple. To express that germany has the capital Berlin and the state Bavaria, one would write the following:\n",
    "\n",
    "**&lt;http://example.org/#Germany&gt; &lt;http://example.org/#capital&gt; &lt;http://example.org/#Berlin&gt; ;  \n",
    "&nbsp;&nbsp;&nbsp;&nbsp;&lt;http://example.org/#state&gt; &lt;http://example.org/#Bavaria&gt; .**\n",
    "\n",
    "To repeat a subject-predicate-combination, one can use a comma instead of a period after the triple. To express that germany has the state Berlin and the state Bavaria, one would write the following:\n",
    "\n",
    "**&lt;http://example.org/#Germany&gt; &lt;http://example.org/#state&gt; &lt;http://example.org/#Berlin&gt; ,  \n",
    "&nbsp;&nbsp;&nbsp;&nbsp;&lt;http://example.org/#Bavaria&gt; .**\n",
    "\n",
    "Both of these can be chained to repeat the same subject/subject-predicate-combination over and over.\n",
    "\n",
    "**You are allowed and even encouraged to use syntactic sugar throughout all our assignments.**\n",
    "    "
   ]
  },
  {
   "cell_type": "markdown",
   "metadata": {
    "deletable": false,
    "editable": false,
    "nbgrader": {
     "cell_type": "markdown",
     "checksum": "4bd660d81b6f246a1e419d24ca0644ee",
     "grade": false,
     "grade_id": "cell-5e8f9a1e110133aa",
     "locked": true,
     "schema_version": 3,
     "solution": false,
     "task": false
    }
   },
   "source": [
    "## Task 1: My first Graph [6 points]\n",
    "### 1a) Sightseeing [3 points]\n",
    "The task is to create an RDF graph about places of interest using Turtle. The graph must contain the following Sights and their locations: The Louvre, the Colosseum and the Eiffel Tower.\n",
    "\n",
    "The graph should contain the following information: Both the **Louvre** and the **Eiffel Tower** are **located in** **France**. The **Colosseum** is **located in** **Italy**. **All** three **are sights**.\n",
    "\n",
    "Use the following URIs:  \n",
    "The Louvre: http://example.org/sights#Louvre  \n",
    "The Colosseum: http://example.org/sights#Colosseum  \n",
    "The Eiffel Tower: http://example.org/sights#EiffelTower  \n",
    "Located in: http://example.org/properties#locatedIn  \n",
    "France: http://example.org/countries#France  \n",
    "Italy: http://example.org/countries#Italy  \n",
    "Sight: http://example.org/classes#Sight  \n",
    "Is of type: http://www.w3.org/1999/02/22-rdf-syntax-ns#type\n",
    "\n",
    "**Do not use or define CURIEs (Prefixes) in this part of the task. The graph must not contain additional triples.**"
   ]
  },
  {
   "cell_type": "code",
   "execution_count": 1,
   "metadata": {},
   "outputs": [
    {
     "name": "stdout",
     "output_type": "stream",
     "text": [
      "Collecting rdflib\n",
      "  Downloading rdflib-7.0.0-py3-none-any.whl.metadata (11 kB)\n",
      "Requirement already satisfied: isodate<0.7.0,>=0.6.0 in c:\\users\\atrke\\anaconda3\\lib\\site-packages (from rdflib) (0.6.1)\n",
      "Requirement already satisfied: pyparsing<4,>=2.1.0 in c:\\users\\atrke\\anaconda3\\lib\\site-packages (from rdflib) (3.0.9)\n",
      "Requirement already satisfied: six in c:\\users\\atrke\\anaconda3\\lib\\site-packages (from isodate<0.7.0,>=0.6.0->rdflib) (1.16.0)\n",
      "Downloading rdflib-7.0.0-py3-none-any.whl (531 kB)\n",
      "   ---------------------------------------- 0.0/531.9 kB ? eta -:--:--\n",
      "    --------------------------------------- 10.2/531.9 kB ? eta -:--:--\n",
      "   ---- ---------------------------------- 61.4/531.9 kB 825.8 kB/s eta 0:00:01\n",
      "   --------------- ------------------------ 204.8/531.9 kB 1.8 MB/s eta 0:00:01\n",
      "   ------------------------------ --------- 409.6/531.9 kB 2.9 MB/s eta 0:00:01\n",
      "   ---------------------------------------- 531.9/531.9 kB 3.1 MB/s eta 0:00:00\n",
      "Installing collected packages: rdflib\n",
      "Successfully installed rdflib-7.0.0\n"
     ]
    },
    {
     "name": "stderr",
     "output_type": "stream",
     "text": [
      "\n",
      "[notice] A new release of pip is available: 24.0 -> 24.2\n",
      "[notice] To update, run: python.exe -m pip install --upgrade pip\n"
     ]
    }
   ],
   "source": [
    "!pip install rdflib "
   ]
  },
  {
   "cell_type": "code",
   "execution_count": 7,
   "metadata": {
    "deletable": false,
    "nbgrader": {
     "cell_type": "code",
     "checksum": "66ae973e1d9e00f6cfa1d75897aa74ac",
     "grade": false,
     "grade_id": "cell-a625a6dee09ca0d5",
     "locked": false,
     "schema_version": 3,
     "solution": true,
     "task": false
    }
   },
   "outputs": [
    {
     "name": "stdout",
     "output_type": "stream",
     "text": [
      "Could not parse turtle graph:<br>at line 16 of <>:\n",
      "Bad syntax (expected '.' or '}' or ']' at end of statement) at ^ in:\n",
      "\"...b'vre> \\n    <http://www.w3.org/1999/02/22-rdf-syntax-ns#type> '^b'<http://example.org/classes#Sight> ;\\n    <http://example.org'...\"\n",
      "Turtle: Parse failed:\n",
      "\n"
     ]
    }
   ],
   "source": [
    "\n",
    "%%rdf turtle -l sights\n",
    "\"\"\"\n",
    "This code snippet represents RDF triples describing various sights located in different countries.\n",
    "\n",
    "The RDF triples are defined using the Turtle syntax and include the following information:\n",
    "\n",
    "- The Louvre sight is of type \"Sight\" and is located in France.\n",
    "- The Eiffel Tower sight is of type \"Sight\" and is located in France.\n",
    "- The Colosseum sight is of type \"Sight\" and is located in Italy.\n",
    "\n",
    "The RDF triples are used to represent semantic information about the sights and their locations.\n",
    "\n",
    "Note: This code snippet is part of a larger file located at \"/home/kali/Documents/Notebooks/Notebooks/SemWebEx1.ipynb\".\n",
    "\"\"\"\n",
    "### YOUR SOLUTION HERE\n",
    "<http://example.org/sights#Louvre> \n",
    "    <http://www.w3.org/1999/02/22-rdf-syntax-ns#type> <http://example.org/classes#Sight> ;\n",
    "    <http://example.org/properties#locatedIn> <http://example.org/countries#France> .\n",
    "\n",
    "<http://example.org/sights#EiffelTower> \n",
    "    <http://www.w3.org/1999/02/22-rdf-syntax-ns#type> <http://example.org/classes#Sight> ;\n",
    "    <http://example.org/properties#locatedIn> <http://example.org/countries#France> .\n",
    "\n",
    "<http://example.org/sights#Colosseum> \n",
    "    <http://www.w3.org/1999/02/22-rdf-syntax-ns#type> <http://example.org/classes#Sight> ;\n",
    "    <http://example.org/properties#locatedIn> <http://example.org/countries#Italy> .\n"
   ]
  },
  {
   "cell_type": "markdown",
   "metadata": {
    "deletable": false,
    "editable": false,
    "nbgrader": {
     "cell_type": "markdown",
     "checksum": "8423b3ecf4767b8bddfee3a5e7341197",
     "grade": false,
     "grade_id": "cell-f3bf946883727b5f",
     "locked": true,
     "schema_version": 3,
     "solution": false,
     "task": false
    }
   },
   "source": [
    "The following cell is a test cell to check your answer. Please remember that this is only a fraction of the tests to give you an orientation and that the real evaluation is a lot more thorough."
   ]
  },
  {
   "cell_type": "code",
   "execution_count": 8,
   "metadata": {
    "deletable": false,
    "editable": false,
    "nbgrader": {
     "cell_type": "code",
     "checksum": "5bbce85ea329cbb932a7b9181151ad2f",
     "grade": true,
     "grade_id": "cell-c927d061ef093322",
     "locked": true,
     "points": 2,
     "schema_version": 3,
     "solution": false,
     "task": false
    }
   },
   "outputs": [
    {
     "ename": "KeyError",
     "evalue": "'sights'",
     "output_type": "error",
     "traceback": [
      "\u001b[0;31m---------------------------------------------------------------------------\u001b[0m",
      "\u001b[0;31mKeyError\u001b[0m                                  Traceback (most recent call last)",
      "Cell \u001b[0;32mIn[8], line 5\u001b[0m\n\u001b[1;32m      3\u001b[0m m \u001b[38;5;241m=\u001b[39m \u001b[38;5;124m\"\u001b[39m\u001b[38;5;124mThe graph is missing the following information: \u001b[39m\u001b[38;5;132;01m{}\u001b[39;00m\u001b[38;5;124m\"\u001b[39m\n\u001b[1;32m      4\u001b[0m store \u001b[38;5;241m=\u001b[39m get_ipython()\u001b[38;5;241m.\u001b[39mrun_line_magic(\u001b[38;5;124m'\u001b[39m\u001b[38;5;124mrdf\u001b[39m\u001b[38;5;124m'\u001b[39m, \u001b[38;5;124m'\u001b[39m\u001b[38;5;124m-r\u001b[39m\u001b[38;5;124m'\u001b[39m)\n\u001b[0;32m----> 5\u001b[0m g \u001b[38;5;241m=\u001b[39m \u001b[43mstore\u001b[49m\u001b[43m[\u001b[49m\u001b[38;5;124;43m'\u001b[39;49m\u001b[38;5;124;43mrdfgraphs\u001b[39;49m\u001b[38;5;124;43m'\u001b[39;49m\u001b[43m]\u001b[49m\u001b[43m[\u001b[49m\u001b[38;5;124;43m\"\u001b[39;49m\u001b[38;5;124;43msights\u001b[39;49m\u001b[38;5;124;43m\"\u001b[39;49m\u001b[43m]\u001b[49m\n\u001b[1;32m      6\u001b[0m ex \u001b[38;5;241m=\u001b[39m \u001b[38;5;124m\"\u001b[39m\u001b[38;5;124mhttp://example.org/\u001b[39m\u001b[38;5;132;01m{}\u001b[39;00m\u001b[38;5;124m\"\u001b[39m\n\u001b[1;32m      7\u001b[0m tower \u001b[38;5;241m=\u001b[39m URIRef(ex\u001b[38;5;241m.\u001b[39mformat(\u001b[38;5;124m\"\u001b[39m\u001b[38;5;124msights#EiffelTower\u001b[39m\u001b[38;5;124m\"\u001b[39m))\n",
      "\u001b[0;31mKeyError\u001b[0m: 'sights'"
     ]
    }
   ],
   "source": [
    "# This test will check whether your graph is complete and correct. [2 points]\n",
    "from rdflib import URIRef\n",
    "m = \"The graph is missing the following information: {}\"\n",
    "store = %rdf -r\n",
    "g = store['rdfgraphs'][\"sights\"]\n",
    "ex = \"http://example.org/{}\"\n",
    "tower = URIRef(ex.format(\"sights#EiffelTower\"))\n",
    "louvre = URIRef(ex.format(\"sights#Louvre\"))\n",
    "locIn = URIRef(ex.format(\"properties#locatedIn\"))\n",
    "ofType = URIRef(\"http://www.w3.org/1999/02/22-rdf-syntax-ns#type\")\n",
    "sight = URIRef(ex.format(\"classes#Sight\"))\n",
    "france = URIRef(ex.format(\"countries#France\"))\n",
    "assert((tower, locIn, france) in g), m.format(\"The Eiffel Tower is located in France.\")\n",
    "assert((louvre, ofType, sight) in g), m.format(\"The Louvre is a sight.\")"
   ]
  },
  {
   "cell_type": "code",
   "execution_count": 9,
   "metadata": {
    "deletable": false,
    "editable": false,
    "nbgrader": {
     "cell_type": "code",
     "checksum": "cf9940d61fd53964206633f15b2259be",
     "grade": true,
     "grade_id": "cell-d2bfeecaca65d849",
     "locked": true,
     "points": 1,
     "schema_version": 3,
     "solution": false,
     "task": false
    }
   },
   "outputs": [
    {
     "ename": "NameError",
     "evalue": "name 'g' is not defined",
     "output_type": "error",
     "traceback": [
      "\u001b[0;31m---------------------------------------------------------------------------\u001b[0m",
      "\u001b[0;31mNameError\u001b[0m                                 Traceback (most recent call last)",
      "Cell \u001b[0;32mIn[9], line 9\u001b[0m\n\u001b[1;32m      2\u001b[0m \u001b[38;5;124;03m\"\"\"\u001b[39;00m\n\u001b[1;32m      3\u001b[0m \u001b[38;5;124;03mThis test checks whether the graph is minimal, meaning it does not contain any additional triples.\u001b[39;00m\n\u001b[1;32m      4\u001b[0m \u001b[38;5;124;03mThe test asserts that the length of the graph is equal to 6, indicating that there are no extra triples.\u001b[39;00m\n\u001b[1;32m      5\u001b[0m \u001b[38;5;124;03mIf the assertion fails, an error message is raised.\u001b[39;00m\n\u001b[1;32m      6\u001b[0m \u001b[38;5;124;03m\"\"\"\u001b[39;00m\n\u001b[1;32m      7\u001b[0m \u001b[38;5;66;03m# This point will not be granted when you use CURIEs or define prefixes (which is forbidden in this part of the task)\u001b[39;00m\n\u001b[1;32m      8\u001b[0m \u001b[38;5;66;03m# Some tests - like this one - are instructor only and can't be seen/run by students.\u001b[39;00m\n\u001b[0;32m----> 9\u001b[0m \u001b[38;5;28;01massert\u001b[39;00m(\u001b[38;5;28mlen\u001b[39m(\u001b[43mg\u001b[49m) \u001b[38;5;241m==\u001b[39m \u001b[38;5;241m6\u001b[39m), \u001b[38;5;124m\"\u001b[39m\u001b[38;5;124mYour graph contains additional triples.\u001b[39m\u001b[38;5;124m\"\u001b[39m\n\u001b[1;32m     11\u001b[0m \u001b[38;5;28mprint\u001b[39m(\u001b[38;5;124m\"\u001b[39m\u001b[38;5;124mAll tests passed.\u001b[39m\u001b[38;5;124m\"\u001b[39m)\n",
      "\u001b[0;31mNameError\u001b[0m: name 'g' is not defined"
     ]
    }
   ],
   "source": [
    "# This test will check whether your graph is minimal (does not contain additional triples). [1 point]\n",
    "\"\"\"\n",
    "This test checks whether the graph is minimal, meaning it does not contain any additional triples.\n",
    "The test asserts that the length of the graph is equal to 6, indicating that there are no extra triples.\n",
    "If the assertion fails, an error message is raised.\n",
    "\"\"\"\n",
    "# This point will not be granted when you use CURIEs or define prefixes (which is forbidden in this part of the task)\n",
    "# Some tests - like this one - are instructor only and can't be seen/run by students.\n",
    "assert(len(g) == 6), \"Your graph contains additional triples.\"\n",
    "\n",
    "print(\"All tests passed.\")"
   ]
  },
  {
   "cell_type": "markdown",
   "metadata": {},
   "source": []
  },
  {
   "cell_type": "markdown",
   "metadata": {
    "deletable": false,
    "editable": false,
    "nbgrader": {
     "cell_type": "markdown",
     "checksum": "cec20352d55bec9b564f2fc3bb54e2fe",
     "grade": false,
     "grade_id": "cell-af5942891348c4fb",
     "locked": true,
     "schema_version": 3,
     "solution": false,
     "task": false
    }
   },
   "source": [
    "### CURIEs\n",
    "Because we only used full URIs in 1a), the graph looks cluttered and both the graph and the turtle source are hard to read. But many URIs have the same prefix (http://example.org/sights for example) and turtle allows us to define abbreviations for these prefixes. These abbreviated URIs are called *Compact URIs* or *CURIES*. In Turtle, such a prefix is defined using the **@prefix** keyword, followed by the abbreviation, then the URI prefix in angled brackets (&lt; &gt;) and finally a period. For example, if we want to abbreviate *http://example.org/#* with *ex:*, then we need to prepend the following line to the turtle document:\n",
    "\n",
    "**@prefix ex: &lt;http://example.org/#&gt; .**\n",
    "\n",
    "Now we can abbreviate the RDF triple:\n",
    "\n",
    "**&lt;http://example.org/#Germany&gt; &lt;http://example.org/#capital&gt; &lt;http://example.org/#Berlin&gt; .**\n",
    "\n",
    "to:\n",
    "\n",
    "**ex:Germany ex:capital ex:Berlin .**\n",
    "\n",
    "Note, that we omit the angled brackets when using CURIEs.\n",
    "\n",
    "### 1b) Using CURIEs [3 points]\n",
    "Create the same RDF graph as in 1a) but use CURIEs and introduce the following abbreviations:  \n",
    "Abbreviate http://example.org/sights# to **si:**  \n",
    "Abbreviate http://example.org/countries# to **co:**  \n",
    "Abbreviate http://example.org/properties# to **pr:**  \n",
    "Abbreviate http://example.org/classes# to **cl:**  \n",
    "\n",
    "http://www.w3.org/1999/02/22-rdf-syntax-ns# can be abbreviated to **rdf:** (optional)\n",
    "\n",
    "Because the predicate rdf:type (http://www.w3.org/1999/02/22-rdf-syntax-ns#type) is used very frequently, you can just write **a** instead of the URI. Try it!  \n",
    "\n",
    "**Use the defined prefixes whenever they are applicable.**  \n",
    "**You are allowed and even encouraged to define and use as many prefixes as you want in all following tasks and assignments.**"
   ]
  },
  {
   "cell_type": "code",
   "execution_count": 17,
   "metadata": {
    "deletable": false,
    "nbgrader": {
     "cell_type": "code",
     "checksum": "5c0b1da427d39dbb7088a78c75736bc0",
     "grade": false,
     "grade_id": "cell-622f9e5d8ef2cccd",
     "locked": false,
     "schema_version": 3,
     "solution": true,
     "task": false
    }
   },
   "outputs": [
    {
     "data": {
      "image/svg+xml": [
       "<?xml version=\"1.0\" encoding=\"UTF-8\" standalone=\"no\"?>\n",
       "<!DOCTYPE svg PUBLIC \"-//W3C//DTD SVG 1.1//EN\"\n",
       " \"http://www.w3.org/Graphics/SVG/1.1/DTD/svg11.dtd\">\n",
       "<!-- Generated by graphviz version 2.43.0 (0)\n",
       " -->\n",
       "<!-- Title: %3 Pages: 1 -->\n",
       "<svg width=\"570pt\" height=\"131pt\"\n",
       " viewBox=\"0.00 0.00 570.09 131.00\" xmlns=\"http://www.w3.org/2000/svg\" xmlns:xlink=\"http://www.w3.org/1999/xlink\">\n",
       "<g id=\"graph0\" class=\"graph\" transform=\"scale(1 1) rotate(0) translate(4 127)\">\n",
       "<title>%3</title>\n",
       "<polygon fill=\"white\" stroke=\"transparent\" points=\"-4,4 -4,-127 566.09,-127 566.09,4 -4,4\"/>\n",
       "<!-- 0 -->\n",
       "<g id=\"node1\" class=\"node\">\n",
       "<title>0</title>\n",
       "<ellipse fill=\"none\" stroke=\"black\" cx=\"118.09\" cy=\"-18\" rx=\"55.79\" ry=\"18\"/>\n",
       "<text text-anchor=\"middle\" x=\"118.09\" y=\"-14.3\" font-family=\"Times,serif\" font-size=\"14.00\">co:France</text>\n",
       "</g>\n",
       "<!-- 1 -->\n",
       "<g id=\"node2\" class=\"node\">\n",
       "<title>1</title>\n",
       "<ellipse fill=\"none\" stroke=\"black\" cx=\"449.09\" cy=\"-105\" rx=\"71.49\" ry=\"18\"/>\n",
       "<text text-anchor=\"middle\" x=\"449.09\" y=\"-101.3\" font-family=\"Times,serif\" font-size=\"14.00\">si:Colosseum</text>\n",
       "</g>\n",
       "<!-- 4 -->\n",
       "<g id=\"node5\" class=\"node\">\n",
       "<title>4</title>\n",
       "<ellipse fill=\"none\" stroke=\"black\" cx=\"328.09\" cy=\"-18\" rx=\"46.29\" ry=\"18\"/>\n",
       "<text text-anchor=\"middle\" x=\"328.09\" y=\"-14.3\" font-family=\"Times,serif\" font-size=\"14.00\">cl:Sight</text>\n",
       "</g>\n",
       "<!-- 1&#45;&gt;4 -->\n",
       "<g id=\"edge3\" class=\"edge\">\n",
       "<title>1&#45;&gt;4</title>\n",
       "<path fill=\"none\" stroke=\"black\" d=\"M426.08,-87.77C412.19,-77.98 394.13,-65.26 378.09,-54 371.51,-49.38 364.43,-44.42 357.73,-39.73\"/>\n",
       "<polygon fill=\"black\" stroke=\"black\" points=\"359.71,-36.84 349.51,-33.97 355.7,-42.58 359.71,-36.84\"/>\n",
       "<text text-anchor=\"middle\" x=\"426.09\" y=\"-57.8\" font-family=\"Times,serif\" font-size=\"14.00\">rdf:type</text>\n",
       "</g>\n",
       "<!-- 5 -->\n",
       "<g id=\"node6\" class=\"node\">\n",
       "<title>5</title>\n",
       "<ellipse fill=\"none\" stroke=\"black\" cx=\"490.09\" cy=\"-18\" rx=\"44.69\" ry=\"18\"/>\n",
       "<text text-anchor=\"middle\" x=\"490.09\" y=\"-14.3\" font-family=\"Times,serif\" font-size=\"14.00\">co:Italy</text>\n",
       "</g>\n",
       "<!-- 1&#45;&gt;5 -->\n",
       "<g id=\"edge6\" class=\"edge\">\n",
       "<title>1&#45;&gt;5</title>\n",
       "<path fill=\"none\" stroke=\"black\" d=\"M458.66,-87.06C461.77,-81.37 465.17,-74.96 468.09,-69 471.85,-61.34 475.69,-52.88 479.08,-45.14\"/>\n",
       "<polygon fill=\"black\" stroke=\"black\" points=\"482.35,-46.39 483.1,-35.83 475.92,-43.62 482.35,-46.39\"/>\n",
       "<text text-anchor=\"middle\" x=\"518.59\" y=\"-57.8\" font-family=\"Times,serif\" font-size=\"14.00\">pr:locatedIn</text>\n",
       "</g>\n",
       "<!-- 2 -->\n",
       "<g id=\"node3\" class=\"node\">\n",
       "<title>2</title>\n",
       "<ellipse fill=\"none\" stroke=\"black\" cx=\"242.09\" cy=\"-105\" rx=\"53.89\" ry=\"18\"/>\n",
       "<text text-anchor=\"middle\" x=\"242.09\" y=\"-101.3\" font-family=\"Times,serif\" font-size=\"14.00\">si:Louvre</text>\n",
       "</g>\n",
       "<!-- 2&#45;&gt;0 -->\n",
       "<g id=\"edge4\" class=\"edge\">\n",
       "<title>2&#45;&gt;0</title>\n",
       "<path fill=\"none\" stroke=\"black\" d=\"M229.45,-87.05C220.92,-76.51 208.92,-63.24 196.09,-54 186.41,-47.02 175.11,-40.97 164.16,-35.96\"/>\n",
       "<polygon fill=\"black\" stroke=\"black\" points=\"165.25,-32.61 154.69,-31.82 162.45,-39.03 165.25,-32.61\"/>\n",
       "<text text-anchor=\"middle\" x=\"255.59\" y=\"-57.8\" font-family=\"Times,serif\" font-size=\"14.00\">pr:locatedIn</text>\n",
       "</g>\n",
       "<!-- 2&#45;&gt;4 -->\n",
       "<g id=\"edge2\" class=\"edge\">\n",
       "<title>2&#45;&gt;4</title>\n",
       "<path fill=\"none\" stroke=\"black\" d=\"M275.88,-90.74C286.59,-85.27 297.79,-78.05 306.09,-69 312.11,-62.44 316.67,-53.97 320.04,-45.88\"/>\n",
       "<polygon fill=\"black\" stroke=\"black\" points=\"323.38,-46.93 323.57,-36.34 316.81,-44.5 323.38,-46.93\"/>\n",
       "<text text-anchor=\"middle\" x=\"345.09\" y=\"-57.8\" font-family=\"Times,serif\" font-size=\"14.00\">rdf:type</text>\n",
       "</g>\n",
       "<!-- 3 -->\n",
       "<g id=\"node4\" class=\"node\">\n",
       "<title>3</title>\n",
       "<ellipse fill=\"none\" stroke=\"black\" cx=\"74.09\" cy=\"-105\" rx=\"74.19\" ry=\"18\"/>\n",
       "<text text-anchor=\"middle\" x=\"74.09\" y=\"-101.3\" font-family=\"Times,serif\" font-size=\"14.00\">si:EiffelTower</text>\n",
       "</g>\n",
       "<!-- 3&#45;&gt;0 -->\n",
       "<g id=\"edge5\" class=\"edge\">\n",
       "<title>3&#45;&gt;0</title>\n",
       "<path fill=\"none\" stroke=\"black\" d=\"M44.7,-88.35C31.07,-78.96 19.57,-66.46 28.09,-54 35.64,-42.97 47.2,-35.42 59.56,-30.25\"/>\n",
       "<polygon fill=\"black\" stroke=\"black\" points=\"60.93,-33.47 69.11,-26.74 58.51,-26.9 60.93,-33.47\"/>\n",
       "<text text-anchor=\"middle\" x=\"71.59\" y=\"-57.8\" font-family=\"Times,serif\" font-size=\"14.00\">pr:locatedIn</text>\n",
       "</g>\n",
       "<!-- 3&#45;&gt;4 -->\n",
       "<g id=\"edge1\" class=\"edge\">\n",
       "<title>3&#45;&gt;4</title>\n",
       "<path fill=\"none\" stroke=\"black\" d=\"M93.31,-87.58C109.94,-73.44 131.7,-55.12 134.09,-54 177.74,-33.63 232.04,-25.08 272.08,-21.51\"/>\n",
       "<polygon fill=\"black\" stroke=\"black\" points=\"272.51,-24.98 282.19,-20.68 271.94,-18.01 272.51,-24.98\"/>\n",
       "<text text-anchor=\"middle\" x=\"163.09\" y=\"-57.8\" font-family=\"Times,serif\" font-size=\"14.00\">rdf:type</text>\n",
       "</g>\n",
       "</g>\n",
       "</svg>\n"
      ],
      "text/plain": [
       "<graphviz.graphs.Digraph at 0x7fe1dddf8550>"
      ]
     },
     "metadata": {},
     "output_type": "display_data"
    }
   ],
   "source": [
    "%%rdf turtle -l sights2\n",
    "\n",
    "### YOUR SOLUTION HERE\n",
    "@prefix si: <http://example.org/sights#> .\n",
    "@prefix co: <http://example.org/countries#> .\n",
    "@prefix pr: <http://example.org/properties#> .\n",
    "@prefix cl: <http://example.org/classes#> .\n",
    "@prefix rdf: <http://www.w3.org/1999/02/22-rdf-syntax-ns#> .\n",
    "\n",
    "si:Louvre a cl:Sight ;\n",
    "    pr:locatedIn co:France .\n",
    "\n",
    "si:EiffelTower a cl:Sight ;\n",
    "    pr:locatedIn co:France .\n",
    "\n",
    "si:Colosseum a cl:Sight ;\n",
    "    pr:locatedIn co:Italy .\n"
   ]
  },
  {
   "cell_type": "code",
   "execution_count": 18,
   "metadata": {
    "deletable": false,
    "editable": false,
    "nbgrader": {
     "cell_type": "code",
     "checksum": "68e8df2519e6e8834e8676802861453e",
     "grade": true,
     "grade_id": "cell-083e36ac4704a48b",
     "locked": true,
     "points": 1,
     "schema_version": 3,
     "solution": false,
     "task": false
    }
   },
   "outputs": [],
   "source": [
    "# This test will check whether you defined all mandatory prefixes [1 point]\n",
    "from rdflib import URIRef, Graph\n",
    "store = %rdf -r\n",
    "g = store['rdfgraphs'][\"sights2\"]\n",
    "ns = list(g.namespaces())\n",
    "assert(('si', URIRef(\"http://example.org/sights#\")) in ns)\n",
    "assert(('co', URIRef(\"http://example.org/countries#\")) in ns)\n",
    "assert(('pr', URIRef(\"http://example.org/properties#\")) in ns)\n",
    "assert(('cl', URIRef(\"http://example.org/classes#\")) in ns)"
   ]
  },
  {
   "cell_type": "code",
   "execution_count": 20,
   "metadata": {
    "deletable": false,
    "editable": false,
    "nbgrader": {
     "cell_type": "code",
     "checksum": "fff9c6d94f145387b1fe46fa1ceaa3e1",
     "grade": true,
     "grade_id": "cell-cc0cb388f72d175c",
     "locked": true,
     "points": 1,
     "schema_version": 3,
     "solution": false,
     "task": false
    }
   },
   "outputs": [
    {
     "ename": "ValueError",
     "evalue": "too many values to unpack (expected 3)",
     "output_type": "error",
     "traceback": [
      "\u001b[0;31m---------------------------------------------------------------------------\u001b[0m",
      "\u001b[0;31mValueError\u001b[0m                                Traceback (most recent call last)",
      "Cell \u001b[0;32mIn[20], line 19\u001b[0m\n\u001b[1;32m     16\u001b[0m     \u001b[38;5;28mprint\u001b[39m(\u001b[38;5;124m\"\u001b[39m\u001b[38;5;124mCURIEs are correctly used wherever applicable.\u001b[39m\u001b[38;5;124m\"\u001b[39m)\n\u001b[1;32m     18\u001b[0m \u001b[38;5;66;03m# Run the test\u001b[39;00m\n\u001b[0;32m---> 19\u001b[0m \u001b[43mtest_curies_used\u001b[49m\u001b[43m(\u001b[49m\u001b[43mturtle_data\u001b[49m\u001b[43m)\u001b[49m\n",
      "Cell \u001b[0;32mIn[20], line 14\u001b[0m, in \u001b[0;36mtest_curies_used\u001b[0;34m(turtle_data)\u001b[0m\n\u001b[1;32m     12\u001b[0m \u001b[38;5;66;03m# Check if any full URIs are present in the turtle data\u001b[39;00m\n\u001b[1;32m     13\u001b[0m \u001b[38;5;28;01mfor\u001b[39;00m uri \u001b[38;5;129;01min\u001b[39;00m full_uris:\n\u001b[0;32m---> 14\u001b[0m     \u001b[38;5;28;01massert\u001b[39;00m \u001b[43muri\u001b[49m\u001b[43m \u001b[49m\u001b[38;5;129;43;01mnot\u001b[39;49;00m\u001b[43m \u001b[49m\u001b[38;5;129;43;01min\u001b[39;49;00m\u001b[43m \u001b[49m\u001b[43mturtle_data\u001b[49m, \u001b[38;5;124mf\u001b[39m\u001b[38;5;124m\"\u001b[39m\u001b[38;5;124mFull URI used instead of CURIE: \u001b[39m\u001b[38;5;132;01m{\u001b[39;00muri\u001b[38;5;132;01m}\u001b[39;00m\u001b[38;5;124m\"\u001b[39m\n\u001b[1;32m     16\u001b[0m \u001b[38;5;28mprint\u001b[39m(\u001b[38;5;124m\"\u001b[39m\u001b[38;5;124mCURIEs are correctly used wherever applicable.\u001b[39m\u001b[38;5;124m\"\u001b[39m)\n",
      "File \u001b[0;32m~/.local/lib/python3.11/site-packages/rdflib/graph.py:680\u001b[0m, in \u001b[0;36mGraph.__contains__\u001b[0;34m(self, triple)\u001b[0m\n\u001b[1;32m    678\u001b[0m \u001b[38;5;28;01mdef\u001b[39;00m \u001b[38;5;21m__contains__\u001b[39m(\u001b[38;5;28mself\u001b[39m, triple: _TripleSelectorType) \u001b[38;5;241m-\u001b[39m\u001b[38;5;241m>\u001b[39m \u001b[38;5;28mbool\u001b[39m:\n\u001b[1;32m    679\u001b[0m \u001b[38;5;250m    \u001b[39m\u001b[38;5;124;03m\"\"\"Support for 'triple in graph' syntax\"\"\"\u001b[39;00m\n\u001b[0;32m--> 680\u001b[0m \u001b[43m    \u001b[49m\u001b[38;5;28;43;01mfor\u001b[39;49;00m\u001b[43m \u001b[49m\u001b[43mtriple\u001b[49m\u001b[43m \u001b[49m\u001b[38;5;129;43;01min\u001b[39;49;00m\u001b[43m \u001b[49m\u001b[38;5;28;43mself\u001b[39;49m\u001b[38;5;241;43m.\u001b[39;49m\u001b[43mtriples\u001b[49m\u001b[43m(\u001b[49m\u001b[43mtriple\u001b[49m\u001b[43m)\u001b[49m\u001b[43m:\u001b[49m\n\u001b[1;32m    681\u001b[0m \u001b[43m        \u001b[49m\u001b[38;5;28;43;01mreturn\u001b[39;49;00m\u001b[43m \u001b[49m\u001b[38;5;28;43;01mTrue\u001b[39;49;00m\n\u001b[1;32m    682\u001b[0m     \u001b[38;5;28;01mreturn\u001b[39;00m \u001b[38;5;28;01mFalse\u001b[39;00m\n",
      "File \u001b[0;32m~/.local/lib/python3.11/site-packages/rdflib/graph.py:587\u001b[0m, in \u001b[0;36mGraph.triples\u001b[0;34m(self, triple)\u001b[0m\n\u001b[1;32m    578\u001b[0m \u001b[38;5;28;01mdef\u001b[39;00m \u001b[38;5;21mtriples\u001b[39m(\n\u001b[1;32m    579\u001b[0m     \u001b[38;5;28mself\u001b[39m,\n\u001b[1;32m    580\u001b[0m     triple: \u001b[38;5;124m\"\u001b[39m\u001b[38;5;124m_TripleSelectorType\u001b[39m\u001b[38;5;124m\"\u001b[39m,\n\u001b[1;32m    581\u001b[0m ) \u001b[38;5;241m-\u001b[39m\u001b[38;5;241m>\u001b[39m Generator[\u001b[38;5;124m\"\u001b[39m\u001b[38;5;124m_TripleOrTriplePathType\u001b[39m\u001b[38;5;124m\"\u001b[39m, \u001b[38;5;28;01mNone\u001b[39;00m, \u001b[38;5;28;01mNone\u001b[39;00m]:\n\u001b[1;32m    582\u001b[0m \u001b[38;5;250m    \u001b[39m\u001b[38;5;124;03m\"\"\"Generator over the triple store\u001b[39;00m\n\u001b[1;32m    583\u001b[0m \n\u001b[1;32m    584\u001b[0m \u001b[38;5;124;03m    Returns triples that match the given triple pattern. If triple pattern\u001b[39;00m\n\u001b[1;32m    585\u001b[0m \u001b[38;5;124;03m    does not provide a context, all contexts will be searched.\u001b[39;00m\n\u001b[1;32m    586\u001b[0m \u001b[38;5;124;03m    \"\"\"\u001b[39;00m\n\u001b[0;32m--> 587\u001b[0m     s, p, o \u001b[38;5;241m=\u001b[39m triple\n\u001b[1;32m    588\u001b[0m     \u001b[38;5;28;01mif\u001b[39;00m \u001b[38;5;28misinstance\u001b[39m(p, Path):\n\u001b[1;32m    589\u001b[0m         \u001b[38;5;28;01mfor\u001b[39;00m _s, _o \u001b[38;5;129;01min\u001b[39;00m p\u001b[38;5;241m.\u001b[39meval(\u001b[38;5;28mself\u001b[39m, s, o):\n",
      "\u001b[0;31mValueError\u001b[0m: too many values to unpack (expected 3)"
     ]
    }
   ],
   "source": [
    "# This test will check whether you actually used CURIEs whenever applicable. [1 point]\n",
    "turtle_data = store['rdfgraphs']['sights2'] \n",
    "def test_curies_used(turtle_data):\n",
    "    full_uris = [\n",
    "        \"<http://example.org/sights#\",\n",
    "        \"<http://example.org/countries#\",\n",
    "        \"<http://example.org/properties#\",\n",
    "        \"<http://example.org/classes#\",\n",
    "        \"<http://www.w3.org/1999/02/22-rdf-syntax-ns#\",\n",
    "    ]\n",
    "\n",
    "    # Check if any full URIs are present in the turtle data\n",
    "    for uri in full_uris:\n",
    "        assert uri not in turtle_data, f\"Full URI used instead of CURIE: {uri}\"\n",
    "\n",
    "    print(\"CURIEs are correctly used wherever applicable.\")\n",
    "\n",
    "# Run the test\n",
    "test_curies_used(turtle_data)\n"
   ]
  },
  {
   "cell_type": "code",
   "execution_count": null,
   "metadata": {
    "deletable": false,
    "editable": false,
    "nbgrader": {
     "cell_type": "code",
     "checksum": "d5cb6437d567f26d2eb3e5f4c2417704",
     "grade": true,
     "grade_id": "cell-00a42b342af34ba8",
     "locked": true,
     "points": 1,
     "schema_version": 3,
     "solution": false,
     "task": false
    }
   },
   "outputs": [],
   "source": [
    "# This test will check whether the graph is complete and correct. [1 point]\n"
   ]
  },
  {
   "cell_type": "markdown",
   "metadata": {
    "deletable": false,
    "editable": false,
    "nbgrader": {
     "cell_type": "markdown",
     "checksum": "1e367d7fc0c413eab5975e59bab7cc91",
     "grade": false,
     "grade_id": "cell-0020acafde24d970",
     "locked": true,
     "schema_version": 3,
     "solution": false,
     "task": false
    }
   },
   "source": [
    "## Task 2: Literals [3 points]\n",
    "For basic values such as numbers and strings, it is impractical to use URIs. Instead of URIs we use literals. Literals have a datatype, which is string by default. Literals can only be used in the object position of triples and are encased in double quotes (\" \"). An example for a triple with a string literal is:\n",
    "\n",
    "**ex:Germany ex:name \"Deutschland\" .**\n",
    "\n",
    "To specify a *datatype*, it is appended to the literal with *two carets* (^^). A datatype can be an arbitrary URI, but there are some predefined datatypes which should suffice in most cases. These predefined datatypes use the prefix *http://www.w3.org/2001/XMLSchema#*, which is usually abbreviated with *xsd:*. An example for an integer literal:\n",
    "\n",
    "**ex:Germany ex:population \"83042235\"^^xsd:int .**\n",
    "\n",
    "There are also string literals with a specified language. This is useful for names that differ in different languages. To specify a language, we append a two character language tag with an at symbol (@) behind the literal. The literal is then automatically interpreted as a language tagged string (this datatype is never specified explicitly). To express that ex:germany has a different name in english and in german, one would add two triples:\n",
    "\n",
    "**ex:Germany ex:name \"Deutschland\"@de .**  \n",
    "**ex:Germany ex:name \"Germany\"@en .**  \n",
    "\n",
    "Please note that the URI ex:Germany is **not** the same as the literal \"Germany\" and in some cases you can't deduce the name of an entity from the URI (for example www.wikidata.org uses numerical IDs, e.g https://www.wikidata.org/entity/Q1017).\n",
    "\n",
    "### 2a) Austria [3 points]\n",
    "The task is to create an RDF graph about Austria with Turtle. The graph must contain the following information:\n",
    "\n",
    "Austria is called **Österreich** in german (*de*), **Austria** in english (*en*) and **Oostenrijk** in dutch (*nl*). Austria has a population of **8901064** and an area of **83878.99**km². The capital of Austria is Vienna, which is called **Vienna** in english and **Wenen** in dutch.\n",
    "\n",
    "Use the following URIs:  \n",
    "Austria: http://example.org/countries#Austria  \n",
    "Vienna: http://example.org/cities#Vienna  \n",
    "Capital: http://example.org/properties#capital  \n",
    "Area: http://example.org/properties#area  \n",
    "Population: http://example.org/properties#population  \n",
    "Is called: rdfs:label\n",
    "\n",
    "Language tags:\n",
    "\n",
    "| Language | Tag |\n",
    "| --- | --- |\n",
    "| English | en |\n",
    "| German | de |\n",
    "| Dutch | nl |\n",
    "\n",
    "Only use the datatypes **xsd:string**, **rdf:langString**, **xsd:int** and **xsd:float**.\n",
    "\n",
    "Tip: CURIEs do not change the graph but they make the result more readable and less error prone. Use them whenever possible!"
   ]
  },
  {
   "cell_type": "code",
   "execution_count": null,
   "metadata": {
    "deletable": false,
    "nbgrader": {
     "cell_type": "code",
     "checksum": "8c62a8376c23bfb1ea925a5792b8a3bc",
     "grade": false,
     "grade_id": "cell-3e75579d76831c23",
     "locked": false,
     "schema_version": 3,
     "solution": true,
     "task": false
    }
   },
   "outputs": [
    {
     "data": {
      "image/svg+xml": [
       "<?xml version=\"1.0\" encoding=\"UTF-8\" standalone=\"no\"?>\n",
       "<!DOCTYPE svg PUBLIC \"-//W3C//DTD SVG 1.1//EN\"\n",
       " \"http://www.w3.org/Graphics/SVG/1.1/DTD/svg11.dtd\">\n",
       "<!-- Generated by graphviz version 2.43.0 (0)\n",
       " -->\n",
       "<!-- Title: %3 Pages: 1 -->\n",
       "<svg width=\"975pt\" height=\"218pt\"\n",
       " viewBox=\"0.00 0.00 975.00 218.00\" xmlns=\"http://www.w3.org/2000/svg\" xmlns:xlink=\"http://www.w3.org/1999/xlink\">\n",
       "<g id=\"graph0\" class=\"graph\" transform=\"scale(1 1) rotate(0) translate(4 214)\">\n",
       "<title>%3</title>\n",
       "<polygon fill=\"white\" stroke=\"transparent\" points=\"-4,4 -4,-214 971,-214 971,4 -4,4\"/>\n",
       "<!-- 0 -->\n",
       "<g id=\"node1\" class=\"node\">\n",
       "<title>0</title>\n",
       "<polygon fill=\"none\" stroke=\"black\" points=\"534,-36 428,-36 428,0 534,0 534,-36\"/>\n",
       "<text text-anchor=\"middle\" x=\"481\" y=\"-14.3\" font-family=\"Times,serif\" font-size=\"14.00\">&quot;Wenen&quot;@nl</text>\n",
       "</g>\n",
       "<!-- 1 -->\n",
       "<g id=\"node2\" class=\"node\">\n",
       "<title>1</title>\n",
       "<polygon fill=\"none\" stroke=\"black\" points=\"662,-36 552,-36 552,0 662,0 662,-36\"/>\n",
       "<text text-anchor=\"middle\" x=\"607\" y=\"-14.3\" font-family=\"Times,serif\" font-size=\"14.00\">&quot;Vienna&quot;@en</text>\n",
       "</g>\n",
       "<!-- 2 -->\n",
       "<g id=\"node3\" class=\"node\">\n",
       "<title>2</title>\n",
       "<polygon fill=\"none\" stroke=\"black\" points=\"166,-123 0,-123 0,-87 166,-87 166,-123\"/>\n",
       "<text text-anchor=\"middle\" x=\"83\" y=\"-101.3\" font-family=\"Times,serif\" font-size=\"14.00\">&quot;8901064&quot;^^xsd:int</text>\n",
       "</g>\n",
       "<!-- 3 -->\n",
       "<g id=\"node4\" class=\"node\">\n",
       "<title>3</title>\n",
       "<polygon fill=\"none\" stroke=\"black\" points=\"297.5,-123 184.5,-123 184.5,-87 297.5,-87 297.5,-123\"/>\n",
       "<text text-anchor=\"middle\" x=\"241\" y=\"-101.3\" font-family=\"Times,serif\" font-size=\"14.00\">&quot;Austria&quot;@en</text>\n",
       "</g>\n",
       "<!-- 4 -->\n",
       "<g id=\"node5\" class=\"node\">\n",
       "<title>4</title>\n",
       "<polygon fill=\"none\" stroke=\"black\" points=\"452.5,-123 315.5,-123 315.5,-87 452.5,-87 452.5,-123\"/>\n",
       "<text text-anchor=\"middle\" x=\"384\" y=\"-101.3\" font-family=\"Times,serif\" font-size=\"14.00\">&quot;Österreich&quot;@de</text>\n",
       "</g>\n",
       "<!-- 5 -->\n",
       "<g id=\"node6\" class=\"node\">\n",
       "<title>5</title>\n",
       "<ellipse fill=\"none\" stroke=\"black\" cx=\"544\" cy=\"-105\" rx=\"73.39\" ry=\"18\"/>\n",
       "<text text-anchor=\"middle\" x=\"544\" y=\"-101.3\" font-family=\"Times,serif\" font-size=\"14.00\">excity:Vienna</text>\n",
       "</g>\n",
       "<!-- 5&#45;&gt;0 -->\n",
       "<g id=\"edge5\" class=\"edge\">\n",
       "<title>5&#45;&gt;0</title>\n",
       "<path fill=\"none\" stroke=\"black\" d=\"M519.03,-87.88C512.16,-82.52 505.18,-76.09 500,-69 494.99,-62.15 491.14,-53.81 488.25,-45.93\"/>\n",
       "<polygon fill=\"black\" stroke=\"black\" points=\"491.55,-44.74 485.1,-36.33 484.9,-46.92 491.55,-44.74\"/>\n",
       "<text text-anchor=\"middle\" x=\"534\" y=\"-57.8\" font-family=\"Times,serif\" font-size=\"14.00\">rdfs:label</text>\n",
       "</g>\n",
       "<!-- 5&#45;&gt;1 -->\n",
       "<g id=\"edge3\" class=\"edge\">\n",
       "<title>5&#45;&gt;1</title>\n",
       "<path fill=\"none\" stroke=\"black\" d=\"M556.45,-87.21C565.53,-74.95 578.01,-58.11 588.29,-44.24\"/>\n",
       "<polygon fill=\"black\" stroke=\"black\" points=\"591.22,-46.17 594.36,-36.05 585.6,-42 591.22,-46.17\"/>\n",
       "<text text-anchor=\"middle\" x=\"614\" y=\"-57.8\" font-family=\"Times,serif\" font-size=\"14.00\">rdfs:label</text>\n",
       "</g>\n",
       "<!-- 6 -->\n",
       "<g id=\"node7\" class=\"node\">\n",
       "<title>6</title>\n",
       "<polygon fill=\"none\" stroke=\"black\" points=\"817,-123 635,-123 635,-87 817,-87 817,-123\"/>\n",
       "<text text-anchor=\"middle\" x=\"726\" y=\"-101.3\" font-family=\"Times,serif\" font-size=\"14.00\">&quot;83878.99&quot;^^xsd:float</text>\n",
       "</g>\n",
       "<!-- 7 -->\n",
       "<g id=\"node8\" class=\"node\">\n",
       "<title>7</title>\n",
       "<ellipse fill=\"none\" stroke=\"black\" cx=\"464\" cy=\"-192\" rx=\"57.69\" ry=\"18\"/>\n",
       "<text text-anchor=\"middle\" x=\"464\" y=\"-188.3\" font-family=\"Times,serif\" font-size=\"14.00\">ex:Austria</text>\n",
       "</g>\n",
       "<!-- 7&#45;&gt;2 -->\n",
       "<g id=\"edge6\" class=\"edge\">\n",
       "<title>7&#45;&gt;2</title>\n",
       "<path fill=\"none\" stroke=\"black\" d=\"M406.16,-190.91C345.78,-189.26 249.04,-182.2 170,-156 150.79,-149.63 131.09,-138.74 115.31,-128.75\"/>\n",
       "<polygon fill=\"black\" stroke=\"black\" points=\"116.79,-125.54 106.5,-123.01 112.97,-131.4 116.79,-125.54\"/>\n",
       "<text text-anchor=\"middle\" x=\"235\" y=\"-144.8\" font-family=\"Times,serif\" font-size=\"14.00\">exprop:population</text>\n",
       "</g>\n",
       "<!-- 7&#45;&gt;3 -->\n",
       "<g id=\"edge8\" class=\"edge\">\n",
       "<title>7&#45;&gt;3</title>\n",
       "<path fill=\"none\" stroke=\"black\" d=\"M417.9,-180.97C393.19,-174.95 362.47,-166.44 336,-156 316.54,-148.33 295.89,-137.77 278.83,-128.34\"/>\n",
       "<polygon fill=\"black\" stroke=\"black\" points=\"280.18,-125.08 269.75,-123.24 276.75,-131.19 280.18,-125.08\"/>\n",
       "<text text-anchor=\"middle\" x=\"370\" y=\"-144.8\" font-family=\"Times,serif\" font-size=\"14.00\">rdfs:label</text>\n",
       "</g>\n",
       "<!-- 7&#45;&gt;4 -->\n",
       "<g id=\"edge1\" class=\"edge\">\n",
       "<title>7&#45;&gt;4</title>\n",
       "<path fill=\"none\" stroke=\"black\" d=\"M441.5,-175.02C434.27,-169.4 426.47,-162.78 420,-156 412.95,-148.61 406.16,-139.78 400.4,-131.61\"/>\n",
       "<polygon fill=\"black\" stroke=\"black\" points=\"403.13,-129.39 394.61,-123.1 397.34,-133.33 403.13,-129.39\"/>\n",
       "<text text-anchor=\"middle\" x=\"454\" y=\"-144.8\" font-family=\"Times,serif\" font-size=\"14.00\">rdfs:label</text>\n",
       "</g>\n",
       "<!-- 7&#45;&gt;5 -->\n",
       "<g id=\"edge4\" class=\"edge\">\n",
       "<title>7&#45;&gt;5</title>\n",
       "<path fill=\"none\" stroke=\"black\" d=\"M479.42,-174.61C491.3,-161.99 507.9,-144.36 521.29,-130.13\"/>\n",
       "<polygon fill=\"black\" stroke=\"black\" points=\"524.04,-132.31 528.35,-122.63 518.95,-127.51 524.04,-132.31\"/>\n",
       "<text text-anchor=\"middle\" x=\"560.5\" y=\"-144.8\" font-family=\"Times,serif\" font-size=\"14.00\">exprop:capital</text>\n",
       "</g>\n",
       "<!-- 7&#45;&gt;6 -->\n",
       "<g id=\"edge7\" class=\"edge\">\n",
       "<title>7&#45;&gt;6</title>\n",
       "<path fill=\"none\" stroke=\"black\" d=\"M512.95,-182.32C543.09,-176.34 582.27,-167.42 616,-156 638.98,-148.22 663.66,-137.26 683.8,-127.58\"/>\n",
       "<polygon fill=\"black\" stroke=\"black\" points=\"685.55,-130.63 693,-123.1 682.48,-124.33 685.55,-130.63\"/>\n",
       "<text text-anchor=\"middle\" x=\"697\" y=\"-144.8\" font-family=\"Times,serif\" font-size=\"14.00\">exprop:area</text>\n",
       "</g>\n",
       "<!-- 8 -->\n",
       "<g id=\"node9\" class=\"node\">\n",
       "<title>8</title>\n",
       "<polygon fill=\"none\" stroke=\"black\" points=\"967,-123 835,-123 835,-87 967,-87 967,-123\"/>\n",
       "<text text-anchor=\"middle\" x=\"901\" y=\"-101.3\" font-family=\"Times,serif\" font-size=\"14.00\">&quot;Oostenrijk&quot;@nl</text>\n",
       "</g>\n",
       "<!-- 7&#45;&gt;8 -->\n",
       "<g id=\"edge2\" class=\"edge\">\n",
       "<title>7&#45;&gt;8</title>\n",
       "<path fill=\"none\" stroke=\"black\" d=\"M519.76,-187.07C576.64,-182.35 667.2,-172.88 744,-156 778.26,-148.47 815.73,-136.68 845.47,-126.44\"/>\n",
       "<polygon fill=\"black\" stroke=\"black\" points=\"846.95,-129.63 855.24,-123.03 844.64,-123.02 846.95,-129.63\"/>\n",
       "<text text-anchor=\"middle\" x=\"830\" y=\"-144.8\" font-family=\"Times,serif\" font-size=\"14.00\">rdfs:label</text>\n",
       "</g>\n",
       "</g>\n",
       "</svg>\n"
      ],
      "text/plain": [
       "<graphviz.graphs.Digraph at 0x7f262c7e4bd0>"
      ]
     },
     "metadata": {},
     "output_type": "display_data"
    }
   ],
   "source": [
    "%%rdf turtle -l literals\n",
    "@prefix rdf: <http://www.w3.org/1999/02/22-rdf-syntax-ns#> .\n",
    "@prefix rdfs: <http://www.w3.org/2000/01/rdf-schema#> .\n",
    "@prefix xsd: <http://www.w3.org/2001/XMLSchema#> .\n",
    "### YOUR SOLUTION HERE\n",
    "@prefix ex: <http://example.org/countries#> .\n",
    "@prefix exprop: <http://example.org/properties#> .\n",
    "@prefix excity: <http://example.org/cities#> .\n",
    "\n",
    "# Austria details\n",
    "ex:Austria\n",
    "    rdfs:label \"Österreich\"@de ;\n",
    "    rdfs:label \"Austria\"@en ;\n",
    "    rdfs:label \"Oostenrijk\"@nl ;\n",
    "    exprop:population \"8901064\"^^xsd:int ;\n",
    "    exprop:area \"83878.99\"^^xsd:float ;\n",
    "    exprop:capital excity:Vienna .\n",
    "\n",
    "# Vienna details\n",
    "excity:Vienna\n",
    "    rdfs:label \"Vienna\"@en ;\n",
    "    rdfs:label \"Wenen\"@nl .\n"
   ]
  },
  {
   "cell_type": "code",
   "execution_count": null,
   "metadata": {
    "deletable": false,
    "editable": false,
    "nbgrader": {
     "cell_type": "code",
     "checksum": "6397a553fe3cc0f07fd3d6a25e7c9039",
     "grade": true,
     "grade_id": "cell-ec4e45a2d27a7d3f",
     "locked": true,
     "points": 1,
     "schema_version": 3,
     "solution": false,
     "task": false
    }
   },
   "outputs": [],
   "source": [
    "# This test will check whether your graph contains the facts (even if their datatype,value or quantity is wrong). [1 point]\n",
    "from rdflib import URIRef\n",
    "store = %rdf -r\n",
    "g = store['rdfgraphs'][\"literals\"]\n",
    "ex = \"http://example.org/{}\"\n",
    "au = URIRef(ex.format(\"countries#Austria\"))\n",
    "pop = URIRef(ex.format(\"properties#population\"))\n",
    "vi = URIRef(ex.format(\"cities#Vienna\"))\n",
    "lab = URIRef(\"http://www.w3.org/2000/01/rdf-schema#label\")\n",
    "err = \"The graph does not contain information about {}.\"\n",
    "assert (au, pop, None) in g, err.format(\"Austria's population\")\n",
    "assert (vi, lab, None) in g, err.format(\"Vienna's name\")\n",
    "assert (au, lab, None) in g, err.format(\"Austria's name\")"
   ]
  },
  {
   "cell_type": "code",
   "execution_count": null,
   "metadata": {
    "deletable": false,
    "editable": false,
    "nbgrader": {
     "cell_type": "code",
     "checksum": "b79443c2944aaf80b0b6477819509040",
     "grade": true,
     "grade_id": "cell-ee0f15f19acfbd0d",
     "locked": true,
     "points": 1,
     "schema_version": 3,
     "solution": false,
     "task": false
    }
   },
   "outputs": [
    {
     "name": "stdout",
     "output_type": "stream",
     "text": [
      "All tests passed.\n"
     ]
    }
   ],
   "source": [
    "from rdflib import Literal, Namespace\n",
    "\n",
    "xsd = Namespace(\"http://www.w3.org/2001/XMLSchema#\")\n",
    "\n",
    "# This test will check whether your graph contains the correct datatypes. [1 point]\n",
    "err = \"The datatype of {} is not correct.\"\n",
    "assert (Literal(\"8901064\", datatype=xsd.int) in g.objects(au, pop)), err.format(\"Austria's population\")\n",
    "assert (Literal(\"83878.99\", datatype=xsd.float) in g.objects(au, URIRef(ex.format(\"properties#area\")))), err.format(\"Austria's area\")\n",
    "\n",
    "print(\"All tests passed.\")"
   ]
  },
  {
   "cell_type": "code",
   "execution_count": null,
   "metadata": {
    "deletable": false,
    "editable": false,
    "nbgrader": {
     "cell_type": "code",
     "checksum": "b21e637e389b94cd11d86080a8021185",
     "grade": true,
     "grade_id": "cell-d8cbac1ebdcccb0f",
     "locked": true,
     "points": 1,
     "schema_version": 3,
     "solution": false,
     "task": false
    }
   },
   "outputs": [
    {
     "name": "stdout",
     "output_type": "stream",
     "text": [
      "All tests passed.\n"
     ]
    }
   ],
   "source": [
    "# This test will check whether your graph contains all language tagged literals. [1 point]\n",
    "err = \"The graph is missing the following language tagged literal: {}\"\n",
    "assert (Literal(\"Österreich\", lang=\"de\") in g.objects(au, lab)), err.format(\"Austria's name in German\")\n",
    "assert (Literal(\"Austria\", lang=\"en\") in g.objects(au, lab)), err.format(\"Austria's name in English\")\n",
    "assert (Literal(\"Oostenrijk\", lang=\"nl\") in g.objects(au, lab)), err.format(\"Austria's name in Dutch\")\n",
    "assert (Literal(\"Vienna\", lang=\"en\") in g.objects(vi, lab)), err.format(\"Vienna's name in English\")\n",
    "assert (Literal(\"Wenen\", lang=\"nl\") in g.objects(vi, lab)), err.format(\"Vienna's name in Dutch\")\n",
    "\n",
    "print(\"All tests passed.\")"
   ]
  },
  {
   "cell_type": "markdown",
   "metadata": {
    "deletable": false,
    "editable": false,
    "nbgrader": {
     "cell_type": "markdown",
     "checksum": "0985abaabe7ae9b9c90ca5b7ccfd0c18",
     "grade": false,
     "grade_id": "cell-d95a51a59335c2de",
     "locked": true,
     "schema_version": 3,
     "solution": false,
     "task": false
    }
   },
   "source": [
    "## Task 3: Blank Nodes [3 points]\n",
    "Sometimes resources do not or should not have an identifier but still stand in relation to other resources. These anonymous resources are represented by blank nodes in RDF graphs. In Turtle, blank nodes are are represented with an underscore followed by a colon and an identifier (\\_:identifier). The purpose of the identifier is to be able to locally reference the anonymous resource multiple times. Even if two blank nodes in different graphs use the same identifier, they usually reference a different resource. For example, when you want to express that you know someone who is a professor but doesn't have an identifier and there is someone else you don't know who is also a professor, you do it like this:\n",
    "\n",
    "**ex:me ex:knows \\_:1 .  \n",
    "\\_:1 rdf:type ex:professor .  \n",
    "\\_:2 rdf:type ex:professor .**\n",
    "\n",
    "You know \\_:1 but don't know \\_:2 but they are both professors.\n",
    "\n",
    "Additionally, blank nodes are often used to represent n-ary relations. For example, a grading that needs to have a grade and a grader can be expressed like this:\n",
    "\n",
    "**ex:student ex:grading \\_:1 .  \n",
    "\\_:1 ex:grade \"1.0\" .  \n",
    "\\_:1 ex:grader ex:professor .**\n",
    "\n",
    "**Syntactic sugar:**  \n",
    "To make this more readable, you can instead use square brackets (\\[ \\]) and every predicate-object-combination in between the square brackets will reference the same blank node. The grade example would then look like this:\n",
    "\n",
    "**ex:student ex:grading \\[  \n",
    "&nbsp;&nbsp;&nbsp;&nbsp;ex:grade \"1.0\" ;  \n",
    "&nbsp;&nbsp;&nbsp;&nbsp;ex:grader ex:professor  \n",
    "\\] .**\n",
    "\n",
    "Note that we must use semicolons and commas in between the brackets (see syntactic sugar at top of assignment) and there is still a period after the brackets.\n",
    "\n",
    "Also Note that the blank node identifier is exchangable as long as we use the same one when referencing the same node. That is why the bracket notation does not need an identifier.\n",
    "\n",
    "### 3a) I know someone who lives somewhere [3 points]\n",
    "Create an RDF graph using turtle that expresses the following:  \n",
    "You, a person without an identifier, knows another person without an identifier, who lives at the following address:\n",
    "\n",
    "Street: Templergraben  \n",
    "House number: 55  \n",
    "Postal code: 52062  \n",
    "City: Aachen\n",
    "\n",
    "Use the following URIs:  \n",
    "Type: rdf:type  \n",
    "Knows: foaf:knows  \n",
    "Person: http://example.org/classes#Person  \n",
    "Address: http://example.org/properties#address  \n",
    "Street: http://example.org/properties#street  \n",
    "House number: http://example.org/properties#houseNumber  \n",
    "Postal code: http://example.org/properties#postalCode  \n",
    "City: http://example.org/properties#city  \n",
    "\n",
    "Hint: use an n-ary relation for the address.\n",
    "\n",
    "**Use only string literals without language tags.**"
   ]
  },
  {
   "cell_type": "code",
   "execution_count": null,
   "metadata": {
    "deletable": false,
    "nbgrader": {
     "cell_type": "code",
     "checksum": "79a506cd3eb3e91d9e2ea74a90ba5570",
     "grade": false,
     "grade_id": "cell-865f7b3dbf506688",
     "locked": false,
     "schema_version": 3,
     "solution": true,
     "task": false
    }
   },
   "outputs": [
    {
     "data": {
      "image/svg+xml": [
       "<?xml version=\"1.0\" encoding=\"UTF-8\" standalone=\"no\"?>\n",
       "<!DOCTYPE svg PUBLIC \"-//W3C//DTD SVG 1.1//EN\"\n",
       " \"http://www.w3.org/Graphics/SVG/1.1/DTD/svg11.dtd\">\n",
       "<!-- Generated by graphviz version 2.43.0 (0)\n",
       " -->\n",
       "<!-- Title: %3 Pages: 1 -->\n",
       "<svg width=\"473pt\" height=\"305pt\"\n",
       " viewBox=\"0.00 0.00 473.00 305.00\" xmlns=\"http://www.w3.org/2000/svg\" xmlns:xlink=\"http://www.w3.org/1999/xlink\">\n",
       "<g id=\"graph0\" class=\"graph\" transform=\"scale(1 1) rotate(0) translate(4 301)\">\n",
       "<title>%3</title>\n",
       "<polygon fill=\"white\" stroke=\"transparent\" points=\"-4,4 -4,-301 469,-301 469,4 -4,4\"/>\n",
       "<!-- 0 -->\n",
       "<g id=\"node1\" class=\"node\">\n",
       "<title>0</title>\n",
       "<ellipse fill=\"none\" stroke=\"black\" cx=\"233\" cy=\"-105\" rx=\"36\" ry=\"18\"/>\n",
       "<text text-anchor=\"middle\" x=\"233\" y=\"-101.3\" font-family=\"Times,serif\" font-size=\"14.00\">_:bn0</text>\n",
       "</g>\n",
       "<!-- 2 -->\n",
       "<g id=\"node3\" class=\"node\">\n",
       "<title>2</title>\n",
       "<polygon fill=\"none\" stroke=\"black\" points=\"54,-36 0,-36 0,0 54,0 54,-36\"/>\n",
       "<text text-anchor=\"middle\" x=\"27\" y=\"-14.3\" font-family=\"Times,serif\" font-size=\"14.00\">&quot;55&quot;</text>\n",
       "</g>\n",
       "<!-- 0&#45;&gt;2 -->\n",
       "<g id=\"edge4\" class=\"edge\">\n",
       "<title>0&#45;&gt;2</title>\n",
       "<path fill=\"none\" stroke=\"black\" d=\"M197.6,-102.06C148.28,-98.63 62.41,-89.79 40,-69 33.64,-63.1 30.23,-54.53 28.45,-46.14\"/>\n",
       "<polygon fill=\"black\" stroke=\"black\" points=\"31.91,-45.58 27,-36.19 24.98,-46.59 31.91,-45.58\"/>\n",
       "<text text-anchor=\"middle\" x=\"100.5\" y=\"-57.8\" font-family=\"Times,serif\" font-size=\"14.00\">pr:houseNumber</text>\n",
       "</g>\n",
       "<!-- 4 -->\n",
       "<g id=\"node5\" class=\"node\">\n",
       "<title>4</title>\n",
       "<polygon fill=\"none\" stroke=\"black\" points=\"207.5,-36 132.5,-36 132.5,0 207.5,0 207.5,-36\"/>\n",
       "<text text-anchor=\"middle\" x=\"170\" y=\"-14.3\" font-family=\"Times,serif\" font-size=\"14.00\">&quot;52062&quot;</text>\n",
       "</g>\n",
       "<!-- 0&#45;&gt;4 -->\n",
       "<g id=\"edge7\" class=\"edge\">\n",
       "<title>0&#45;&gt;4</title>\n",
       "<path fill=\"none\" stroke=\"black\" d=\"M202.9,-95.24C190.1,-89.86 176.43,-81.53 169,-69 165.04,-62.33 163.97,-54.22 164.25,-46.49\"/>\n",
       "<polygon fill=\"black\" stroke=\"black\" points=\"167.75,-46.67 165.33,-36.36 160.79,-45.93 167.75,-46.67\"/>\n",
       "<text text-anchor=\"middle\" x=\"219\" y=\"-57.8\" font-family=\"Times,serif\" font-size=\"14.00\">pr:postalCode</text>\n",
       "</g>\n",
       "<!-- 6 -->\n",
       "<g id=\"node7\" class=\"node\">\n",
       "<title>6</title>\n",
       "<polygon fill=\"none\" stroke=\"black\" points=\"364.5,-36 225.5,-36 225.5,0 364.5,0 364.5,-36\"/>\n",
       "<text text-anchor=\"middle\" x=\"295\" y=\"-14.3\" font-family=\"Times,serif\" font-size=\"14.00\">&quot;Templergraben&quot;</text>\n",
       "</g>\n",
       "<!-- 0&#45;&gt;6 -->\n",
       "<g id=\"edge3\" class=\"edge\">\n",
       "<title>0&#45;&gt;6</title>\n",
       "<path fill=\"none\" stroke=\"black\" d=\"M252.55,-89.82C259.65,-83.96 267.32,-76.74 273,-69 278.19,-61.93 282.5,-53.45 285.88,-45.5\"/>\n",
       "<polygon fill=\"black\" stroke=\"black\" points=\"289.14,-46.78 289.56,-36.19 282.63,-44.21 289.14,-46.78\"/>\n",
       "<text text-anchor=\"middle\" x=\"314\" y=\"-57.8\" font-family=\"Times,serif\" font-size=\"14.00\">pr:street</text>\n",
       "</g>\n",
       "<!-- 7 -->\n",
       "<g id=\"node8\" class=\"node\">\n",
       "<title>7</title>\n",
       "<polygon fill=\"none\" stroke=\"black\" points=\"465,-36 383,-36 383,0 465,0 465,-36\"/>\n",
       "<text text-anchor=\"middle\" x=\"424\" y=\"-14.3\" font-family=\"Times,serif\" font-size=\"14.00\">&quot;Aachen&quot;</text>\n",
       "</g>\n",
       "<!-- 0&#45;&gt;7 -->\n",
       "<g id=\"edge1\" class=\"edge\">\n",
       "<title>0&#45;&gt;7</title>\n",
       "<path fill=\"none\" stroke=\"black\" d=\"M265.25,-97.15C289.3,-91.38 322.6,-81.98 350,-69 365.4,-61.7 381.22,-51.45 394.26,-42.13\"/>\n",
       "<polygon fill=\"black\" stroke=\"black\" points=\"396.39,-44.91 402.39,-36.18 392.26,-39.26 396.39,-44.91\"/>\n",
       "<text text-anchor=\"middle\" x=\"399.5\" y=\"-57.8\" font-family=\"Times,serif\" font-size=\"14.00\">pr:city</text>\n",
       "</g>\n",
       "<!-- 1 -->\n",
       "<g id=\"node2\" class=\"node\">\n",
       "<title>1</title>\n",
       "<ellipse fill=\"none\" stroke=\"black\" cx=\"314\" cy=\"-192\" rx=\"36\" ry=\"18\"/>\n",
       "<text text-anchor=\"middle\" x=\"314\" y=\"-188.3\" font-family=\"Times,serif\" font-size=\"14.00\">_:bn1</text>\n",
       "</g>\n",
       "<!-- 1&#45;&gt;0 -->\n",
       "<g id=\"edge5\" class=\"edge\">\n",
       "<title>1&#45;&gt;0</title>\n",
       "<path fill=\"none\" stroke=\"black\" d=\"M283.68,-182.16C269.99,-176.7 254.74,-168.33 245,-156 239.92,-149.57 236.94,-141.32 235.21,-133.39\"/>\n",
       "<polygon fill=\"black\" stroke=\"black\" points=\"238.63,-132.63 233.58,-123.32 231.72,-133.75 238.63,-132.63\"/>\n",
       "<text text-anchor=\"middle\" x=\"283.5\" y=\"-144.8\" font-family=\"Times,serif\" font-size=\"14.00\">pr:address</text>\n",
       "</g>\n",
       "<!-- 3 -->\n",
       "<g id=\"node4\" class=\"node\">\n",
       "<title>3</title>\n",
       "<ellipse fill=\"none\" stroke=\"black\" cx=\"374\" cy=\"-105\" rx=\"55.79\" ry=\"18\"/>\n",
       "<text text-anchor=\"middle\" x=\"374\" y=\"-101.3\" font-family=\"Times,serif\" font-size=\"14.00\">ex:Person</text>\n",
       "</g>\n",
       "<!-- 1&#45;&gt;3 -->\n",
       "<g id=\"edge6\" class=\"edge\">\n",
       "<title>1&#45;&gt;3</title>\n",
       "<path fill=\"none\" stroke=\"black\" d=\"M318.66,-173.79C321.93,-163.66 326.98,-150.92 334,-141 337.05,-136.69 340.75,-132.55 344.63,-128.73\"/>\n",
       "<polygon fill=\"black\" stroke=\"black\" points=\"347.2,-131.12 352.24,-121.8 342.49,-125.95 347.2,-131.12\"/>\n",
       "<text text-anchor=\"middle\" x=\"363\" y=\"-144.8\" font-family=\"Times,serif\" font-size=\"14.00\">rdf:type</text>\n",
       "</g>\n",
       "<!-- 5 -->\n",
       "<g id=\"node6\" class=\"node\">\n",
       "<title>5</title>\n",
       "<ellipse fill=\"none\" stroke=\"black\" cx=\"360\" cy=\"-279\" rx=\"36\" ry=\"18\"/>\n",
       "<text text-anchor=\"middle\" x=\"360\" y=\"-275.3\" font-family=\"Times,serif\" font-size=\"14.00\">_:bn2</text>\n",
       "</g>\n",
       "<!-- 5&#45;&gt;1 -->\n",
       "<g id=\"edge2\" class=\"edge\">\n",
       "<title>5&#45;&gt;1</title>\n",
       "<path fill=\"none\" stroke=\"black\" d=\"M336.13,-265.37C327.91,-259.7 319.61,-252.2 315,-243 311.52,-236.06 310.35,-227.88 310.3,-220.16\"/>\n",
       "<polygon fill=\"black\" stroke=\"black\" points=\"313.8,-220.25 310.81,-210.08 306.81,-219.89 313.8,-220.25\"/>\n",
       "<text text-anchor=\"middle\" x=\"353.5\" y=\"-231.8\" font-family=\"Times,serif\" font-size=\"14.00\">foaf:knows</text>\n",
       "</g>\n",
       "<!-- 5&#45;&gt;3 -->\n",
       "<g id=\"edge8\" class=\"edge\">\n",
       "<title>5&#45;&gt;3</title>\n",
       "<path fill=\"none\" stroke=\"black\" d=\"M377.85,-263.4C383.49,-257.69 389.02,-250.68 392,-243 408.41,-200.74 402.67,-185.06 392,-141 391.27,-137.98 390.23,-134.92 389.01,-131.94\"/>\n",
       "<polygon fill=\"black\" stroke=\"black\" points=\"392.13,-130.35 384.69,-122.81 385.8,-133.34 392.13,-130.35\"/>\n",
       "<text text-anchor=\"middle\" x=\"431\" y=\"-188.3\" font-family=\"Times,serif\" font-size=\"14.00\">rdf:type</text>\n",
       "</g>\n",
       "</g>\n",
       "</svg>\n"
      ],
      "text/plain": [
       "<graphviz.graphs.Digraph at 0x7f262c657d10>"
      ]
     },
     "metadata": {},
     "output_type": "display_data"
    }
   ],
   "source": [
    "%%rdf turtle -l bnodes\n",
    "@prefix rdf: <http://www.w3.org/1999/02/22-rdf-syntax-ns#> .\n",
    "@prefix foaf: <http://xmlns.com/foaf/0.1/> .\n",
    "@prefix xsd: <http://www.w3.org/2001/XMLSchema#> .\n",
    "@prefix pr: <http://example.org/properties#> .\n",
    "@prefix ex: <http://example.org/classes#> .\n",
    "### YOUR SOLUTION HERE\n",
    "# You, an anonymous person\n",
    "[] rdf:type ex:Person ;\n",
    "    foaf:knows [\n",
    "        rdf:type ex:Person ;\n",
    "        pr:address [\n",
    "            pr:street \"Templergraben\" ;\n",
    "            pr:houseNumber \"55\" ;\n",
    "            pr:postalCode \"52062\" ;\n",
    "            pr:city \"Aachen\"\n",
    "        ]\n",
    "    ] .\n",
    "\n"
   ]
  },
  {
   "cell_type": "code",
   "execution_count": null,
   "metadata": {
    "deletable": false,
    "editable": false,
    "nbgrader": {
     "cell_type": "code",
     "checksum": "215d24621daf48fb93b6f86a8239841f",
     "grade": true,
     "grade_id": "cell-c99512ff1812ee4d",
     "locked": true,
     "points": 1,
     "schema_version": 3,
     "solution": false,
     "task": false
    }
   },
   "outputs": [
    {
     "name": "stdout",
     "output_type": "stream",
     "text": [
      "Test passed: An anonymous person knows another anonymous person.\n"
     ]
    }
   ],
   "source": [
    "# This test will check whether there is an anonymous person that knows another anonymous person. [1 point]\n",
    "\n",
    "from rdflib import Graph, URIRef, BNode, Namespace\n",
    "from rdflib.namespace import RDF\n",
    "\n",
    "# Assuming you already have your RDF graph loaded\n",
    "store = %rdf -r\n",
    "g = store['rdfgraphs'][\"bnodes\"]\n",
    "\n",
    "# Namespaces\n",
    "EX = Namespace(\"http://example.org/classes#\")\n",
    "FOAF = Namespace(\"http://xmlns.com/foaf/0.1/\")\n",
    "PR = Namespace(\"http://example.org/properties#\")\n",
    "\n",
    "# Test function\n",
    "def test_anonymous_person_knows_another_anonymous_person(g):\n",
    "    # Iterate through all triples in the graph\n",
    "    found = False\n",
    "    for s, p, o in g.triples((None, FOAF.knows, None)):\n",
    "        # Check if the subject is a blank node\n",
    "        if isinstance(s, BNode) and isinstance(o, BNode):\n",
    "            # Check if the object is also a blank node\n",
    "            if (s, RDF.type, EX.Person) in g and (o, RDF.type, EX.Person) in g:\n",
    "                found = True\n",
    "                break\n",
    "    assert found, \"No anonymous person that knows another anonymous person found.\"\n",
    "\n",
    "# Run the test\n",
    "test_anonymous_person_knows_another_anonymous_person(g)\n",
    "\n",
    "print(\"Test passed: An anonymous person knows another anonymous person.\")\n"
   ]
  },
  {
   "cell_type": "code",
   "execution_count": null,
   "metadata": {
    "deletable": false,
    "editable": false,
    "nbgrader": {
     "cell_type": "code",
     "checksum": "4fed1f72fcd8f0716d453131de412727",
     "grade": true,
     "grade_id": "cell-34bb05ce1f74e4e4",
     "locked": true,
     "points": 1,
     "schema_version": 3,
     "solution": false,
     "task": false
    }
   },
   "outputs": [
    {
     "name": "stdout",
     "output_type": "stream",
     "text": [
      "Test passed: An anonymous entity with an n-ary address was found.\n"
     ]
    }
   ],
   "source": [
    "# This test will check whether there is an anonymous entity with an n-ary address. [1 point]\n",
    "def test_anonymous_entity_with_nary_address(g):\n",
    "    # Iterate through all triples in the graph to find blank nodes\n",
    "    found = False\n",
    "    for s in g.subjects(RDF.type, EX.Person):\n",
    "        if isinstance(s, BNode):  # Check if the subject is a blank node\n",
    "            # Check if this blank node (person) has an address that is also a blank node\n",
    "            for o in g.objects(s, PR.address):\n",
    "                if isinstance(o, BNode):\n",
    "                    # Check for the required properties in the n-ary address\n",
    "                    if (o, PR.street, Literal(\"Templergraben\")) in g and \\\n",
    "                       (o, PR.houseNumber, Literal(\"55\")) in g and \\\n",
    "                       (o, PR.postalCode, Literal(\"52062\")) in g and \\\n",
    "                       (o, PR.city, Literal(\"Aachen\")) in g:\n",
    "                        found = True\n",
    "                        break\n",
    "        if found:\n",
    "            break\n",
    "    \n",
    "    assert found, \"No anonymous entity with an n-ary address found.\"\n",
    "\n",
    "# Run the test\n",
    "test_anonymous_entity_with_nary_address(g)\n",
    "\n",
    "print(\"Test passed: An anonymous entity with an n-ary address was found.\")"
   ]
  },
  {
   "cell_type": "code",
   "execution_count": null,
   "metadata": {
    "deletable": false,
    "editable": false,
    "nbgrader": {
     "cell_type": "code",
     "checksum": "111a0c7bc027a0cebaf090b53c52ef58",
     "grade": true,
     "grade_id": "cell-b317826a68e2bede",
     "locked": true,
     "points": 1,
     "schema_version": 3,
     "solution": false,
     "task": false
    }
   },
   "outputs": [
    {
     "name": "stdout",
     "output_type": "stream",
     "text": [
      "Test passed: A correct n-ary address was found.\n"
     ]
    }
   ],
   "source": [
    "# This test will check whether there is a correct n-ary address. [1 point]\n",
    "\n",
    "def test_correct_nary_address(g):\n",
    "    # Iterate through all blank nodes that could represent an address\n",
    "    found = False\n",
    "    for s in g.subjects(None, None):\n",
    "        if isinstance(s, BNode):\n",
    "            # Check for the required properties in the n-ary address\n",
    "            if (s, PR.street, Literal(\"Templergraben\")) in g and \\\n",
    "               (s, PR.houseNumber, Literal(\"55\")) in g and \\\n",
    "               (s, PR.postalCode, Literal(\"52062\")) in g and \\\n",
    "               (s, PR.city, Literal(\"Aachen\")) in g:\n",
    "                found = True\n",
    "                break\n",
    "    \n",
    "    assert found, \"No correct n-ary address found in the graph.\"\n",
    "\n",
    "# Run the test\n",
    "test_correct_nary_address(g)\n",
    "\n",
    "print(\"Test passed: A correct n-ary address was found.\")\n"
   ]
  }
 ],
 "metadata": {
  "kernelspec": {
   "display_name": "Python 3",
   "language": "python",
   "name": "python3"
  },
  "language_info": {
   "codemirror_mode": {
    "name": "ipython",
    "version": 3
   },
   "file_extension": ".py",
   "mimetype": "text/x-python",
   "name": "python",
   "nbconvert_exporter": "python",
   "pygments_lexer": "ipython3",
   "version": "3.11.7"
  }
 },
 "nbformat": 4,
 "nbformat_minor": 4
}
