{
 "cells": [
  {
   "cell_type": "code",
   "execution_count": null,
   "metadata": {
    "deletable": false,
    "editable": false,
    "nbgrader": {
     "cell_type": "code",
     "checksum": "aa1071c068c1cb9b0fdcb56a29fdafe4",
     "grade": false,
     "grade_id": "cell-13e4041a44715c7e",
     "locked": true,
     "schema_version": 3,
     "solution": false,
     "task": false
    }
   },
   "outputs": [],
   "source": [
    "%reload_ext jupyter-rdfify"
   ]
  },
  {
   "cell_type": "code",
   "execution_count": null,
   "metadata": {
    "deletable": false,
    "editable": false,
    "nbgrader": {
     "cell_type": "code",
     "checksum": "80aa568449d34cf1ada8ffa83b77d4d7",
     "grade": true,
     "grade_id": "cell-d2f59fff5596a80a",
     "locked": true,
     "points": 0,
     "schema_version": 3,
     "solution": false,
     "task": false
    }
   },
   "outputs": [],
   "source": [
    "# This is a placeholder cell for test initialization. Ignore it."
   ]
  },
  {
   "cell_type": "markdown",
   "metadata": {
    "deletable": false,
    "editable": false,
    "nbgrader": {
     "cell_type": "markdown",
     "checksum": "51d81a585821ece01a409aa02ac396f6",
     "grade": false,
     "grade_id": "cell-c6e1bc3176fa42bc",
     "locked": true,
     "schema_version": 3,
     "solution": false,
     "task": false
    }
   },
   "source": [
    "The two cells below will define some prefixes for you. You can use them throughout the sheet."
   ]
  },
  {
   "cell_type": "code",
   "execution_count": null,
   "metadata": {
    "deletable": false,
    "editable": false,
    "nbgrader": {
     "cell_type": "code",
     "checksum": "2137bf307f0eca9fe5fd7755bd2311e2",
     "grade": false,
     "grade_id": "cell-62474234fa7cf591",
     "locked": true,
     "schema_version": 3,
     "solution": false,
     "task": false
    }
   },
   "outputs": [],
   "source": [
    "%%rdf shex prefix\n",
    "PREFIX rdf: <http://www.w3.org/1999/02/22-rdf-syntax-ns#>\n",
    "PREFIX xsd: <http://www.w3.org/2001/XMLSchema#>"
   ]
  },
  {
   "cell_type": "code",
   "execution_count": null,
   "metadata": {
    "deletable": false,
    "editable": false,
    "nbgrader": {
     "cell_type": "code",
     "checksum": "0f2e92c6ea306ad6f63f51f1bf3b7783",
     "grade": false,
     "grade_id": "cell-aac14ff6a9b06ac7",
     "locked": true,
     "schema_version": 3,
     "solution": false,
     "task": false
    }
   },
   "outputs": [],
   "source": [
    "%%rdf turtle --prefix\n",
    "PREFIX rdf: <http://www.w3.org/1999/02/22-rdf-syntax-ns#>\n",
    "PREFIX xsd: <http://www.w3.org/2001/XMLSchema#>"
   ]
  },
  {
   "cell_type": "markdown",
   "metadata": {
    "deletable": false,
    "editable": false,
    "nbgrader": {
     "cell_type": "markdown",
     "checksum": "9c4237870117cf93f2266ed25cd20053",
     "grade": false,
     "grade_id": "cell-4f109d08e6827f4d",
     "locked": true,
     "schema_version": 3,
     "solution": false,
     "task": false
    }
   },
   "source": [
    "# Shape Validation\n",
    "\n",
    "RDF is a very general data model which can be used to express pretty much anything. But this is both its greatest strength and greatest weakness. It does not have a clear structure and thus maps poorly to common programming language data structures. The vocabularies we have introduced so far may seem like a good start to structuring our RDF data. Even though RDFS is called RDF *Schema* it is used to define vocabularies, not for validating data structures as it isn't expressive enough. OWL is a lot more expressive than RDFS but is targeted at logic modelling, not validity constraining. So these vocabularies do not help us in this matter. Another possible way would be to use SPARQL ASK queries. While ASK queries are ideal to validate constraints as it is very expressive and has efficient implementations, reading, writing and understanding said ASK queries is difficult even for simple constraints.\n",
    "\n",
    "This is why we need a way to describe and validate our RDF data. **ShEx** (Shape Expression Language) and SHACL (Shape Constraint Language) are both high level, concise languages to define schemata. A schema specifies shape constraints that a node must fulfill to pass the validation. In this lecture we will focus on ShEx.\n",
    "\n",
    "# ShEx (ShExC)\n",
    "\n",
    "ShEx**C** is a compact syntax to define ShEx Schemata. It is inspired by Turtle and thus reuses many of its definitions like prefix declaration (using the PREFIX keyword as seen below), the **a** keyword for rdf:type and that keywords are case insensitive (and = AND = AnD). A Schema is a set of shape expressions and a shape expression is a labeled pattern. Shape expression patterns specify constraints for a focus node (the node tested against the pattern) and its neighborhood (the set of incoming and outgoing triples).  The following is a schema with a very basic shape expression:\n",
    "\n",
    "**PREFIX ex: &lt;http://example.org/&gt;  \n",
    "PREFIX xsd: &lt;http://www.w3.org/2001/XMLSchema#&gt;**\n",
    "\n",
    "**&lt;StudentShape&gt; {  \n",
    "&nbsp;&nbsp;&nbsp;&nbsp;ex:name xsd:string  \n",
    "}**\n",
    "\n",
    "This shape expression has the label StudentShape (labels can be URIs or blank nodes) and contains a pattern which constrains a student to only have one outgoing triple with predicate ex:name which must have the type xsd:string. The following is a graph which passes the validation against the above schema:\n",
    "\n",
    "**ex:Max ex:name \"Maximiliam Mustermann\" .**\n",
    "\n",
    "Here are some graphs which would fail the validation:\n",
    "\n",
    "**ex:Max ex:name \"Maximiliam Mustermann\"@de .**  \n",
    "Because the datatype is rdf:langString not xsd:string\n",
    "\n",
    "**ex:Max ex:name \"Maximiliam Mustermann\" , \"Max Mustermann\" .**  \n",
    "Because **two** ex:name triples are found.\n",
    "\n",
    "**ex:Max foaf:name \"Maximiliam Mustermann\" .**  \n",
    "Because no ex:name triple is found (foaf:name was used).\n",
    "\n",
    "## Grouping\n",
    "\n",
    "To group multiple component in a pattern, one uses semicolons:\n",
    "\n",
    "**&lt;StudentShape&gt; {  \n",
    "&nbsp;&nbsp;&nbsp;&nbsp;ex:name xsd:string ;  \n",
    "&nbsp;&nbsp;&nbsp;&nbsp;ex:age xsd:integer ;  \n",
    "&nbsp;&nbsp;&nbsp;&nbsp;ex:email xsd:string  \n",
    "}**\n",
    "\n",
    "The following graph passes:\n",
    "\n",
    "**ex:Max ex:name \"Max\" ;  \n",
    "&nbsp;&nbsp;&nbsp;&nbsp;ex:age \"5\"^^xsd:integer ;  \n",
    "&nbsp;&nbsp;&nbsp;&nbsp;ex:email \"max.mustermann@rwth-aachen.de\" .**\n",
    "\n",
    "## Cardinalities\n",
    "\n",
    "One can specify a cardinality for each pattern component. The cardinality notation on ShEx is inspired by regular expressions and the default cardinality is {1,1}. The following table explains all possible notations:\n",
    "\n",
    "| Notation | Meaning |\n",
    "| --- | --- |\n",
    "| * | 0 or more |\n",
    "| + | 1 or more |\n",
    "| ? | 0 or 1 |\n",
    "| {m} | Exactly m occurences |\n",
    "| {m,n} | Between m and n occurences |\n",
    "| {m,} | m or more occurences |\n",
    "\n",
    "To specify that the email of a student is optional, that a student has to have at least one but can have multiple names and that he can have up to two mentors, one would use the following shape expression:\n",
    "\n",
    "**&lt;StudentShape&gt; {  \n",
    "&nbsp;&nbsp;&nbsp;&nbsp;ex:name xsd:string + ;  \n",
    "&nbsp;&nbsp;&nbsp;&nbsp;ex:mentor IRI {0,2} ;  \n",
    "&nbsp;&nbsp;&nbsp;&nbsp;ex:email xsd:string ?  \n",
    "}**\n",
    "\n",
    "## Alternatives\n",
    "\n",
    "The pipe operator ( | ) is used to declare alternatives. You can use parantheses to group alternatives. For example, to specify that a student can have either a full name or a first and last name but has to have an email address:\n",
    "\n",
    "**&lt;StudentShape&gt; {  \n",
    "&nbsp;&nbsp;&nbsp;&nbsp;(  \n",
    "&nbsp;&nbsp;&nbsp;&nbsp;&nbsp;&nbsp;&nbsp;&nbsp;ex:fullName xsd:string |  \n",
    "&nbsp;&nbsp;&nbsp;&nbsp;&nbsp;&nbsp;&nbsp;&nbsp;ex:firstName xsd:string ;  \n",
    "&nbsp;&nbsp;&nbsp;&nbsp;&nbsp;&nbsp;&nbsp;&nbsp;ex:lastName xsd:string  \n",
    "&nbsp;&nbsp;&nbsp;&nbsp;) ;  \n",
    "&nbsp;&nbsp;&nbsp;&nbsp;ex:email xsd:string  \n",
    "}**\n",
    "\n",
    "## Value Expressions\n",
    "\n",
    "We have already used specific datatypes and have seen the keyword IRI being used in the cardinality example but there are many more value expressions which are listed in the following table:\n",
    "\n",
    "| Type | Example | Description |\n",
    "|:--- |:--- |:--- |\n",
    "| Anything | **.** | The object can be anything |\n",
    "| Datatype | xsd:string | Matches a value of type xsd:string |\n",
    "| Kind | IRI BNode Literal NonLiteral | The object must have that kind |\n",
    "| Value set | \\[ex:Male ex:Female ex:Other\\] | The value must be an element of that set |\n",
    "| Reference | @&lt;StudentShape&gt; | The object must have the shape &lt;StudentShape&gt; |\n",
    "| Composed | xsd:string OR IRI | The composition of value expressions using OR, AND, NOT |\n",
    "| IRI Range | \\[foaf:~\\] | Start with the IRI associated with foaf. See Value set. |\n",
    "| Exclusion | \\[ex:~ -ex:excluded\\] | Any value except ex:excluded. See Value set. |\n",
    "\n",
    "An example which uses many of the above expressions:\n",
    "\n",
    "**&lt;StudentShape&gt; {  \n",
    "&nbsp;&nbsp;&nbsp;&nbsp;ex:name xsd:string ;  \n",
    "&nbsp;&nbsp;&nbsp;&nbsp;ex:mentor @&lt;StudentShape&gt; {0,2} ;  \n",
    "&nbsp;&nbsp;&nbsp;&nbsp;ex:gender [ex:Male ex:Female ex:Other] ;  \n",
    "&nbsp;&nbsp;&nbsp;&nbsp;ex:university IRI OR BNode ;  \n",
    "&nbsp;&nbsp;&nbsp;&nbsp;ex:status [status:~ -status:Exmatriculated] ;  \n",
    "&nbsp;&nbsp;&nbsp;&nbsp;rdfs:seeAlso . \\*  \n",
    "}**\n",
    "\n",
    "## Facets on Datatypes\n",
    "\n",
    "It is possible to qualify the datatype using XML Schema facets. Some possible facets are the following:\n",
    "\n",
    "| Facet | Description |\n",
    "| :--- | :--- |\n",
    "| MinInclusive, MaxInclusive, MinExclusive, MaxInclusive | Constraints on numeric values which declare the min/max value allowed (either included or excluded)|\n",
    "| TotalDigits, FractionDigits | Constraints on numeric values which declare the total digits  and fraction digits allowed |\n",
    "| Length, MinLength, MaxLength | Constraints on string values which declare the length allowed, or the min/max length allowed |\n",
    "\n",
    "An example for facets:\n",
    "\n",
    "**&lt;StudentShape&gt; {  \n",
    "&nbsp;&nbsp;&nbsp;&nbsp;ex:name xsd:string MaxLength 10 ;  \n",
    "&nbsp;&nbsp;&nbsp;&nbsp;ex:matNr xsd:integer MinInclusive 1 MaxInclusive 999999  \n",
    "}**"
   ]
  },
  {
   "cell_type": "markdown",
   "metadata": {
    "deletable": false,
    "editable": false,
    "nbgrader": {
     "cell_type": "markdown",
     "checksum": "e8ee684295b6203dd3c93d864c9f67d1",
     "grade": false,
     "grade_id": "cell-3237beb196c62eeb",
     "locked": true,
     "schema_version": 3,
     "solution": false,
     "task": false
    }
   },
   "source": [
    "## Task 1: Simple Schema [3 points]\n",
    "\n",
    "Use ShEx to specify the following constraints for a car:  \n",
    "- A car has a manufacturer which is expressed as an IRI.  \n",
    "- A car has a vehicle identification number (VIN) which is expressed as a string with 17 characters.  \n",
    "- A car can have arbitrarily many previous owners which are expressed either as a IRI, a string or a blank node.  \n",
    "\n",
    "The shape expression should be labelled **http://example.org/shapes#CarShape**\n",
    "\n",
    "Use the following URIs:  \n",
    "manufacturer: **http://example.org/predicates#manufacturer**  \n",
    "vehicle identification number: **http://example.org/predicates#vin**  \n",
    "previous owner: **http://example.org/predicates#previousOwner**  \n",
    "string: **http://www.w3.org/2001/XMLSchema#string**"
   ]
  },
  {
   "cell_type": "code",
   "execution_count": null,
   "metadata": {
    "deletable": false,
    "nbgrader": {
     "cell_type": "code",
     "checksum": "0e6dcac15459dc7da2e281c231c11291",
     "grade": false,
     "grade_id": "cell-9af33640b5f6caaa",
     "locked": false,
     "schema_version": 3,
     "solution": true,
     "task": false
    }
   },
   "outputs": [],
   "source": [
    "%%rdf shex parse -l 1\n",
    "### YOUR SOLUTION HERE"
   ]
  },
  {
   "cell_type": "markdown",
   "metadata": {
    "deletable": false,
    "editable": false,
    "nbgrader": {
     "cell_type": "markdown",
     "checksum": "7b7dc4935e88ff6135c0f47b5a44d5ce",
     "grade": false,
     "grade_id": "cell-ec0e79a3ae129f64",
     "locked": true,
     "schema_version": 3,
     "solution": false,
     "task": false
    }
   },
   "source": [
    "The two cells below can be used to check if your solution is correct. Run both of them and check the output of the second cell for errors. The graph below should pass the validation in the second cell. But note that while this is neccessary for your solution to be correct, it is not sufficient!"
   ]
  },
  {
   "cell_type": "code",
   "execution_count": null,
   "metadata": {
    "deletable": false,
    "editable": false,
    "nbgrader": {
     "cell_type": "code",
     "checksum": "d92efe86be1f7ba411c968fa0015d5e4",
     "grade": false,
     "grade_id": "cell-a1957290aa0b0dba",
     "locked": true,
     "schema_version": 3,
     "solution": false,
     "task": false
    }
   },
   "outputs": [],
   "source": [
    "%%rdf turtle -l 1check -d none\n",
    "<http://example.org/#CoolCar> <http://example.org/predicates#manufacturer> <http://example.org/#BMW> ;\n",
    "    <http://example.org/predicates#vin> \"WBA12345600000001\" ;\n",
    "    <http://example.org/predicates#previousOwner> \"Max Mustermann\", _:1, <http://example.org/#MariaMusterfrau> ."
   ]
  },
  {
   "cell_type": "code",
   "execution_count": null,
   "metadata": {
    "deletable": false,
    "editable": false,
    "nbgrader": {
     "cell_type": "code",
     "checksum": "5a620f1103c5884c228a156cd795c986",
     "grade": false,
     "grade_id": "cell-a0b82dd7bf719d47",
     "locked": true,
     "schema_version": 3,
     "solution": false,
     "task": false
    }
   },
   "outputs": [],
   "source": [
    "%rdf shex validate -l 1 -g 1check -s http://example.org/shapes#CarShape"
   ]
  },
  {
   "cell_type": "code",
   "execution_count": null,
   "metadata": {
    "deletable": false,
    "editable": false,
    "nbgrader": {
     "cell_type": "code",
     "checksum": "023003012d1c1b8a3f59ff4a69347816",
     "grade": true,
     "grade_id": "cell-6f6d00c77e19e643",
     "locked": true,
     "points": 1,
     "schema_version": 3,
     "solution": false,
     "task": false
    }
   },
   "outputs": [],
   "source": [
    "# This test will check whether the manufacturer predicate is constrained correctly. [1 point]"
   ]
  },
  {
   "cell_type": "code",
   "execution_count": null,
   "metadata": {
    "deletable": false,
    "editable": false,
    "nbgrader": {
     "cell_type": "code",
     "checksum": "ed5cf2525bb585d4015ef0dac106edeb",
     "grade": true,
     "grade_id": "cell-ce9f360b2fc68c1d",
     "locked": true,
     "points": 1,
     "schema_version": 3,
     "solution": false,
     "task": false
    }
   },
   "outputs": [],
   "source": [
    "# This test will check whether the vehicle identification number predicate is constrained correctly. [1 point]"
   ]
  },
  {
   "cell_type": "code",
   "execution_count": null,
   "metadata": {
    "deletable": false,
    "editable": false,
    "nbgrader": {
     "cell_type": "code",
     "checksum": "dd04625411e155bab5906d9c2dbd0afc",
     "grade": true,
     "grade_id": "cell-857d05adbfdba7d8",
     "locked": true,
     "points": 1,
     "schema_version": 3,
     "solution": false,
     "task": false
    }
   },
   "outputs": [],
   "source": [
    "# This test will check whether the previous owner predicate is constrained correctly. [1 point]"
   ]
  },
  {
   "cell_type": "markdown",
   "metadata": {
    "deletable": false,
    "editable": false,
    "nbgrader": {
     "cell_type": "markdown",
     "checksum": "4f64fa6413d6d9785bc3c32215f1204a",
     "grade": false,
     "grade_id": "cell-a464451436e20858",
     "locked": true,
     "schema_version": 3,
     "solution": false,
     "task": false
    }
   },
   "source": [
    "## Task 2: Referencing [4 points]\n",
    "\n",
    "Use ShEx to model the following schema:  \n",
    "- A shop has a name which is expressed as a string.  \n",
    "- A shop must belong to the class commerce. (Note: Value sets with a single element can be used for 'fixed' triples)  \n",
    "- A product has a name which is expressed as a string.  \n",
    "- A product either has an ID which is expressed as an integer (use http://www.w3.org/2001/XMLSchema#integer) from 0 inclusive to 99999999 inclusive or alternatively a product code which is expressed as a string with a length between 11 and 13 characters.  \n",
    "- A shop can sell arbitrarily many products but has to sell at least one.  \n",
    "\n",
    "The shape expressions should be labelled **http://example.org/shapes#ShopShape** and **http://example.org/shapes#ProductShape**\n",
    "\n",
    "Use the following URIs:  \n",
    "has name: **http://example.org/predicates#name**  \n",
    "has id: **http://example.org/predicates#id**  \n",
    "has product code: **http://example.org/predicates#code**  \n",
    "sells product: **http://example.org/predicates#sells**  \n",
    "Commerce (class): **http://example.org/classes#Commerce**  "
   ]
  },
  {
   "cell_type": "code",
   "execution_count": null,
   "metadata": {
    "deletable": false,
    "nbgrader": {
     "cell_type": "code",
     "checksum": "a719ecca3949ebf873e6f4f7a7180f2e",
     "grade": false,
     "grade_id": "cell-d55ff5a129ef04df",
     "locked": false,
     "schema_version": 3,
     "solution": true,
     "task": false
    }
   },
   "outputs": [],
   "source": [
    "%%rdf shex parse -l 2\n",
    "### YOUR SOLUTION HERE"
   ]
  },
  {
   "cell_type": "markdown",
   "metadata": {
    "deletable": false,
    "editable": false,
    "nbgrader": {
     "cell_type": "markdown",
     "checksum": "5d6ea31d4ddbb6fea90b09b01a3994af",
     "grade": false,
     "grade_id": "cell-054f183b8c79fc29",
     "locked": true,
     "schema_version": 3,
     "solution": false,
     "task": false
    }
   },
   "source": [
    "You can again check your answer using the two cells below."
   ]
  },
  {
   "cell_type": "code",
   "execution_count": null,
   "metadata": {
    "deletable": false,
    "editable": false,
    "nbgrader": {
     "cell_type": "code",
     "checksum": "4d3900539e565031ca686e0eb2e91136",
     "grade": false,
     "grade_id": "cell-bb39b2da6993598c",
     "locked": true,
     "schema_version": 3,
     "solution": false,
     "task": false
    }
   },
   "outputs": [],
   "source": [
    "%%rdf turtle -l 2check -d none\n",
    "<http://example.org/shops#ebuy> <http://example.org/predicates#name> \"eBuy\" ;\n",
    "    a <http://example.org/classes#Commerce> ;\n",
    "    <http://example.org/predicates#sells> <http://example.org/products#GoodProduct> , <http://example.org/products#BetterProduct> .\n",
    "<http://example.org/products#GoodProduct> <http://example.org/predicates#name> \"Good Product\" ;\n",
    "    <http://example.org/predicates#id> \"99999999\"^^xsd:integer .\n",
    "<http://example.org/products#BetterProduct> <http://example.org/predicates#name> \"Better Product\" ;\n",
    "    <http://example.org/predicates#code> \"ABCDEF123456\" ."
   ]
  },
  {
   "cell_type": "code",
   "execution_count": null,
   "metadata": {
    "deletable": false,
    "editable": false,
    "nbgrader": {
     "cell_type": "code",
     "checksum": "8c6d6e78389d91107e4cfaac8652b996",
     "grade": false,
     "grade_id": "cell-7db224f33f79f9df",
     "locked": true,
     "schema_version": 3,
     "solution": false,
     "task": false
    }
   },
   "outputs": [],
   "source": [
    "%rdf shex validate -l 2 -g 2check -s http://example.org/shapes#ShopShape -f http://example.org/shops#ebuy"
   ]
  },
  {
   "cell_type": "code",
   "execution_count": null,
   "metadata": {
    "deletable": false,
    "editable": false,
    "nbgrader": {
     "cell_type": "code",
     "checksum": "a167a9137c460e261508ec655a3fa319",
     "grade": true,
     "grade_id": "cell-2c2bca492b6c540c",
     "locked": true,
     "points": 1,
     "schema_version": 3,
     "solution": false,
     "task": false
    }
   },
   "outputs": [],
   "source": [
    "# This test will check if all basic constraints are correct. [1 point]"
   ]
  },
  {
   "cell_type": "code",
   "execution_count": null,
   "metadata": {
    "deletable": false,
    "editable": false,
    "nbgrader": {
     "cell_type": "code",
     "checksum": "952baa82f5129893b021b87ea06c0002",
     "grade": true,
     "grade_id": "cell-e6cb93e049139151",
     "locked": true,
     "points": 1,
     "schema_version": 3,
     "solution": false,
     "task": false
    }
   },
   "outputs": [],
   "source": [
    "# This test will check whether the shop class is constrained correctly. [1 point]"
   ]
  },
  {
   "cell_type": "code",
   "execution_count": null,
   "metadata": {
    "deletable": false,
    "editable": false,
    "nbgrader": {
     "cell_type": "code",
     "checksum": "915b0163c5592504b56619c7845fdcf2",
     "grade": true,
     "grade_id": "cell-183716ef5c046579",
     "locked": true,
     "points": 1,
     "schema_version": 3,
     "solution": false,
     "task": false
    }
   },
   "outputs": [],
   "source": [
    "# This test will check whether you used references correctly. [1 point]"
   ]
  },
  {
   "cell_type": "code",
   "execution_count": null,
   "metadata": {
    "deletable": false,
    "editable": false,
    "nbgrader": {
     "cell_type": "code",
     "checksum": "1b9f936c58ca54fe9e9d4302add0e8ef",
     "grade": true,
     "grade_id": "cell-d321c676c03f079a",
     "locked": true,
     "points": 1,
     "schema_version": 3,
     "solution": false,
     "task": false
    }
   },
   "outputs": [],
   "source": [
    "# This test will check whether the product identification predicates are constrained correctly. [1 point]"
   ]
  },
  {
   "cell_type": "markdown",
   "metadata": {
    "deletable": false,
    "editable": false,
    "nbgrader": {
     "cell_type": "markdown",
     "checksum": "ebe8d0e335f4ce45391db3e1cb40688a",
     "grade": false,
     "grade_id": "cell-0ed81fa3fd2ebf99",
     "locked": true,
     "schema_version": 3,
     "solution": false,
     "task": false
    }
   },
   "source": [
    "## Inverse Triple constraints\n",
    "\n",
    "Up to now we have only constrained outgoing triples, in which the focus node is the subject of the triple. But as we will see, it can also make sense to constrain the opposite, incoming triples, in which the focus node is the object. For this one uses **inverse triple constraints** which are prefixed by a Circumflex (^). For example if we want to declare that a lecture can only be attended by students:\n",
    "\n",
    "**&lt;LectureShape&gt; {  \n",
    "&nbsp;&nbsp;&nbsp;&nbsp;ex:name xsd:string ;  \n",
    "&nbsp;&nbsp;&nbsp;&nbsp;^ex:attends @&lt;StudentShape&gt;  \n",
    "}**\n",
    "\n",
    "**&lt;StudentShape&gt; {  \n",
    "&nbsp;&nbsp;&nbsp;&nbsp;ex:matNr xsd:integer MinInclusive 1 MaxInclusive 999999;  \n",
    "}**\n",
    "\n",
    "When checking LectureShape against ex:SemWeb, the following graph will pass:\n",
    "\n",
    "**ex:SemWeb ex:name \"Semantic Web WS20\" .  \n",
    "ex:Leia ex:attends ex:SemWeb ;  \n",
    "&nbsp;&nbsp;&nbsp;&nbsp;ex:matNr 123456 .**\n",
    "\n",
    "but this one will fail because ex:Luke doesn't match StudentShape:\n",
    "\n",
    "**ex:SemWeb ex:name \"Semantic Web WS20\" .  \n",
    "ex:Luke ex:attends ex:SemWeb .**  \n",
    "\n",
    "## Repeated Properties\n",
    "\n",
    "Sometimes when using generic properties like ex:parent (instead of ex:father and ex:mother) they are used multiple times in one shape. We can then give them different constraints. For example, to constrain that a person has to have two parents, a male and a female one:\n",
    "\n",
    "**&lt;PersonShape&gt; {  \n",
    "&nbsp;&nbsp;&nbsp;&nbsp;ex:parent @&lt;MaleShape&gt; ;  \n",
    "&nbsp;&nbsp;&nbsp;&nbsp;ex:parent @&lt;FemaleShape&gt;  \n",
    "}**\n",
    "\n",
    "## Closed/Open Properties\n",
    "\n",
    "Once we constrain a property in a shape, it becomes **closed**. All triples of a closed property have to match one of the constraints. Sometimes we want to constrain a property but still allow other occurrences. To do this, we have to open the property with the **EXTRA** keyword. For example, the following shape uses rdf:type as a closed property:\n",
    "\n",
    "**&lt;InstitutionShape&gt; {  \n",
    "&nbsp;&nbsp;&nbsp;&nbsp;a \\[ ex:Institution \\]   \n",
    "}**\n",
    "\n",
    "Then the following graph will fail the test against InstitutionShape because it has a second rdf:type property:\n",
    "\n",
    "**ex:RWTH a ex:Institution, ex:University .**\n",
    "\n",
    "But if we open the property rdf:type using **EXTRA \\<List of properties\\>**, the above graph will pass instead:\n",
    "\n",
    "**&lt;InstitutionShape&gt; EXTRA a {  \n",
    "&nbsp;&nbsp;&nbsp;&nbsp;a \\[ ex:Institution \\]  \n",
    "}**\n",
    "\n",
    "To open multiple properties, one does is like this:\n",
    "\n",
    "**&lt;InstitutionShape&gt; EXTRA ex:chair a {  \n",
    "&nbsp;&nbsp;&nbsp;&nbsp;a \\[ ex:Institution \\]  \n",
    "}**\n",
    "\n",
    "## Closed/Open Shapes\n",
    "\n",
    "Similar to properties, shapes can also be open/closed. By default, shapes are open, which means that additional properties not constrained in the shape are ignored by the validation. For example, the following shape is open:\n",
    "\n",
    "**&lt;InstitutionShape&gt; {  \n",
    "&nbsp;&nbsp;&nbsp;&nbsp;a \\[ ex:Institution \\]  \n",
    "}**\n",
    "\n",
    "Which means that the following graph will pass the test even though it provides additional properties for ex:RWTH:\n",
    "\n",
    "**ex:RWTH a ex:Institution ;  \n",
    "&nbsp;&nbsp;&nbsp;&nbsp;ex:name \"Rheinisch-Westfälische Technische Hochschule Aachen\"**\n",
    "\n",
    "But if we close the shape using the **CLOSED** keyword, the above graph will instead fail the test:\n",
    "\n",
    "**&lt;InstitutionShape&gt; CLOSED {  \n",
    "&nbsp;&nbsp;&nbsp;&nbsp;a \\[ ex:Institution \\]  \n",
    "}**\n",
    "\n",
    "## Task 3: Complex Schemata [4 points]\n",
    "\n",
    "Use ShEx to model the following schema:  \n",
    "- A team must have at least one player as a member.\n",
    "- A team must have exactly one coach as a member.\n",
    "- A team must belong to the class of groups but can additionally belong to other classes.\n",
    "- A team can have no other properties.\n",
    "\n",
    "The shape expression should be labelled **http://example.org/shapes#TeamShape**  \n",
    "The shape expressions **http://example.org/shapes#PlayerShape** and **http://example.org/shapes#CoachShape** are already given. You can use them but **do not change them!**\n",
    "\n",
    "Use the following URIs:  \n",
    "member of: **http://example.org/predicates#memberOf**  \n",
    "Group: **http://example.org/classes#Group**"
   ]
  },
  {
   "cell_type": "code",
   "execution_count": null,
   "metadata": {
    "deletable": false,
    "nbgrader": {
     "cell_type": "code",
     "checksum": "6147505f45a4cb6ae8fb530890841b04",
     "grade": false,
     "grade_id": "cell-b472ad1ba852d38b",
     "locked": false,
     "schema_version": 3,
     "solution": true,
     "task": false
    }
   },
   "outputs": [],
   "source": [
    "%%rdf shex parse -l 3\n",
    "<http://example.org/shapes#PlayerShape> {\n",
    "    a [ <http://example.org/classes#Player> ] ;\n",
    "    <http://example.org/predicates#memberOf> @<http://example.org/shapes#TeamShape> ?\n",
    "}\n",
    "\n",
    "<http://example.org/shapes#CoachShape> {\n",
    "    a [ <http://example.org/classes#Coach> ] ;\n",
    "    <http://example.org/predicates#memberOf> @<http://example.org/shapes#TeamShape> ?\n",
    "}\n",
    "\n",
    "### YOUR SOLUTION HERE"
   ]
  },
  {
   "cell_type": "markdown",
   "metadata": {
    "deletable": false,
    "editable": false,
    "nbgrader": {
     "cell_type": "markdown",
     "checksum": "50c7026ecb6442dc80d4fa6dd85a9c46",
     "grade": false,
     "grade_id": "cell-fed0b294c91b167d",
     "locked": true,
     "schema_version": 3,
     "solution": false,
     "task": false
    }
   },
   "source": [
    "You can again check your answer using the two cells below."
   ]
  },
  {
   "cell_type": "code",
   "execution_count": null,
   "metadata": {
    "deletable": false,
    "editable": false,
    "nbgrader": {
     "cell_type": "code",
     "checksum": "980b865b52d22e274feedb32934b1232",
     "grade": false,
     "grade_id": "cell-83c6b3b5fa5eb1e4",
     "locked": true,
     "schema_version": 3,
     "solution": false,
     "task": false
    }
   },
   "outputs": [],
   "source": [
    "%%rdf turtle -l 3check\n",
    "<http://example.org/#Bob> a <http://example.org/classes#Player> ;\n",
    "    <http://example.org/predicates#memberOf> <http://example.org/#Team> .\n",
    "<http://example.org/#Alice> a <http://example.org/classes#Player> ;\n",
    "    <http://example.org/predicates#memberOf> <http://example.org/#Team> .\n",
    "<http://example.org/#Laura> a <http://example.org/classes#Coach> ;\n",
    "    <http://example.org/predicates#memberOf> <http://example.org/#Team> .\n",
    "<http://example.org/#Team> a <http://example.org/classes#Group>, <http://example.org/classes#Trio> ."
   ]
  },
  {
   "cell_type": "code",
   "execution_count": null,
   "metadata": {
    "deletable": false,
    "editable": false,
    "nbgrader": {
     "cell_type": "code",
     "checksum": "034981a38c25bee95d0a343315bd6d72",
     "grade": false,
     "grade_id": "cell-2e7c16ce6c9fba06",
     "locked": true,
     "schema_version": 3,
     "solution": false,
     "task": false
    }
   },
   "outputs": [],
   "source": [
    "%rdf shex validate -g 3check -l 3 -s http://example.org/shapes#TeamShape -f http://example.org/#Team"
   ]
  },
  {
   "cell_type": "code",
   "execution_count": null,
   "metadata": {
    "deletable": false,
    "editable": false,
    "nbgrader": {
     "cell_type": "code",
     "checksum": "a907ab2b5583068a640a6a333fb40515",
     "grade": true,
     "grade_id": "cell-812cfc2838671413",
     "locked": true,
     "points": 1,
     "schema_version": 3,
     "solution": false,
     "task": false
    }
   },
   "outputs": [],
   "source": [
    "# This test will check if modelled the first constraint correctly. [1 point]"
   ]
  },
  {
   "cell_type": "code",
   "execution_count": null,
   "metadata": {
    "deletable": false,
    "editable": false,
    "nbgrader": {
     "cell_type": "code",
     "checksum": "ac11867c763cf53fc53423613c038e3c",
     "grade": true,
     "grade_id": "cell-01e2d9f2766dfdfb",
     "locked": true,
     "points": 1,
     "schema_version": 3,
     "solution": false,
     "task": false
    }
   },
   "outputs": [],
   "source": [
    "# This test will check if modelled the second constraint correctly. [1 point]"
   ]
  },
  {
   "cell_type": "code",
   "execution_count": null,
   "metadata": {
    "deletable": false,
    "editable": false,
    "nbgrader": {
     "cell_type": "code",
     "checksum": "e755a150f707f5683e25bcc6a43d33aa",
     "grade": true,
     "grade_id": "cell-490656ec4d8e9679",
     "locked": true,
     "points": 1,
     "schema_version": 3,
     "solution": false,
     "task": false
    }
   },
   "outputs": [],
   "source": [
    "# This test will check if modelled the third constraint correctly. [1 point]"
   ]
  },
  {
   "cell_type": "code",
   "execution_count": null,
   "metadata": {
    "deletable": false,
    "editable": false,
    "nbgrader": {
     "cell_type": "code",
     "checksum": "5113f320e1b680f3a37872dd42b6dc00",
     "grade": true,
     "grade_id": "cell-a53d8f6ef0538b28",
     "locked": true,
     "points": 1,
     "schema_version": 3,
     "solution": false,
     "task": false
    }
   },
   "outputs": [],
   "source": [
    "# This test will check if modelled the fourth constraint correctly. [1 point]"
   ]
  },
  {
   "cell_type": "markdown",
   "metadata": {
    "deletable": false,
    "editable": false,
    "nbgrader": {
     "cell_type": "markdown",
     "checksum": "690e7ddb7ef56221416708bab2392115",
     "grade": false,
     "grade_id": "cell-33d3efd3d4fa1a25",
     "locked": true,
     "schema_version": 3,
     "solution": false,
     "task": false
    }
   },
   "source": [
    "## Task 4: Understanding Schemata [4 points]\n",
    "\n",
    "Consider the following ShEx schema:"
   ]
  },
  {
   "cell_type": "code",
   "execution_count": null,
   "metadata": {
    "deletable": false,
    "editable": false,
    "nbgrader": {
     "cell_type": "code",
     "checksum": "3ec9de6e43612ffd664074d82cc5ee84",
     "grade": false,
     "grade_id": "cell-59290e88062fd41d",
     "locked": true,
     "schema_version": 3,
     "solution": false,
     "task": false
    }
   },
   "outputs": [],
   "source": [
    "%%rdf shex parse -l 4\n",
    "PREFIX p: <http://example.org/predicates#>\n",
    "PREFIX c: <http://example.org/classes#>\n",
    "PREFIX title: <http://example.org/titles#>\n",
    "PREFIX shape: <http://example.org/shapes#>\n",
    "PREFIX xsd: <http://www.w3.org/2001/XMLSchema#>\n",
    "\n",
    "shape:ExamShape CLOSED {\n",
    "    p:id xsd:string Length 10 AND Literal ;\n",
    "    p:lecture @shape:LectureShape ;\n",
    "    p:credit xsd:integer MinInclusive 0 MaxInclusive 12 ;\n",
    "    ^p:examines @shape:AssistentShape {2,} ;\n",
    "    ^p:examines @shape:ProfessorShape ;\n",
    "    ^p:attends @shape:StudentShape +\n",
    "}\n",
    "\n",
    "shape:LectureShape CLOSED {\n",
    "    p:name xsd:string ;\n",
    "    ^p:attends @shape:StudentShape + ;\n",
    "}\n",
    "\n",
    "shape:ProfessorShape EXTRA p:title {\n",
    "    p:title [ title:Professor ]\n",
    "}\n",
    "\n",
    "shape:AssistentShape {\n",
    "    p:assistentOf @shape:ProfessorShape +\n",
    "}\n",
    "\n",
    "shape:StudentShape {\n",
    "    p:matNr xsd:integer MinInclusive 1 MaxInclusive 999999 ;\n",
    "}"
   ]
  },
  {
   "cell_type": "markdown",
   "metadata": {
    "deletable": false,
    "editable": false,
    "nbgrader": {
     "cell_type": "markdown",
     "checksum": "3c5e0d315dc2058b13e5a51bcbb65a4a",
     "grade": false,
     "grade_id": "cell-4e3a79fd3cb63c13",
     "locked": true,
     "schema_version": 3,
     "solution": false,
     "task": false
    }
   },
   "source": [
    "Model a graph using turtle which passes when tested against the above schema.\n",
    "\n",
    "The validation will start at **http://example.org/shapes#ExamShape** and will focus on the node **http://example.org/#SemWebExam**"
   ]
  },
  {
   "cell_type": "code",
   "execution_count": null,
   "metadata": {
    "deletable": false,
    "nbgrader": {
     "cell_type": "code",
     "checksum": "60be3bf6b8f1105c45faa9801ffb7159",
     "grade": false,
     "grade_id": "cell-b4ea49e66ee714e0",
     "locked": false,
     "schema_version": 3,
     "solution": true,
     "task": false
    }
   },
   "outputs": [],
   "source": [
    "%%rdf turtle -l 4 -d graph\n",
    "### YOUR SOLUTION HERE"
   ]
  },
  {
   "cell_type": "markdown",
   "metadata": {
    "deletable": false,
    "editable": false,
    "nbgrader": {
     "cell_type": "markdown",
     "checksum": "9fc94bd1b51f4aec3cbe67db79c2f048",
     "grade": false,
     "grade_id": "cell-8edbdecfe5f8b27a",
     "locked": true,
     "schema_version": 3,
     "solution": false,
     "task": false
    }
   },
   "source": [
    "You can check whether your graph passes by running the cell below. If it doesn't pass, the validator will give you a hint and if it passes you will get all points!"
   ]
  },
  {
   "cell_type": "code",
   "execution_count": null,
   "metadata": {
    "deletable": false,
    "editable": false,
    "nbgrader": {
     "cell_type": "code",
     "checksum": "83f59c4aa25bda049231ddeb5dcd05bb",
     "grade": false,
     "grade_id": "cell-f93fff27083a858d",
     "locked": true,
     "schema_version": 3,
     "solution": false,
     "task": false
    }
   },
   "outputs": [],
   "source": [
    "%rdf shex validate -l 4 -g 4 -s http://example.org/shapes#ExamShape -f http://example.org/#SemWebExam"
   ]
  },
  {
   "cell_type": "code",
   "execution_count": null,
   "metadata": {
    "deletable": false,
    "editable": false,
    "nbgrader": {
     "cell_type": "code",
     "checksum": "adaac48a0f7de9fae548e9c944f371b6",
     "grade": true,
     "grade_id": "cell-b457d9b4f1050549",
     "locked": true,
     "points": 4,
     "schema_version": 3,
     "solution": false,
     "task": false
    }
   },
   "outputs": [],
   "source": [
    "# This test will check whether your graph passes the validation. [4 points]"
   ]
  }
 ],
 "metadata": {
  "kernelspec": {
   "display_name": "Python 3",
   "language": "python",
   "name": "python3"
  },
  "language_info": {
   "codemirror_mode": {
    "name": "ipython",
    "version": 3
   },
   "file_extension": ".py",
   "mimetype": "text/x-python",
   "name": "python",
   "nbconvert_exporter": "python",
   "pygments_lexer": "ipython3",
   "version": "3.8.5"
  }
 },
 "nbformat": 4,
 "nbformat_minor": 4
}
