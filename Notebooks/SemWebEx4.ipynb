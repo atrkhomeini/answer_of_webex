{
 "cells": [
  {
   "cell_type": "code",
   "execution_count": null,
   "metadata": {
    "deletable": false,
    "editable": false,
    "nbgrader": {
     "cell_type": "code",
     "checksum": "6f535eed937e698611e88fc7a099b721",
     "grade": false,
     "grade_id": "cell-7734da52825b1133",
     "locked": true,
     "schema_version": 3,
     "solution": false,
     "task": false
    }
   },
   "outputs": [],
   "source": [
    "# This cell loads the rdf extension. Run it!\n",
    "%reload_ext jupyter-rdfify"
   ]
  },
  {
   "cell_type": "code",
   "execution_count": null,
   "metadata": {
    "deletable": false,
    "editable": false,
    "nbgrader": {
     "cell_type": "code",
     "checksum": "52a96778e75a0eb6fad71238d2db078f",
     "grade": true,
     "grade_id": "cell-78b15983a699239d",
     "locked": true,
     "points": 0,
     "schema_version": 3,
     "solution": false,
     "task": false
    }
   },
   "outputs": [],
   "source": [
    "# This test cell will initialize the tests. All tests are hidden in this exercise."
   ]
  },
  {
   "cell_type": "markdown",
   "metadata": {
    "deletable": false,
    "editable": false,
    "nbgrader": {
     "cell_type": "markdown",
     "checksum": "c04d41a0c4bf940b1a165490e399d138",
     "grade": false,
     "grade_id": "cell-8d62fa27d1a87d61",
     "locked": true,
     "schema_version": 3,
     "solution": false,
     "task": false
    }
   },
   "source": [
    "The cell below defines some prefixes which you may and should use throughout the exercise sheet. You don't have to define them yourself. Run it or they won't work."
   ]
  },
  {
   "cell_type": "code",
   "execution_count": null,
   "metadata": {
    "deletable": false,
    "editable": false,
    "nbgrader": {
     "cell_type": "code",
     "checksum": "0e0b7cd6a037ba7302b6c71064272286",
     "grade": false,
     "grade_id": "cell-0117cd411ed6f53f",
     "locked": true,
     "schema_version": 3,
     "solution": false,
     "task": false
    }
   },
   "outputs": [],
   "source": [
    "%%rdf turtle --prefix\n",
    "PREFIX rdf: <http://www.w3.org/1999/02/22-rdf-syntax-ns#>\n",
    "PREFIX rdfs: <http://www.w3.org/2000/01/rdf-schema#>\n",
    "PREFIX owl: <http://www.w3.org/2002/07/owl#>\n",
    "PREFIX xsd: <http://www.w3.org/2001/XMLSchema#>"
   ]
  },
  {
   "cell_type": "markdown",
   "metadata": {
    "deletable": false,
    "editable": false,
    "nbgrader": {
     "cell_type": "markdown",
     "checksum": "053151906689ca5e388c969e53475cd1",
     "grade": false,
     "grade_id": "cell-26d71752660f7c63",
     "locked": true,
     "schema_version": 3,
     "solution": false,
     "task": false
    }
   },
   "source": [
    "# Preliminary: Collections\n",
    "\n",
    "Another part of the RDF vocabulary we haven't touched on yet are collections. A collection is a **closed list** of elements. This means that once we have defined a collection, we can't add more elements. For this we use the terms **rdf:first**, **rdf:rest** and **rdf:nil**. To define a collection of the last members of band The Beatles:\n",
    "\n",
    "**ex:Beatles ex:lastMembers _:bn1 .  \n",
    "_:bn1 rdf:first ex:JohnLennon .  \n",
    "_:bn1 rdf:rest _:bn2 .  \n",
    "_:bn2 rdf:first ex:PaulMcCartney .  \n",
    "_:bn2 rdf:rest _:bn3 .  \n",
    "_:bn3 rdf:first ex:GeorgeHarrison .  \n",
    "_:bn3 rdf:rest _:bn4 .  \n",
    "_:bn4 rdf:first ex:RingoStarr .  \n",
    "_:bn4 rdf:rest rdf:nil .**\n",
    "\n",
    "So every element of the collection is a blank node with an rdf:first property to the \"value\" of the element and an rdf:rest property to the next element. To close the collection, the rdf:rest property of the last element point to rdf:nil. Because this notation is very unreadable (even when using square brackets for blank nodes), there is syntactic sugar for defining collections. To define a collection we just write all its elements between parenthesis. For example, we define the same collection as above:\n",
    "\n",
    "**ex:Beatles ex:lastMembers ( ex:JohnLennon ex:PaulMcCartney ex:GeorgeHarrison ex:RingoStarr ) .**\n",
    "\n",
    "This is a lot more readable and easier to write. Use it whenever possible!\n",
    "\n",
    "## Task 1: Monty Python [1 point]\n",
    "\n",
    "Create a collection containing all members of the comedy troupe Monty Python. The members are: Graham Chapman, John Cleese, Terry Gilliam, Eric Idle, Terry Jones and Michael Palin.\n",
    "\n",
    "Note: Even though lists have a fixed order, you can use any order you want in this exercise sheet as the tests will treat them as sets.\n",
    "\n",
    "Please use the following URIs:  \n",
    "Monty Python: **http://example.org/#MontyPython**  \n",
    "members: **http://example.org/#members**  \n",
    "Graham Chapman: **http://example.org/#Chapman**  \n",
    "John Cleese: **http://example.org/#Cleese**  \n",
    "Terry Gilliam: **http://example.org/#Gilliam**  \n",
    "Eric Idle: **http://example.org/#Idle**  \n",
    "Terry Johnes: **http://example.org/#Jones**  \n",
    "Michael Palin: **http://example.org/#Palin**"
   ]
  },
  {
   "cell_type": "code",
   "execution_count": null,
   "metadata": {
    "deletable": false,
    "nbgrader": {
     "cell_type": "code",
     "checksum": "8aa8a46f3e2499a662db54f0b5d9fb22",
     "grade": false,
     "grade_id": "cell-121f43c7b383c586",
     "locked": false,
     "schema_version": 3,
     "solution": true,
     "task": false
    }
   },
   "outputs": [],
   "source": [
    "%%rdf turtle -l montypython\n",
    "### YOUR SOLUTION HERE"
   ]
  },
  {
   "cell_type": "code",
   "execution_count": null,
   "metadata": {
    "deletable": false,
    "editable": false,
    "nbgrader": {
     "cell_type": "code",
     "checksum": "d80734b5dd812ddebf034237efc21f42",
     "grade": true,
     "grade_id": "cell-42b633d2c05958c3",
     "locked": true,
     "points": 1,
     "schema_version": 3,
     "solution": false,
     "task": false
    }
   },
   "outputs": [],
   "source": [
    "# This test will check whether your graph contains the list and it contains the correct resources. [1 point]\n",
    "# The order of the list does not matter."
   ]
  },
  {
   "cell_type": "markdown",
   "metadata": {
    "deletable": false,
    "editable": false,
    "nbgrader": {
     "cell_type": "markdown",
     "checksum": "349c4f12a40d6ed2f119944eb720b835",
     "grade": false,
     "grade_id": "cell-62228f8b03ec85ba",
     "locked": true,
     "schema_version": 3,
     "solution": false,
     "task": false
    }
   },
   "source": [
    "# Data Modelling with OWL 2\n",
    "\n",
    "Before, we used RDF Schema to write simple ontologies. These ontologies have the advantage that there are only a few rules, which makes an automated inference relatively efficient. But RDF Schema has very limited expressivity. For example we can't express that a class can only have a certain cardinality of a specific property or that a class is the intersection of two other classes.\n",
    "\n",
    "The **Web Ontology Language (OWL)** is an ontology language like RDFS but can be used to model more complex concepts. OWL allows us to formulate expressions from **description logic** directly in RDF. As in RDFS, OWL defines three components: Individuals/Objects (concrete elements), Classes/Concepts (sets of objects) and Roles/Properties (which associate two individuals).\n",
    "\n",
    "Most properties defined in the RDFS vocabulary can also be used when writing an ontology using OWL. For example **rdfs:subClassOf**, **rdfs:subPropertyOf**, **rdfs:range** and **rdfs:domain** can all be used together with OWL and have the same semantics.\n",
    "\n",
    "For more information on certain topics please consult the [OWL 2 Primer](https://www.w3.org/TR/owl2-primer/). In [Section 1.2](https://www.w3.org/TR/2012/REC-owl2-primer-20121211/#OWL_Syntaxes) you can change the syntax of the examples to turtle.\n",
    "\n",
    "## Classes\n",
    "\n",
    "As in RDFS, we use **rdf:type** to declare that a resource belongs to a class. In OWL, the class of all classes is **owl:Class** so to declare that a resource is a class:\n",
    "\n",
    "**ex:Professor a owl:Class .**\n",
    "\n",
    "**owl:Thing** is the class of everything (similar to rdfs:Resource) and **owl:Nothing** is the empty class. Both are predefined.\n",
    "\n",
    "## Properties\n",
    "\n",
    "OWL distinguishes between abstract roles, which are properties with resources as range, and concrete roles, which have a data type as range. The class of all abstract roles is **owl:ObjectProperty** and the class of all concrete roles is **owl:DatatypeProperty**. An example for both types of roles:\n",
    "\n",
    "**ex:belongsTo a owl:ObjectProperty ;  \n",
    "&nbsp;&nbsp;&nbsp;&nbsp;rdfs:range ex:Organisation .  \n",
    "ex:firstName a owl:DatatypeProperty ;  \n",
    "&nbsp;&nbsp;&nbsp;&nbsp;rdfs:range xsd:String .  \n",
    "ex:ProfDecker ex:belongsTo ex:I5 .  \n",
    "ex:ProfDecker ex:firstName \"Stefan\" .**\n",
    "\n",
    "ex:belongsTo is an abstract role because it has the class ex:Organisation as range. ex:firstName is a concrete role because it has the datatype xsd:String as range.\n",
    "\n",
    "## Class Expressions\n",
    "\n",
    "As in RDFS, we can use **rdfs:subClassOf** to define class hierarchies.\n",
    "\n",
    "To specify that two classes are equivalent (contain the same individuals), OWL defines the property **owl:equivalentClass**. To define that the classes ex:Dog and ex:Dogs are equivalent, one would add the following triple:\n",
    "\n",
    "**ex:Dog owl:equivalentClass ex:Dogs .**\n",
    "\n",
    "To specify that two classes are disjoint (an individual from one class cannot belong to the other class), OWL defines the property **owl:disjointWith**. To define that the classes ex:Dog and ex:Cat are disjoint, one would add the following triple:\n",
    "\n",
    "**ex:Dog owl:disjointWith ex:Cat .**\n",
    "\n",
    "There is another notation to easily specify pairwise disjointness of more than two classes. For this one uses the class **owl:AllDisjointClasses**, the property **owl:members** and a collection of classes in a blank node. To specify that ex:Dog, ex:Cat and ex:Horse are pairwise disjoint, one would add the following:\n",
    "\n",
    "**\\[ rdf:type owl:AllDisjointClasses;  \n",
    "owl:members ( ex:Dog ex:Cat ex:Horse ) \\] .**\n",
    "\n",
    "## Property Expressions\n",
    "\n",
    "Analogous to classes, we can define property hierarchies with **rdfs:subPropertyOf**, equivalent properties with **owl:equivalentProperty** and disjoint properties with **owl:propertyDisjointWith** (or **owl:AllDisjointProperties** and **owl:member**).\n",
    "\n",
    "You can also specify that a property is the inverse of another property with **owl:inverseOf**. To define that ex:owns is the inverse of ex:ownedBy, one would add the following triple:\n",
    "\n",
    "**ex:own owl:inverseOf ex:ownedBy .**\n",
    "\n",
    "## Property Classes\n",
    "\n",
    "In OWL there are also many classes to assign certain characteristics to properties. For example, to define that the property ex:knows is reflexive (everybody knows himself), one would use the class **owl:ReflexiveProperty**:\n",
    "\n",
    "**ex:knows a owl:ReflexiveProperty .**\n",
    "\n",
    "Here is a list of all property classes in OWL 2:\n",
    "\n",
    "[Reflexive](http://www.w3.org/TR/2012/REC-owl2-primer-20121211/#a_ReflexiveObjectProperty): **owl:ReflexiveProperty**  \n",
    "[Irreflexive](http://www.w3.org/TR/2012/REC-owl2-primer-20121211/#a_IrreflexiveObjectProperty): **owl:IrreflexiveProperty**  \n",
    "[Symmetric](http://www.w3.org/TR/2012/REC-owl2-primer-20121211/#a_SymmetricObjectProperty): **owl:SymmetricProperty**  \n",
    "[Asymmetric](http://www.w3.org/TR/2012/REC-owl2-primer-20121211/#a_AsymmetricObjectProperty): **owl:AsymmetricProperty**  \n",
    "[Transitive](http://www.w3.org/TR/2012/REC-owl2-primer-20121211/#a_TransitiveObjectProperty): **owl:TransitiveProperty**  \n",
    "[Functional](http://www.w3.org/TR/2012/REC-owl2-primer-20121211/#a_FunctionalObjectProperty): **owl:FunctionalProperty**  \n",
    "[Inverse Functional](http://www.w3.org/TR/2012/REC-owl2-primer-20121211/#a_InverseFunctionalObjectProperty): **owl:InverseFunctionalProperty**\n",
    "\n",
    "Note: Concrete roles (owl:DatatypeProperty) can at most be functional.\n",
    "\n",
    "## Assertions\n",
    "\n",
    "OWL does not make the assumption that different URIs are automatically different individuals. For example, let's say we have the functional property ex:father (everyone can have at most one father -> functional) but we have the two triples:\n",
    "\n",
    "**ex:Bart ex:father ex:Homer .  \n",
    "ex:Bart ex:father ex:HomerSimpson .**\n",
    "\n",
    "A reasoner that makes the unique-names assumption, would declare this graph as inconsistent because the ex:father property was earlier defined as functional (owl:FunctionalProperty). But an OWL reasoner does not make this assumption and instead infers that ex:Homer and ex:HomerSimpson are two names for the same individual. For this, OWL has two assertion properties, **owl:sameAs** and **owl:differentFrom**. To assert that ex:Homer and ex:HomerSimpson are the same person, one would add the following triple:\n",
    "\n",
    "**ex:Homer owl:sameAs ex:HomerSimpson .**\n",
    "\n",
    "Opposed to that, to assert that ex:Homer (greek author) and ex:HomerSimpson (cartoon character) are not the same person, one would add the following triple:\n",
    "\n",
    "**ex:Homer owl:differentFrom ex:HomerSimpson .**\n",
    "\n",
    "As with owl:AllDisjointClasses and owl:AllDisjointProperties, you can easily declare that multiple resources are pairwise different with **owl:AllDifferent** and **owl:member**.\n",
    "\n",
    "Note: owl:sameAs can be used on individuals and classes and means that two URIs are names for the same resource. owl:equivalentClass can only be used on classes and means that two classes contain the same individuals.\n",
    "\n",
    "### Negative Property Assertions\n",
    "\n",
    "Another type of assertion in OWL are negative property assertions. These types of assertions can be used to assert that a triple does not hold. The syntax for this assertion is similar to the syntax of RDF reification and uses the class **owl:NegativePropertyAssertion** as well as the three properties **owl:sourceIndividual**, **owl:assertionProperty** and **owl:targetIndividual** in a blank node. For example, to assert that ex:Homer (greek author) is **not** the father of ex:Bart, one would add the following triples:\n",
    "\n",
    "**\\[ a owl:NegativePropertyAssertion ;  \n",
    "owl:sourceIndividual ex:Bart ;  \n",
    "owl:assertionProperty ex:father ;  \n",
    "owl:targetIndividual ex:Homer \\] .**\n",
    "\n",
    "Note that positive property assertions are just facts (simple triples).\n",
    "\n",
    "## Task 2: Exams [2 points]\n",
    "\n",
    "Create an ontology about examiners and examinees using OWL 2 with the following information:\n",
    "\n",
    "There are three classes: examinees, examiners and examinants. All examinants are examiners and conversely. An examinee cannot be an examiner and conversely. To be examined by someone or being the examiner of someone are both abstract roles and inverses of each other. Only examiners can be the examiner of someone and only examinees can be examined by someone.\n",
    "\n",
    "Use the following URIs:  \n",
    "Examiner: **http://example.org/#Examiner**  \n",
    "Examinant: **http://example.org/#Examinant**  \n",
    "Examinee: **http://example.org/#Examinee**  \n",
    "examiner of: **http://example.org/#examinerOf**  \n",
    "examined by: **http://example.org/#examinedBy**  \n",
    "\n",
    "You may also use all OWL 2 and rdfs terms mentioned above this exercise.\n",
    "\n",
    "**Note: In this and all following tasks, do not forget to assign classes like owl:Class and owl:ObjectProperty. The tests will check the non-entailed graphs. Even though some terms like rdfs:domain and rdfs:range originate from the RDFS vocabulary, they are still also a part of OWL 2.**"
   ]
  },
  {
   "cell_type": "code",
   "execution_count": null,
   "metadata": {
    "deletable": false,
    "nbgrader": {
     "cell_type": "code",
     "checksum": "418df9aab05a906c8afcab1dd3697b83",
     "grade": false,
     "grade_id": "cell-dad23765e5056e86",
     "locked": false,
     "schema_version": 3,
     "solution": true,
     "task": false
    }
   },
   "outputs": [],
   "source": [
    "%%rdf turtle -l exams\n",
    "### YOUR SOLUTION HERE"
   ]
  },
  {
   "cell_type": "code",
   "execution_count": null,
   "metadata": {
    "deletable": false,
    "editable": false,
    "nbgrader": {
     "cell_type": "code",
     "checksum": "2488d29ddad7997f782f98c150f9a3ae",
     "grade": true,
     "grade_id": "cell-f9bc246eaf325773",
     "locked": true,
     "points": 1,
     "schema_version": 3,
     "solution": false,
     "task": false
    }
   },
   "outputs": [],
   "source": [
    "# This test will check whether you defined all classes and properties correctly. [1 point]"
   ]
  },
  {
   "cell_type": "code",
   "execution_count": null,
   "metadata": {
    "deletable": false,
    "editable": false,
    "nbgrader": {
     "cell_type": "code",
     "checksum": "536a6c2169c236424d8b3debf3b5d014",
     "grade": true,
     "grade_id": "cell-edc9adf9f8b7fba3",
     "locked": true,
     "points": 1,
     "schema_version": 3,
     "solution": false,
     "task": false
    }
   },
   "outputs": [],
   "source": [
    "# This test will check whether you defined all domains and ranges as well as class and property relationships correctly.\n",
    "# [1 point]"
   ]
  },
  {
   "cell_type": "markdown",
   "metadata": {
    "deletable": false,
    "editable": false,
    "nbgrader": {
     "cell_type": "markdown",
     "checksum": "bb85a31e66db8f1b584286a701902176",
     "grade": false,
     "grade_id": "cell-08481cd8fb3acd0a",
     "locked": true,
     "schema_version": 3,
     "solution": false,
     "task": false
    }
   },
   "source": [
    "## Task 3: The Friend Of An Enemy [6 points]\n",
    "\n",
    "### 3a) Ontology [4 points]\n",
    "Create an ontology about people and their relationships using OWL 2 with the following information:\n",
    "\n",
    "Every individual (use **owl:Thing**, which is the class of all individuals) is a human and conversely. Having a friend, having an enemy and knowing someone are all abstract roles. The friend of a friend is also a friend. Having a friend or an enemy means knowing this person. You automatically are your friend's friend and your enemy's enemy. Everybody knows himself. Having a best friend and having a worst enemy are abstract roles as well. You can only have at most one best friend and at most one worst enemy (if you do not know how to model this, take a closer look at the [property classes](#Property-Classes) mentioned above). A best friend is also a friend and a worst enemy is also an enemy. An enemy cannot also be a friend and conversely.\n",
    "\n",
    "Use the following URIs:  \n",
    "Human: **http://example.org/#Human**  \n",
    "Having a friend: **http://example.org/#hasFriend**  \n",
    "Having a best friend: **http://example.org/#hasBestFriend**  \n",
    "Having an enemy: **http://example.org/#hasEnemy**  \n",
    "Having a worst enemy: **http://example.org/#hasWorstEnemy**  \n",
    "Knowing someone: **http://example.org/#knows**  \n",
    "\n",
    "You may also use all OWL 2 and rdfs terms mentioned above this exercise. Do not use cardinality constraints in this task.\n",
    "\n",
    "Note: We can state that every individual is a human because ontologies can be domain specific. In this case our ontology is specific to a domain that only contains human individuals."
   ]
  },
  {
   "cell_type": "code",
   "execution_count": null,
   "metadata": {
    "deletable": false,
    "nbgrader": {
     "cell_type": "code",
     "checksum": "5a662bdd5d44552f1b94895710df3e68",
     "grade": false,
     "grade_id": "cell-d09e69255a9ee9ca",
     "locked": false,
     "schema_version": 3,
     "solution": true,
     "task": false
    }
   },
   "outputs": [],
   "source": [
    "%%rdf turtle -l friends\n",
    "### YOUR SOLUTION HERE"
   ]
  },
  {
   "cell_type": "code",
   "execution_count": null,
   "metadata": {
    "deletable": false,
    "editable": false,
    "nbgrader": {
     "cell_type": "code",
     "checksum": "ed2fdc5df78d6d640ed8e74188ae5555",
     "grade": true,
     "grade_id": "cell-6d9f7a59e2469e42",
     "locked": true,
     "points": 1,
     "schema_version": 3,
     "solution": false,
     "task": false
    }
   },
   "outputs": [],
   "source": [
    "# This test will check whether you defined all classes and properties correctly. [1 point]"
   ]
  },
  {
   "cell_type": "code",
   "execution_count": null,
   "metadata": {
    "deletable": false,
    "editable": false,
    "nbgrader": {
     "cell_type": "code",
     "checksum": "b562d0b161fc28106762c2449e88b622",
     "grade": true,
     "grade_id": "cell-441d1e31b686df76",
     "locked": true,
     "points": 1,
     "schema_version": 3,
     "solution": false,
     "task": false
    }
   },
   "outputs": [],
   "source": [
    "# This test will check whether you defined all class and property relationships correctly. [1 point]"
   ]
  },
  {
   "cell_type": "code",
   "execution_count": null,
   "metadata": {
    "deletable": false,
    "editable": false,
    "nbgrader": {
     "cell_type": "code",
     "checksum": "3aaebaaaf1900bc79db12c8c9239d0d7",
     "grade": true,
     "grade_id": "cell-3fe6102b3ac1ec6a",
     "locked": true,
     "points": 2,
     "schema_version": 3,
     "solution": false,
     "task": false
    }
   },
   "outputs": [],
   "source": [
    "# This test will check whether you defined all property classes (Symmetry, Transitivity, etc.) correctly. [2 points]"
   ]
  },
  {
   "cell_type": "markdown",
   "metadata": {
    "deletable": false,
    "editable": false,
    "nbgrader": {
     "cell_type": "markdown",
     "checksum": "9934bcf02b35881d12c152d1ebcacb77",
     "grade": false,
     "grade_id": "cell-422b340c3115842d",
     "locked": true,
     "schema_version": 3,
     "solution": false,
     "task": false
    }
   },
   "source": [
    "### 3b) Assertions [2 points]\n",
    "Using the ontology from 3a (just use the vocabulary, you do not actually need to do 3a to get points for 3b), assert the following facts:\n",
    "\n",
    "Harry's worst enemy is Lord Voldemort.  \n",
    "Lord Voldemort and Tom Riddle are the same Person.  \n",
    "Fred Weasley and George Weasley are **not** the same Person.  \n",
    "Professor Snape is **not** Harry's enemy.\n",
    "\n",
    "Use the following URIs:  \n",
    "Harry: **http://example.org/#Harry**  \n",
    "Lord Voldemort: **http://example.org/#Voldemort**  \n",
    "Tom Riddle: **http://example.org/#Tom**  \n",
    "Fred Weasley: **http://example.org/#Fred**  \n",
    "George Weasley: **http://example.org/#George**  \n",
    "Professor Snape: **http://example.org/#Snape**\n",
    "\n",
    "You may also use all OWL 2 and rdfs terms mentioned above this exercise. You may also use all terms from 3a."
   ]
  },
  {
   "cell_type": "code",
   "execution_count": null,
   "metadata": {
    "deletable": false,
    "nbgrader": {
     "cell_type": "code",
     "checksum": "ac695f0c1073ed2f190eedbf30783db2",
     "grade": false,
     "grade_id": "cell-8a5712c40318e939",
     "locked": false,
     "schema_version": 3,
     "solution": true,
     "task": false
    }
   },
   "outputs": [],
   "source": [
    "%%rdf turtle -l hp\n",
    "### YOUR SOLUTION HERE"
   ]
  },
  {
   "cell_type": "code",
   "execution_count": null,
   "metadata": {
    "deletable": false,
    "editable": false,
    "nbgrader": {
     "cell_type": "code",
     "checksum": "c4ef2b7ec5937e9f6e67db2c97646e23",
     "grade": true,
     "grade_id": "cell-ba5583dca3da0251",
     "locked": true,
     "points": 1,
     "schema_version": 3,
     "solution": false,
     "task": false
    }
   },
   "outputs": [],
   "source": [
    "# This test will check whether the first three assertions are correct. [1 point]"
   ]
  },
  {
   "cell_type": "code",
   "execution_count": null,
   "metadata": {
    "deletable": false,
    "editable": false,
    "nbgrader": {
     "cell_type": "code",
     "checksum": "945fef9e6eaf53f1e3d329f23ab9d734",
     "grade": true,
     "grade_id": "cell-e18e70524870689e",
     "locked": true,
     "points": 1,
     "schema_version": 3,
     "solution": false,
     "task": false
    }
   },
   "outputs": [],
   "source": [
    "# This test will check whether the fourth assertion is correct. [1 point]"
   ]
  },
  {
   "cell_type": "markdown",
   "metadata": {
    "deletable": false,
    "editable": false,
    "nbgrader": {
     "cell_type": "markdown",
     "checksum": "dd24fbd74cd13aa4c02fea82a62924a9",
     "grade": false,
     "grade_id": "cell-946f1d5f6dd25401",
     "locked": true,
     "schema_version": 3,
     "solution": false,
     "task": false
    }
   },
   "source": [
    "## Complex Classes\n",
    "\n",
    "Before, we only defined classes and then assigned individuals to them. As classes are similar to sets (set theory) we may want to use set operators like the intersection, the union or the complement to combine them and create new classes. OWL 2 allows us to do just this using the terms **owl:intersectionOf**, **owl:unionOf** and **owl:complementOf**. For example, to create a class containing all parents as union of all mothers and all fathers, we would do it like this:\n",
    "\n",
    "**\\[ a owl:Class ;  \n",
    "owl:unionOf ( ex:Mother ex:Father ) \\] .**\n",
    "\n",
    "Because we defined the class using only a blank node, it is an anonymous class which we can't refer to later and thus can only use once. To give our class a name, we use **owl:equivalentClass**. To give the class from the last example the name ex:Parent, we would do it like this:\n",
    "\n",
    "**ex:Parent owl:equivalentClass \\[  \n",
    "&nbsp;&nbsp;&nbsp;&nbsp;a owl:Class ;  \n",
    "&nbsp;&nbsp;&nbsp;&nbsp;owl:unionOf ( ex:Mother ex:Father )  \n",
    "\\] .**\n",
    "\n",
    "Instead of owl:equivalentClass, we can also use **rdfs:subClassOf** to indicate necessary, but not sufficient, conditions for a class. For example, a grandfather has to be man and a parent but not everyone who is a man and a parent is also a grandfather:\n",
    "\n",
    "**ex:Grandfather rdfs:subClassOf \\[  \n",
    "&nbsp;&nbsp;&nbsp;&nbsp;a owl:Class ;  \n",
    "&nbsp;&nbsp;&nbsp;&nbsp;owl:intersectionOf ( ex:Man ex:Parent )  \n",
    "\\] .**\n",
    "\n",
    "Remember that you can use anonymous classes everywhere (but only once because they have no name). This allows for nesting like this:\n",
    "\n",
    "**ex:Jack  rdf:type \\[  \n",
    "&nbsp;&nbsp;&nbsp;&nbsp;rdf:type owl:Class ;  \n",
    "&nbsp;&nbsp;&nbsp;&nbsp;owl:intersectionOf (  \n",
    "&nbsp;&nbsp;&nbsp;&nbsp;&nbsp;&nbsp;&nbsp;&nbsp;ex:Person  \n",
    "&nbsp;&nbsp;&nbsp;&nbsp;&nbsp;&nbsp;&nbsp;&nbsp;\\[ rdf:type owl:Class ;  \n",
    "&nbsp;&nbsp;&nbsp;&nbsp;&nbsp;&nbsp;&nbsp;&nbsp;owl:complementOf ex:Parent \\]  \n",
    "&nbsp;&nbsp;&nbsp;&nbsp;)  \n",
    "\\] .**\n",
    "\n",
    "This means that Jack is a person without a child.\n",
    "\n",
    "## Task 4: Eating Utensils [4 points]\n",
    "\n",
    "Use OWL complex classes to define the following classes:\n",
    "\n",
    "The class of eating utensils is the same as all spoons, forks, knives or chopsticks.\n",
    "\n",
    "The class of sporks is the same as everything that is a spoon and a fork.\n",
    "\n",
    "The class of European eating utensils contains **at most** all eating utensils except chopsticks.  \n",
    "(i.e., assume that there may be additional kinds of eating utensils besides the discussed ones.)\n",
    "\n",
    "Use the following URIs:  \n",
    "Eating utensil: **http://example.org/#Utensil**  \n",
    "European eating utensil: **http://example.org/#EuropeanUtensil**  \n",
    "Cutlery: **http://example.org/#Cutlery**  \n",
    "Spoons: **http://example.org/#Spoon**  \n",
    "Forks: **http://example.org/#Fork**  \n",
    "Knifes: **http://example.org/#Knife**  \n",
    "Chopsticks: **http://example.org/#Chopstick**  \n",
    "Spork: **http://example.org/#Spork**\n",
    "\n",
    "You may also use all OWL 2 and rdfs terms mentioned above this exercise."
   ]
  },
  {
   "cell_type": "code",
   "execution_count": null,
   "metadata": {
    "deletable": false,
    "nbgrader": {
     "cell_type": "code",
     "checksum": "1e5d3548d5e82cf0ff8624c25ae0d22f",
     "grade": false,
     "grade_id": "cell-39713472abf4a9d1",
     "locked": false,
     "schema_version": 3,
     "solution": true,
     "task": false
    }
   },
   "outputs": [],
   "source": [
    "%%rdf turtle -l utensils --display raw\n",
    "### YOUR SOLUTION HERE"
   ]
  },
  {
   "cell_type": "code",
   "execution_count": null,
   "metadata": {
    "deletable": false,
    "editable": false,
    "nbgrader": {
     "cell_type": "code",
     "checksum": "53e2297d950562db5e250d8272202061",
     "grade": true,
     "grade_id": "cell-54fe5a27f6b5c488",
     "locked": true,
     "points": 1,
     "schema_version": 3,
     "solution": false,
     "task": false
    }
   },
   "outputs": [],
   "source": [
    "# This test will check whether your utensil class is correct. [1 point]"
   ]
  },
  {
   "cell_type": "code",
   "execution_count": null,
   "metadata": {
    "deletable": false,
    "editable": false,
    "nbgrader": {
     "cell_type": "code",
     "checksum": "e0ff4aea7f00df88de6b22ca0fe252ea",
     "grade": true,
     "grade_id": "cell-e6ab9c19f112a2e7",
     "locked": true,
     "points": 1,
     "schema_version": 3,
     "solution": false,
     "task": false
    }
   },
   "outputs": [],
   "source": [
    "# This test will check whether your spork class is correct. [1 point]"
   ]
  },
  {
   "cell_type": "code",
   "execution_count": null,
   "metadata": {
    "deletable": false,
    "editable": false,
    "nbgrader": {
     "cell_type": "code",
     "checksum": "22a80864e5f5f2906cf1229d2ed93025",
     "grade": true,
     "grade_id": "cell-7e9f6e2dfca83e81",
     "locked": true,
     "points": 1,
     "schema_version": 3,
     "solution": false,
     "task": false
    }
   },
   "outputs": [],
   "source": [
    "# This test will check whether your European utensil class is modelled correctly. [1 point]"
   ]
  },
  {
   "cell_type": "code",
   "execution_count": null,
   "metadata": {
    "deletable": false,
    "editable": false,
    "nbgrader": {
     "cell_type": "code",
     "checksum": "dc12b12a85fb7aad2b519f06e6ca628b",
     "grade": true,
     "grade_id": "cell-c597dc96a2d1fa8f",
     "locked": true,
     "points": 1,
     "schema_version": 3,
     "solution": false,
     "task": false
    }
   },
   "outputs": [],
   "source": [
    "# This test will check whether your European utensil class models the \"at most\" aspect. [1 point]"
   ]
  },
  {
   "cell_type": "markdown",
   "metadata": {
    "deletable": false,
    "editable": false,
    "nbgrader": {
     "cell_type": "markdown",
     "checksum": "613a7375fb6fad64dd84512556bed33e",
     "grade": false,
     "grade_id": "cell-d8485892d8a1bbae",
     "locked": true,
     "schema_version": 3,
     "solution": false,
     "task": false
    }
   },
   "source": [
    "## Property Restrictions\n",
    "\n",
    "Property restrictions are another type of constructor for complex classes. In contrast to before, where we constructed complex classes by combining other classes, we now construct classes by defining restrictions on properties of this class. For this, OWL defines the class **owl:Restriction** and the property **owl:onProperty**.\n",
    "\n",
    "OWL provides different means to define the actual restriction of a given property, of which we will only cover some. Please note that we will only cover abstract property restrictions. If you're interested you can read up on datatype property restrictions in the [primer](https://www.w3.org/TR/2012/REC-owl2-primer-20121211/#Advanced_Use_of_Datatypes).\n",
    "\n",
    "### Quantifier Restrictions\n",
    "\n",
    "We can define existential and universal restrictions on properties. For this, OWL provides the terms **owl:allValuesFrom** for universal restrictions and **owl:someValuesFrom** for existential restrictions. To declare that all children of a parent have to be human, one would do it likes this:\n",
    "\n",
    "**ex:Parent rdfs:subClassOf \\[  \n",
    "&nbsp;&nbsp;&nbsp;&nbsp;a owl:Restriction ;  \n",
    "&nbsp;&nbsp;&nbsp;&nbsp;owl:onProperty ex:hasChild ;  \n",
    "&nbsp;&nbsp;&nbsp;&nbsp;owl:allValuesFrom ex:Human  \n",
    "\\] .**\n",
    "\n",
    "Note that using a universal quantifier property restriction does the same as using rdfs:range.\n",
    "\n",
    "To declare that a parent has to have at least one human child, one would do it like this:\n",
    "\n",
    "**ex:Parent rdfs:subClassOf \\[  \n",
    "&nbsp;&nbsp;&nbsp;&nbsp;a owl:Restriction ;  \n",
    "&nbsp;&nbsp;&nbsp;&nbsp;owl:onProperty ex:hasChild ;  \n",
    "&nbsp;&nbsp;&nbsp;&nbsp;owl:someValuesFrom ex:Human  \n",
    "\\] .**\n",
    "\n",
    "We can now combine both quantifiers to define the class ex:Parent as everyone who has at least one human child and all children must be human:\n",
    "\n",
    "**ex:Parent owl:equivalenClass \\[  \n",
    "&nbsp;&nbsp;&nbsp;&nbsp;a owl:Class ;  \n",
    "&nbsp;&nbsp;&nbsp;&nbsp;owl:intersectionOf (  \n",
    "&nbsp;&nbsp;&nbsp;&nbsp;&nbsp;&nbsp;&nbsp;&nbsp;\\[ a owl:Restriction ;  \n",
    "&nbsp;&nbsp;&nbsp;&nbsp;&nbsp;&nbsp;&nbsp;&nbsp;owl:onProperty ex:hasChild ;  \n",
    "&nbsp;&nbsp;&nbsp;&nbsp;&nbsp;&nbsp;&nbsp;&nbsp;owl:allValuesFrom ex:Human \\]  \n",
    "&nbsp;&nbsp;&nbsp;&nbsp;&nbsp;&nbsp;&nbsp;&nbsp;\\[ a owl:Restriction ;  \n",
    "&nbsp;&nbsp;&nbsp;&nbsp;&nbsp;&nbsp;&nbsp;&nbsp;owl:onProperty ex:hasChild ;  \n",
    "&nbsp;&nbsp;&nbsp;&nbsp;&nbsp;&nbsp;&nbsp;&nbsp;owl:someValuesFrom ex:Human \\]  \n",
    "&nbsp;&nbsp;&nbsp;&nbsp;)  \n",
    "\\] .**\n",
    "\n",
    "### Cardinality Restrictions\n",
    "\n",
    "To get even more control over the possible properties of a class, OWL provides terms for the cardinality of properties.\n",
    "Here, OWL distinguishes between two types of cardinality restrictions: Cardinality restrictions and qualified cardinality restrictions. Cardinality restrictions restrict how often a property can be used with a class, while qualified cardinality restrictions restrict the cardinality of a property together with a target class. For example, that someone must have exactly two parents is a simple cardinality restriction. A qualified cardinality restriction would be to say that someone must have exactly one parent who is a woman and one parent who is a man. So for normal restrictions we only need a cardinality while for a qualified restriction we also need a target class. For both types of restrictions there are three properties: One for exact cardinality and two for minimum and maximum cardinality.\n",
    "\n",
    "Cardinality restrictions use **owl:cardinality**, **owl:minCardinality** and **owl:maxCardinality**:\n",
    "\n",
    "**ex:Child owl:equivalentClass \\[  \n",
    "&nbsp;&nbsp;&nbsp;&nbsp;a owl:Restriction ;  \n",
    "&nbsp;&nbsp;&nbsp;&nbsp;owl:onProperty ex:hasParent ;  \n",
    "&nbsp;&nbsp;&nbsp;&nbsp;owl:cardinality \"2\"^^xsd:nonNegativeInteger  \n",
    "\\]**\n",
    "\n",
    "Qualified cardinality Restrictions use **owl:onClass**, **owl:qualifiedCardinality**, **owl:minQualifiedCardinality** and **owl:maxQualifiedCardinality**:\n",
    "\n",
    "**ex:Child owl:equivalentClass \\[  \n",
    "&nbsp;&nbsp;&nbsp;&nbsp;a owl:Class ;  \n",
    "&nbsp;&nbsp;&nbsp;&nbsp;owl:intersectionOf (  \n",
    "&nbsp;&nbsp;&nbsp;&nbsp;&nbsp;&nbsp;&nbsp;&nbsp;\\[ a owl:Restriction ;  \n",
    "&nbsp;&nbsp;&nbsp;&nbsp;&nbsp;&nbsp;&nbsp;&nbsp;owl:onProperty ex:hasParent ;  \n",
    "&nbsp;&nbsp;&nbsp;&nbsp;&nbsp;&nbsp;&nbsp;&nbsp;owl:onClass ex:Woman ;  \n",
    "&nbsp;&nbsp;&nbsp;&nbsp;&nbsp;&nbsp;&nbsp;&nbsp;owl:qualifiedCardinality \"1\"^^xsd:nonNegativeInteger \\]  \n",
    "&nbsp;&nbsp;&nbsp;&nbsp;&nbsp;&nbsp;&nbsp;&nbsp;\\[ a owl:Restriction ;  \n",
    "&nbsp;&nbsp;&nbsp;&nbsp;&nbsp;&nbsp;&nbsp;&nbsp;owl:onProperty ex:hasParent ;  \n",
    "&nbsp;&nbsp;&nbsp;&nbsp;&nbsp;&nbsp;&nbsp;&nbsp;owl:onClass ex:Man ;  \n",
    "&nbsp;&nbsp;&nbsp;&nbsp;&nbsp;&nbsp;&nbsp;&nbsp;owl:qualifiedCardinality \"1\"^^xsd:nonNegativeInteger \\]  \n",
    "&nbsp;&nbsp;&nbsp;&nbsp;)  \n",
    "\\] .**\n",
    "\n",
    "## Task 5: Library [4 points]\n",
    "\n",
    "Use OWL complex classes and property restrictions to define the following classes:\n",
    "\n",
    "A customer is someone who borrows at least one kind of literature.  \n",
    "(Do not use cardinality restrictions for this)\n",
    "\n",
    "Model the following two restrictions for individuals of type Student using cardinality restrictions. The restrictions should both apply at the same time. Note, however that there may be additional restrictions applying to Students, which we do not model here but want to keep compatibility with.\n",
    "\n",
    "A student may at most borrow 5 books.\n",
    "A student may at most borrow 8 magazines.\n",
    "\n",
    "Use the following URIs:  \n",
    "Customer: **http://example.org/#Customer**  \n",
    "Literature: **http://example.org/#Literature**  \n",
    "Students: **http://example.org/#Student**  \n",
    "Books: **http://example.org/#Book**  \n",
    "Magazines: **http://example.org/#Magazine**  \n",
    "borrows: **http://example.org/#borrows**\n",
    "\n",
    "You may also use all OWL 2 and rdfs terms mentioned above this exercise."
   ]
  },
  {
   "cell_type": "code",
   "execution_count": null,
   "metadata": {
    "deletable": false,
    "nbgrader": {
     "cell_type": "code",
     "checksum": "0c1eb2e2f7c83e6dcb3ed7786a18c8df",
     "grade": false,
     "grade_id": "cell-63a700db9adc3fd7",
     "locked": false,
     "schema_version": 3,
     "solution": true,
     "task": false
    }
   },
   "outputs": [],
   "source": [
    "%%rdf turtle -l library\n",
    "### YOUR SOLUTION HERE"
   ]
  },
  {
   "cell_type": "code",
   "execution_count": null,
   "metadata": {
    "deletable": false,
    "editable": false,
    "nbgrader": {
     "cell_type": "code",
     "checksum": "f3b49b04d56cd36ff26b99cb54d6a014",
     "grade": true,
     "grade_id": "cell-1ca21ffa7eb8c531",
     "locked": true,
     "points": 1.5,
     "schema_version": 3,
     "solution": false,
     "task": false
    }
   },
   "outputs": [],
   "source": [
    "# This test will check whether your Customer class is correct. [1.5 points]"
   ]
  },
  {
   "cell_type": "code",
   "execution_count": null,
   "metadata": {
    "deletable": false,
    "editable": false,
    "nbgrader": {
     "cell_type": "code",
     "checksum": "6229422e09f3dbdc043b982f79f62e95",
     "grade": true,
     "grade_id": "cell-c35ce4237851e2e9",
     "locked": true,
     "points": 2.5,
     "schema_version": 3,
     "solution": false,
     "task": false
    }
   },
   "outputs": [],
   "source": [
    "# This test will check whether your Student class is correct. [2.5 points]"
   ]
  }
 ],
 "metadata": {
  "kernelspec": {
   "display_name": "Python 3",
   "language": "python",
   "name": "python3"
  },
  "language_info": {
   "codemirror_mode": {
    "name": "ipython",
    "version": 3
   },
   "file_extension": ".py",
   "mimetype": "text/x-python",
   "name": "python",
   "nbconvert_exporter": "python",
   "pygments_lexer": "ipython3",
   "version": "3.8.5"
  }
 },
 "nbformat": 4,
 "nbformat_minor": 4
}
