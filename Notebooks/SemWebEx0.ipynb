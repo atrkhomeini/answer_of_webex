{
 "cells": [
  {
   "cell_type": "markdown",
   "metadata": {
    "deletable": false,
    "editable": false,
    "nbgrader": {
     "cell_type": "markdown",
     "checksum": "2ff5c6a5cd4db521a0b3e454c8045fbb",
     "grade": false,
     "grade_id": "cell-af8da77aeb958933",
     "locked": true,
     "schema_version": 3,
     "solution": false,
     "task": false
    }
   },
   "source": [
    "This assignment is completely voluntary. To check if everything works, we recommend you still upload your finished notebook to moodle and let it be graded.\n",
    "\n",
    "# Introduction to Jupyter Notebooks\n",
    "\n",
    "Jupyter Notebooks are a way to combine text and interactive code execution. Every notebook consists of cells like the one you are reading right now. This is a markdown cell for text but there are also code cells like the one below this one. Code cells can be executed by selecting them and then pressing Ctrl+Enter or clicking the run button at the top. Try it with the Cell below! This should output \"Hello World!\" which will be displayed directly below the executed code cell. "
   ]
  },
  {
   "cell_type": "code",
   "execution_count": null,
   "metadata": {},
   "outputs": [],
   "source": [
    "# This is a code cell. Select it and then execute it by pressing Ctrl+Enter (Strg+Enter). Code cells are python cells by default.\n",
    "# If you know python try playing around with this cell. This cell will not be graded so change it to your heart's content.\n",
    "print(\"Hello World!\")"
   ]
  },
  {
   "cell_type": "markdown",
   "metadata": {
    "deletable": false,
    "editable": false,
    "nbgrader": {
     "cell_type": "markdown",
     "checksum": "f2bc72ba8157dab24352cb9629915d56",
     "grade": false,
     "grade_id": "cell-eae8912ac06a2540",
     "locked": true,
     "schema_version": 3,
     "solution": false,
     "task": false
    }
   },
   "source": [
    "## Introduction to nbGrader\n",
    "\n",
    "Jupyter notebooks are great for providing instructions and incomplete code snippets which you have to complete. While working on assignments you can execute the cells as often as you want, which allows you to play around in a safe environment.\n",
    "\n",
    "But this is not all: jupyter notebooks allow for automated grading! After completing the given code snippets, you can upload your notebook file as submission to moodle. We will then autograde your submission using nbGrader. This works by executing unit tests on your code, basically checking if your code does what it should do. If a test fails, you will not get points for that task. After autograding you will get a feedback file that shows you which test failed.\n",
    "\n",
    "To give you a reference, some of the tests will be visible and executable for you. You can use this to check if your code has the correct format. But don't forget that there are also hidden tests, so just because the visible tests work does not mean your code is completely correct.\n",
    "\n",
    "### Example task\n",
    "\n",
    "Below is a code cell with incomplete python code. The task is to set variable x to 10 and variable y to 20.\n",
    "To set a variable in python, you just write its name, an equal sign and then a value. To set a variable z to 30, you would simply write the following:\n",
    "\n",
    "z = 30\n",
    "\n",
    "Now try to do the task in the cell below by writing your code just below the \"# YOUR SOLUTION HERE\" comment."
   ]
  },
  {
   "cell_type": "code",
   "execution_count": 4,
   "metadata": {
    "deletable": false,
    "nbgrader": {
     "cell_type": "code",
     "checksum": "b9569536cc02dd637f3ab7c5b25e36f2",
     "grade": false,
     "grade_id": "cell-c7038067c95e57ed",
     "locked": false,
     "schema_version": 3,
     "solution": true,
     "task": false
    }
   },
   "outputs": [
    {
     "name": "stdout",
     "output_type": "stream",
     "text": [
      "x has the value 10\n",
      "y has the value 20\n",
      "z has the value 30\n"
     ]
    }
   ],
   "source": [
    "# Set x to 10 and y to 20. Don't change code that is already given.\n",
    "z = 30\n",
    "x = 10\n",
    "y = 20\n",
    "### YOUR SOLUTION HERE\n",
    "\n",
    "print(f\"x has the value {x}\")\n",
    "print(f\"y has the value {y}\")\n",
    "print(f\"z has the value {z}\")"
   ]
  },
  {
   "cell_type": "markdown",
   "metadata": {
    "deletable": false,
    "editable": false,
    "nbgrader": {
     "cell_type": "markdown",
     "checksum": "45fbeaf701adc73642bf316d3b181226",
     "grade": false,
     "grade_id": "cell-c8bda3ca1f560670",
     "locked": true,
     "schema_version": 3,
     "solution": false,
     "task": false
    }
   },
   "source": [
    "### Example Test\n",
    "\n",
    "Below is an example test cell. These cells can not be manipulated but can be executed. This one only tests if x is set to 10 but remember that there are also hidden tests. Execute the test cell to check if your code is at least partially correct. If the cell below fails, you either have an error in your code or forgot to execute your code cell above. Try it now!"
   ]
  },
  {
   "cell_type": "code",
   "execution_count": 5,
   "metadata": {
    "deletable": false,
    "editable": false,
    "nbgrader": {
     "cell_type": "code",
     "checksum": "995571de091800bfd302f6c1b8cb63e5",
     "grade": true,
     "grade_id": "cell-95f7b35c0b30bb97",
     "locked": true,
     "points": 1,
     "schema_version": 3,
     "solution": false,
     "task": false
    }
   },
   "outputs": [
    {
     "name": "stdout",
     "output_type": "stream",
     "text": [
      "Test passed!\n"
     ]
    }
   ],
   "source": [
    "assert x==10, f\"x has value {x} but should have value 10\"\n",
    "assert z==30, f\"z has value {z} but should have value 30. You shouldn't change code that was already given in the snippet.\"\n",
    "print(\"Test passed!\")"
   ]
  },
  {
   "cell_type": "markdown",
   "metadata": {
    "deletable": false,
    "editable": false,
    "nbgrader": {
     "cell_type": "markdown",
     "checksum": "cbd4c5ff53764294c9929eb4ac4a0045",
     "grade": false,
     "grade_id": "cell-3b7cab48c6f59c2b",
     "locked": true,
     "schema_version": 3,
     "solution": false,
     "task": false
    }
   },
   "source": [
    "## RDF Extension\n",
    "\n",
    "We will use an extension to execute and evaluate languages introduced in the Semantic Web lecture. The following cell will be at the top of every assignment and is used to load said extension. You need to run this cell at the start of every session. The cell below the loading cell is a very basic usage of the extension to check whether it works. Run it and it should output a graph."
   ]
  },
  {
   "cell_type": "code",
   "execution_count": 2,
   "metadata": {
    "deletable": false,
    "editable": false,
    "nbgrader": {
     "cell_type": "code",
     "checksum": "8427196818507b8413954ef24a8154a8",
     "grade": false,
     "grade_id": "cell-9fe4e4848ca12dff",
     "locked": true,
     "schema_version": 3,
     "solution": false,
     "task": false
    }
   },
   "outputs": [
    {
     "name": "stdout",
     "output_type": "stream",
     "text": [
      "Defaulting to user installation because normal site-packages is not writeable\n",
      "Requirement already satisfied: jupyter-rdfify in /home/kali/.local/lib/python3.11/site-packages (1.0.4)\n",
      "Requirement already satisfied: rdflib>=6.1.1 in /home/kali/.local/lib/python3.11/site-packages (from jupyter-rdfify) (7.0.0)\n",
      "Requirement already satisfied: ipython>=7.0.0 in /usr/lib/python3/dist-packages (from jupyter-rdfify) (8.20.0)\n",
      "Requirement already satisfied: graphviz in /home/kali/.local/lib/python3.11/site-packages (from jupyter-rdfify) (0.20.3)\n",
      "Requirement already satisfied: sparqlwrapper>=1.8.5 in /home/kali/.local/lib/python3.11/site-packages (from jupyter-rdfify) (2.0.0)\n",
      "Requirement already satisfied: owlrl>=6.0.2 in /home/kali/.local/lib/python3.11/site-packages (from jupyter-rdfify) (6.0.2)\n",
      "Requirement already satisfied: pyshex>=0.8.0 in /home/kali/.local/lib/python3.11/site-packages (from jupyter-rdfify) (0.8.1)\n",
      "Requirement already satisfied: decorator in /usr/lib/python3/dist-packages (from ipython>=7.0.0->jupyter-rdfify) (5.1.1)\n",
      "Requirement already satisfied: jedi>=0.16 in /usr/lib/python3/dist-packages (from ipython>=7.0.0->jupyter-rdfify) (0.19.1)\n",
      "Requirement already satisfied: matplotlib-inline in /usr/lib/python3/dist-packages (from ipython>=7.0.0->jupyter-rdfify) (0.1.6)\n",
      "Requirement already satisfied: prompt-toolkit<3.1.0,>=3.0.41 in /usr/lib/python3/dist-packages (from ipython>=7.0.0->jupyter-rdfify) (3.0.43)\n",
      "Requirement already satisfied: pygments>=2.4.0 in /usr/lib/python3/dist-packages (from ipython>=7.0.0->jupyter-rdfify) (2.17.2)\n",
      "Requirement already satisfied: stack-data in /usr/lib/python3/dist-packages (from ipython>=7.0.0->jupyter-rdfify) (0.6.3)\n",
      "Requirement already satisfied: traitlets>=5 in /usr/lib/python3/dist-packages (from ipython>=7.0.0->jupyter-rdfify) (5.5.0)\n",
      "Requirement already satisfied: pexpect>4.3 in /usr/lib/python3/dist-packages (from ipython>=7.0.0->jupyter-rdfify) (4.9.0)\n",
      "Requirement already satisfied: cfgraph>=0.2.1 in /home/kali/.local/lib/python3.11/site-packages (from pyshex>=0.8.0->jupyter-rdfify) (0.2.1)\n",
      "Requirement already satisfied: chardet in /usr/lib/python3/dist-packages (from pyshex>=0.8.0->jupyter-rdfify) (5.2.0)\n",
      "Requirement already satisfied: pyshexc==0.9.1 in /home/kali/.local/lib/python3.11/site-packages (from pyshex>=0.8.0->jupyter-rdfify) (0.9.1)\n",
      "Requirement already satisfied: rdflib-shim in /home/kali/.local/lib/python3.11/site-packages (from pyshex>=0.8.0->jupyter-rdfify) (1.0.3)\n",
      "Requirement already satisfied: requests>=2.22.0 in /usr/lib/python3/dist-packages (from pyshex>=0.8.0->jupyter-rdfify) (2.31.0)\n",
      "Requirement already satisfied: shexjsg>=0.8.2 in /home/kali/.local/lib/python3.11/site-packages (from pyshex>=0.8.0->jupyter-rdfify) (0.8.2)\n",
      "Requirement already satisfied: sparqlslurper>=0.5.1 in /home/kali/.local/lib/python3.11/site-packages (from pyshex>=0.8.0->jupyter-rdfify) (0.5.1)\n",
      "Requirement already satisfied: urllib3 in /usr/lib/python3/dist-packages (from pyshex>=0.8.0->jupyter-rdfify) (1.26.18)\n",
      "Requirement already satisfied: antlr4-python3-runtime~=4.9.3 in /home/kali/.local/lib/python3.11/site-packages (from pyshexc==0.9.1->pyshex>=0.8.0->jupyter-rdfify) (4.9.3)\n",
      "Requirement already satisfied: jsonasobj>=1.2.1 in /home/kali/.local/lib/python3.11/site-packages (from pyshexc==0.9.1->pyshex>=0.8.0->jupyter-rdfify) (1.3.1)\n",
      "Requirement already satisfied: pyjsg>=0.11.10 in /home/kali/.local/lib/python3.11/site-packages (from pyshexc==0.9.1->pyshex>=0.8.0->jupyter-rdfify) (0.11.10)\n",
      "Requirement already satisfied: isodate<0.7.0,>=0.6.0 in /home/kali/.local/lib/python3.11/site-packages (from rdflib>=6.1.1->jupyter-rdfify) (0.6.1)\n",
      "Requirement already satisfied: pyparsing<4,>=2.1.0 in /usr/lib/python3/dist-packages (from rdflib>=6.1.1->jupyter-rdfify) (3.1.2)\n",
      "Requirement already satisfied: six in /usr/lib/python3/dist-packages (from isodate<0.7.0,>=0.6.0->rdflib>=6.1.1->jupyter-rdfify) (1.16.0)\n",
      "Requirement already satisfied: rdflib-jsonld==0.6.1 in /home/kali/.local/lib/python3.11/site-packages (from rdflib-shim->pyshex>=0.8.0->jupyter-rdfify) (0.6.1)\n",
      "Requirement already satisfied: asttokens>=2.1.0 in /usr/lib/python3/dist-packages (from stack-data->ipython>=7.0.0->jupyter-rdfify) (2.4.1)\n",
      "Requirement already satisfied: executing>=1.2.0 in /usr/lib/python3/dist-packages (from stack-data->ipython>=7.0.0->jupyter-rdfify) (2.0.1)\n",
      "Requirement already satisfied: pure-eval in /usr/lib/python3/dist-packages (from stack-data->ipython>=7.0.0->jupyter-rdfify) (0.2.2)\n"
     ]
    },
    {
     "data": {
      "application/javascript": "\n    if (typeof IPython !== \"undefined\") {\n        IPython.CodeCell.options_default.highlight_modes['application/sparql-query'] = {'reg':[/^%%rdf sparql/]};\n        IPython.CodeCell.options_default.highlight_modes['text/turtle'] = {'reg':[/^%%rdf turtle/, /^%%rdf shex/]};\n        IPython.CodeCell.options_default.highlight_modes['application/ld+json'] = {'reg':[/^%%rdf json-ld/]};\n        IPython.notebook.get_cells().map(function(cell){ if (cell.cell_type == 'code'){ cell.auto_highlight(); } });\n    }\n    "
     },
     "metadata": {},
     "output_type": "display_data"
    }
   ],
   "source": [
    "!pip install jupyter-rdfify\n",
    "%reload_ext jupyter-rdfify"
   ]
  },
  {
   "cell_type": "code",
   "execution_count": 3,
   "metadata": {
    "deletable": false,
    "editable": false,
    "nbgrader": {
     "cell_type": "code",
     "checksum": "ea2850ee041afd325eac93a404497a74",
     "grade": false,
     "grade_id": "cell-a85d3882c01ca238",
     "locked": true,
     "schema_version": 3,
     "solution": false,
     "task": false
    }
   },
   "outputs": [
    {
     "data": {
      "image/svg+xml": [
       "<?xml version=\"1.0\" encoding=\"UTF-8\" standalone=\"no\"?>\n",
       "<!DOCTYPE svg PUBLIC \"-//W3C//DTD SVG 1.1//EN\"\n",
       " \"http://www.w3.org/Graphics/SVG/1.1/DTD/svg11.dtd\">\n",
       "<!-- Generated by graphviz version 2.43.0 (0)\n",
       " -->\n",
       "<!-- Title: %3 Pages: 1 -->\n",
       "<svg width=\"204pt\" height=\"131pt\"\n",
       " viewBox=\"0.00 0.00 204.28 131.00\" xmlns=\"http://www.w3.org/2000/svg\" xmlns:xlink=\"http://www.w3.org/1999/xlink\">\n",
       "<g id=\"graph0\" class=\"graph\" transform=\"scale(1 1) rotate(0) translate(4 127)\">\n",
       "<title>%3</title>\n",
       "<polygon fill=\"white\" stroke=\"transparent\" points=\"-4,4 -4,-127 200.28,-127 200.28,4 -4,4\"/>\n",
       "<!-- 0 -->\n",
       "<g id=\"node1\" class=\"node\">\n",
       "<title>0</title>\n",
       "<ellipse fill=\"none\" stroke=\"black\" cx=\"98.14\" cy=\"-18\" rx=\"53.09\" ry=\"18\"/>\n",
       "<text text-anchor=\"middle\" x=\"98.14\" y=\"-14.3\" font-family=\"Times,serif\" font-size=\"14.00\">ex:Works</text>\n",
       "</g>\n",
       "<!-- 1 -->\n",
       "<g id=\"node2\" class=\"node\">\n",
       "<title>1</title>\n",
       "<ellipse fill=\"none\" stroke=\"black\" cx=\"98.14\" cy=\"-105\" rx=\"98.28\" ry=\"18\"/>\n",
       "<text text-anchor=\"middle\" x=\"98.14\" y=\"-101.3\" font-family=\"Times,serif\" font-size=\"14.00\">ex:YourInstallation</text>\n",
       "</g>\n",
       "<!-- 1&#45;&gt;0 -->\n",
       "<g id=\"edge1\" class=\"edge\">\n",
       "<title>1&#45;&gt;0</title>\n",
       "<path fill=\"none\" stroke=\"black\" d=\"M98.14,-86.8C98.14,-75.16 98.14,-59.55 98.14,-46.24\"/>\n",
       "<polygon fill=\"black\" stroke=\"black\" points=\"101.64,-46.18 98.14,-36.18 94.64,-46.18 101.64,-46.18\"/>\n",
       "<text text-anchor=\"middle\" x=\"131.14\" y=\"-57.8\" font-family=\"Times,serif\" font-size=\"14.00\">ex:status</text>\n",
       "</g>\n",
       "</g>\n",
       "</svg>\n"
      ],
      "text/plain": [
       "<graphviz.graphs.Digraph at 0x7fce9e3291d0>"
      ]
     },
     "metadata": {},
     "output_type": "display_data"
    }
   ],
   "source": [
    "%%rdf turtle -d graph\n",
    "@prefix ex: <http://example.org/#>.\n",
    "ex:YourInstallation ex:status ex:Works."
   ]
  },
  {
   "cell_type": "markdown",
   "metadata": {
    "deletable": false,
    "editable": false,
    "nbgrader": {
     "cell_type": "markdown",
     "checksum": "c1ee8986177e64aa0a0ef4f571c30bb6",
     "grade": false,
     "grade_id": "cell-93ea7936a38b67ca",
     "locked": true,
     "schema_version": 3,
     "solution": false,
     "task": false
    }
   },
   "source": [
    "## Submitting your assignment\n",
    "\n",
    "When you are ready to submit your assignment save the notebook and then upload it to moodle. Try doing the example task and then upload your notebook to moodle. If you did everything right, your submission will be graded and you will get feedback. Also note that all submissions are only graded once after the deadline. You can upload as many tries as you want but only the last submission will be graded."
   ]
  }
 ],
 "metadata": {
  "kernelspec": {
   "display_name": "Python 3",
   "language": "python",
   "name": "python3"
  },
  "language_info": {
   "codemirror_mode": {
    "name": "ipython",
    "version": 3
   },
   "file_extension": ".py",
   "mimetype": "text/x-python",
   "name": "python",
   "nbconvert_exporter": "python",
   "pygments_lexer": "ipython3",
   "version": "3.11.9"
  }
 },
 "nbformat": 4,
 "nbformat_minor": 4
}
