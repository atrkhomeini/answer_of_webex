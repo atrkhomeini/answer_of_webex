{
 "cells": [
  {
   "cell_type": "code",
   "execution_count": null,
   "metadata": {
    "deletable": false,
    "editable": false,
    "nbgrader": {
     "cell_type": "code",
     "checksum": "dcf5ac2ab7403387060a47fd9ccff088",
     "grade": false,
     "grade_id": "cell-80aba36ab7e1e364",
     "locked": true,
     "schema_version": 3,
     "solution": false,
     "task": false
    }
   },
   "outputs": [],
   "source": [
    "%reload_ext jupyter-rdfify"
   ]
  },
  {
   "cell_type": "code",
   "execution_count": null,
   "metadata": {
    "deletable": false,
    "editable": false,
    "nbgrader": {
     "cell_type": "code",
     "checksum": "815dd810a9958e8fb12f0b31a5275c16",
     "grade": true,
     "grade_id": "cell-f85fc016a4803480",
     "locked": true,
     "points": 0,
     "schema_version": 3,
     "solution": false,
     "task": false
    }
   },
   "outputs": [],
   "source": [
    "# This is a placeholder cell for test initialization. Ignore it."
   ]
  },
  {
   "cell_type": "markdown",
   "metadata": {
    "deletable": false,
    "editable": false,
    "nbgrader": {
     "cell_type": "markdown",
     "checksum": "f39fafb34d8c688f4d265bf65ef3dcac",
     "grade": false,
     "grade_id": "cell-4dfd48987044ad74",
     "locked": true,
     "schema_version": 3,
     "solution": false,
     "task": false
    }
   },
   "source": [
    "**This is a bonus sheet. The points you acquire in this sheet will count towards your exam admission but the sheet will not affect the total needed for the admission. Even if you already have your admission, we highly recommend working on this sheet as its content is relevant for the exam.**\n",
    "\n",
    "**If you have never worked with JSON before, it is highly recommended to learn it before working with JSON-LD. It is a very simple format and nicely explained [here](https://www.json.org/json-en.html).**\n",
    "\n",
    "The extension will treat everything on a line after \"###\" as comment but this is **not** JSON syntax!\n",
    "\n",
    "**Only edit cells with \"### YOUR SOLUTION HERE\". Any points lost because other cells were edited will not be restored.**"
   ]
  },
  {
   "cell_type": "markdown",
   "metadata": {
    "deletable": false,
    "editable": false,
    "nbgrader": {
     "cell_type": "markdown",
     "checksum": "3f535e894e7e86f3d92802bd3678dee1",
     "grade": false,
     "grade_id": "cell-296d0c2c44ab4f83",
     "locked": true,
     "schema_version": 3,
     "solution": false,
     "task": false
    }
   },
   "source": [
    "## Reminder: Prefixes\n",
    "\n",
    "As there was a lot of confusion concerning prefixes and CURIEs in the last exercises, here is a small reminder to prevent further errors.\n",
    "\n",
    "Let's say we have the three URIs &lt;http://example.org/#Rick&gt;, &lt;http://example.org/#Morty&gt; and &lt;http://example.org/#Character&gt;. Now we can use them in a Turtle graph as is:\n",
    "\n",
    "**&lt;http://example.org/#Rick&gt; a &lt;http://example.org/#Character&gt; .  \n",
    "&lt;http://example.org/#Morty&gt; a &lt;http://example.org/#Character&gt; .**\n",
    "\n",
    "This is hard to read and has a lot of repetition. As all three URIs begin with &lt;http://example.org/#&gt;, we can abbreviate them using prefixes. So we define a prefix and label it **ex:**. This gives us a much more readable graph:\n",
    "\n",
    "**PREFIX ex: &lt;http://example.org/#&gt;  \n",
    "ex:Rick a ex:Character .  \n",
    "ex:Morty a ex:Character .**\n",
    "\n",
    "**Some tips:**\n",
    "- **Try to always define them by hand. There were a lot of errors caused by copy and pasting wrong prefixes.**\n",
    "- **Check for typos! URIs are case sensitive and the tests only pass for an exact match.**\n",
    "- **The pound symbol (#) is part of the URI! &lt;http://example.org/Rick&gt; and &lt;http://example.org/#Rick&gt; are completely different URIs.**\n",
    "- **Prefixes do not change the graph! You don't have to use them if you don't want to.**\n",
    "\n",
    "**The cell below will define some prefixes which you may use in this entire sheet. Please note that these will only work in Turtle.**"
   ]
  },
  {
   "cell_type": "code",
   "execution_count": null,
   "metadata": {
    "deletable": false,
    "editable": false,
    "nbgrader": {
     "cell_type": "code",
     "checksum": "4d8e2e712b18e618102b2904d2898b71",
     "grade": false,
     "grade_id": "cell-eeda6742ff20a244",
     "locked": true,
     "schema_version": 3,
     "solution": false,
     "task": false
    }
   },
   "outputs": [],
   "source": [
    "%%rdf turtle --prefix\n",
    "PREFIX xsd: <http://www.w3.org/2001/XMLSchema#>"
   ]
  },
  {
   "cell_type": "markdown",
   "metadata": {
    "deletable": false,
    "editable": false,
    "nbgrader": {
     "cell_type": "markdown",
     "checksum": "f1be93687f5a176a953e226a56b7ebbf",
     "grade": false,
     "grade_id": "cell-116cd86dbcb6e858",
     "locked": true,
     "schema_version": 3,
     "solution": false,
     "task": false
    }
   },
   "source": [
    "# JSON-LD\n",
    "\n",
    "JSON-LD is a W3C recommended RDF graph serialization format. It uses the wide spread JavaScript Object Notation (JSON) format.\n",
    "\n",
    "For more information on JSON-LD please consult the lecture slides (Linked Data Basics, Lecture 2b) or the [JSON-LD W3C recommendation](https://www.w3.org/TR/json-ld/)\n",
    "\n",
    "## Task 1: Understanding JSON-LD [3 points]\n",
    "Consider the following RDF graph in JSON-LD format (run the cell to get a visualisation):"
   ]
  },
  {
   "cell_type": "code",
   "execution_count": null,
   "metadata": {
    "deletable": false,
    "editable": false,
    "nbgrader": {
     "cell_type": "code",
     "checksum": "dc4a2a43469d3920582d36d34fb5461a",
     "grade": false,
     "grade_id": "cell-2a975b3779244fac",
     "locked": true,
     "schema_version": 3,
     "solution": false,
     "task": false
    }
   },
   "outputs": [],
   "source": [
    "%%rdf json-ld -d graph\n",
    "{\n",
    "    \"@context\": {\n",
    "        \"ex\": \"http://example.org/shops#\",\n",
    "        \"xsd\": \"http://www.w3.org/2001/XMLSchema#\"\n",
    "    },\n",
    "    \"@id\": \"ex:eBuy\",\n",
    "    \"@type\": \"ex:OnlineShop\",\n",
    "    \"ex:name\": {\n",
    "        \"@value\": \"eBuy\",\n",
    "        \"@language\": \"en\"\n",
    "    },\n",
    "    \"ex:products\": {\n",
    "        \"@list\": [\n",
    "            \"Toilet paper\",\n",
    "            \"Disinfectant\",\n",
    "            \"Masks\"\n",
    "        ]\n",
    "    },\n",
    "    \"ex:competitor\": {\n",
    "        \"@id\": \"ex:Emazon\",\n",
    "        \"@type\": \"ex:OnlineShop\",\n",
    "        \"ex:name\": \"Emazon\",\n",
    "        \"ex:subscriptionService\": [\n",
    "            \"Emazon Prime\",\n",
    "            \"Emazon Prime Video\"\n",
    "        ]\n",
    "    }\n",
    "}"
   ]
  },
  {
   "cell_type": "markdown",
   "metadata": {
    "deletable": false,
    "editable": false,
    "nbgrader": {
     "cell_type": "markdown",
     "checksum": "2c74d3fc5fcef3636bd862c0bc8ab5e6",
     "grade": false,
     "grade_id": "cell-d19855b1f9e78205",
     "locked": true,
     "schema_version": 3,
     "solution": false,
     "task": false
    }
   },
   "source": [
    "Create an identical graph using Turtle notation in the cell below.\n",
    "\n",
    "**Please make sure that your prefixes are correct.**  \n",
    "**Tip: Run the cell and compare the graphs. They should be identical up to prefix renaming.**"
   ]
  },
  {
   "cell_type": "code",
   "execution_count": null,
   "metadata": {
    "deletable": false,
    "nbgrader": {
     "cell_type": "code",
     "checksum": "1a66b9bf1cdb6c9f1e355edfbc2dc051",
     "grade": false,
     "grade_id": "cell-e3c6c8d1a45ecf7d",
     "locked": false,
     "schema_version": 3,
     "solution": true,
     "task": false
    }
   },
   "outputs": [],
   "source": [
    "%%rdf turtle -d graph -l shops\n",
    "### YOUR SOLUTION HERE"
   ]
  },
  {
   "cell_type": "code",
   "execution_count": null,
   "metadata": {
    "deletable": false,
    "editable": false,
    "nbgrader": {
     "cell_type": "code",
     "checksum": "ad4fb9c74c78310daf3c9947641f93c5",
     "grade": true,
     "grade_id": "cell-61448fca0d54cd95",
     "locked": true,
     "points": 1.5,
     "schema_version": 3,
     "solution": false,
     "task": false
    }
   },
   "outputs": [],
   "source": [
    "# This test will check whether you modelled eBuy correctly [1.5 points]"
   ]
  },
  {
   "cell_type": "code",
   "execution_count": null,
   "metadata": {
    "deletable": false,
    "editable": false,
    "nbgrader": {
     "cell_type": "code",
     "checksum": "acb85680498eb2f547ee175cfeb1d068",
     "grade": true,
     "grade_id": "cell-572010cc326d8c1b",
     "locked": true,
     "points": 1.5,
     "schema_version": 3,
     "solution": false,
     "task": false
    }
   },
   "outputs": [],
   "source": [
    "# This test will check whether you modelled Emazon correctly [1.5 points]"
   ]
  },
  {
   "cell_type": "markdown",
   "metadata": {
    "deletable": false,
    "editable": false,
    "nbgrader": {
     "cell_type": "markdown",
     "checksum": "40e84a520c8537880dc7922cc6c98977",
     "grade": false,
     "grade_id": "cell-4bcc34dfe90bb260",
     "locked": true,
     "schema_version": 3,
     "solution": false,
     "task": false
    }
   },
   "source": [
    "## Task 2: JSON-LD Person [4 points]\n",
    "\n",
    "Consider the following RDF graph in Turtle format:"
   ]
  },
  {
   "cell_type": "code",
   "execution_count": null,
   "metadata": {
    "deletable": false,
    "editable": false,
    "nbgrader": {
     "cell_type": "code",
     "checksum": "93d88dd55b3261f5ed5e142b79329e76",
     "grade": false,
     "grade_id": "cell-cb50ba84d893cf56",
     "locked": true,
     "schema_version": 3,
     "solution": false,
     "task": false
    }
   },
   "outputs": [],
   "source": [
    "%%rdf turtle -d graph\n",
    "PREFIX rdf: <http://www.w3.org/1999/02/22-rdf-syntax-ns#>\n",
    "PREFIX xsd: <http://www.w3.org/2001/XMLSchema#>\n",
    "PREFIX ex: <http://example.org/#>\n",
    "\n",
    "ex:Michael a ex:Person ;\n",
    "    ex:name \"Michael Scott\" ;\n",
    "    ex:job ex:RegionalManager ;\n",
    "    ex:phoneNumber \"012346789\" ;\n",
    "    ex:age \"44\"^^xsd:integer ;\n",
    "    ex:friends (ex:Jim ex:Pam ex:Dwight) ."
   ]
  },
  {
   "cell_type": "markdown",
   "metadata": {
    "deletable": false,
    "editable": false,
    "nbgrader": {
     "cell_type": "markdown",
     "checksum": "00bb1684a23b0281732a0d0ced5d1911",
     "grade": false,
     "grade_id": "cell-aaf037d37e5e84ad",
     "locked": true,
     "schema_version": 3,
     "solution": false,
     "task": false
    }
   },
   "source": [
    "Create the same graph using JSON-LD.  \n",
    "**Please note the difference between URIs and literals e.g. ex:Professor vs \"ex:Professor\"**"
   ]
  },
  {
   "cell_type": "code",
   "execution_count": null,
   "metadata": {
    "deletable": false,
    "nbgrader": {
     "cell_type": "code",
     "checksum": "0afaa71115efc3f1b1745c4a5a66526d",
     "grade": false,
     "grade_id": "cell-3a92dab72bf7e251",
     "locked": false,
     "schema_version": 3,
     "solution": true,
     "task": false
    }
   },
   "outputs": [],
   "source": [
    "%%rdf json-ld -d graph -l office\n",
    "{\n",
    "    ### YOUR SOLUTION HERE\n",
    "}"
   ]
  },
  {
   "cell_type": "code",
   "execution_count": null,
   "metadata": {
    "deletable": false,
    "editable": false,
    "nbgrader": {
     "cell_type": "code",
     "checksum": "19918e66a6e75aee07eb48eeb9ef38e3",
     "grade": true,
     "grade_id": "cell-0d6d9e590d485fbd",
     "locked": true,
     "points": 1,
     "schema_version": 3,
     "solution": false,
     "task": false
    }
   },
   "outputs": [],
   "source": [
    "# This test will check whether your node has the correct type. [1 point]"
   ]
  },
  {
   "cell_type": "code",
   "execution_count": null,
   "metadata": {
    "deletable": false,
    "editable": false,
    "nbgrader": {
     "cell_type": "code",
     "checksum": "ffc33af5ce12688196f77cc49e72e341",
     "grade": true,
     "grade_id": "cell-e8b4b924718268e1",
     "locked": true,
     "points": 1,
     "schema_version": 3,
     "solution": false,
     "task": false
    }
   },
   "outputs": [],
   "source": [
    "# This test will check whether your literals are correct. [1 point]"
   ]
  },
  {
   "cell_type": "code",
   "execution_count": null,
   "metadata": {
    "deletable": false,
    "editable": false,
    "nbgrader": {
     "cell_type": "code",
     "checksum": "47f7c24878eae235218f113f9d5b0109",
     "grade": true,
     "grade_id": "cell-004a89c6d830b5e6",
     "locked": true,
     "points": 1,
     "schema_version": 3,
     "solution": false,
     "task": false
    }
   },
   "outputs": [],
   "source": [
    "# This test will check whether your friendlist is correct. [1 point]"
   ]
  },
  {
   "cell_type": "code",
   "execution_count": null,
   "metadata": {
    "deletable": false,
    "editable": false,
    "nbgrader": {
     "cell_type": "code",
     "checksum": "3aea0e88bbf4e78fa26cf79c50c58954",
     "grade": true,
     "grade_id": "cell-73e1bd61abbd1e5a",
     "locked": true,
     "points": 1,
     "schema_version": 3,
     "solution": false,
     "task": false
    }
   },
   "outputs": [],
   "source": [
    "# This test will check whether your other triples are correct. [1 point]"
   ]
  },
  {
   "cell_type": "markdown",
   "metadata": {
    "deletable": false,
    "editable": false,
    "nbgrader": {
     "cell_type": "markdown",
     "checksum": "b7cce3caa7ff73b78a44a2e4b0b967f2",
     "grade": false,
     "grade_id": "cell-07971b190da8ba1b",
     "locked": true,
     "schema_version": 3,
     "solution": false,
     "task": false
    }
   },
   "source": [
    "## Task 3: Blank Nodes & Reification [2 points]\n",
    "Model the following in JSON-LD using RDF reification.\n",
    "\n",
    "Peralta knows that Terry loves joghurt.\n",
    "\n",
    "Use the following URIs:  \n",
    "Peralta: **http://example.org/#Peralta**  \n",
    "knows: **http://example.org/#knows**  \n",
    "Terry: **http://example.org/#Terry**  \n",
    "loves: **http://example.org/#loves**  \n",
    "Joghurt: **http://example.org/#Joghurt**  \n",
    "\n",
    "You may need the RDF vocabulary prefix: **http://www.w3.org/1999/02/22-rdf-syntax-ns#**"
   ]
  },
  {
   "cell_type": "code",
   "execution_count": null,
   "metadata": {
    "deletable": false,
    "nbgrader": {
     "cell_type": "code",
     "checksum": "d715e40d4aa120f359615e5d21064ec4",
     "grade": false,
     "grade_id": "cell-5a05214e22fc1331",
     "locked": false,
     "schema_version": 3,
     "solution": true,
     "task": false
    }
   },
   "outputs": [],
   "source": [
    "%%rdf json-ld -d graph -l 99\n",
    "{\n",
    "    ### YOUR SOLUTION HERE\n",
    "}"
   ]
  },
  {
   "cell_type": "code",
   "execution_count": null,
   "metadata": {
    "deletable": false,
    "editable": false,
    "nbgrader": {
     "cell_type": "code",
     "checksum": "634e572c5b6a8004ec8cef0634e9382d",
     "grade": true,
     "grade_id": "cell-2578225ee82a3eac",
     "locked": true,
     "points": 1,
     "schema_version": 3,
     "solution": false,
     "task": false
    }
   },
   "outputs": [],
   "source": [
    "# This test will check whether you modelled the blank node correctly. [1 point]"
   ]
  },
  {
   "cell_type": "code",
   "execution_count": null,
   "metadata": {
    "deletable": false,
    "editable": false,
    "nbgrader": {
     "cell_type": "code",
     "checksum": "dbab91479023f7e6146a9d6c5962dbc4",
     "grade": true,
     "grade_id": "cell-81792a90cfa7f7a7",
     "locked": true,
     "points": 1,
     "schema_version": 3,
     "solution": false,
     "task": false
    }
   },
   "outputs": [],
   "source": [
    "# This test will check whether you modelled the reification correctly. [1 point]"
   ]
  },
  {
   "cell_type": "markdown",
   "metadata": {
    "deletable": false,
    "editable": false,
    "nbgrader": {
     "cell_type": "markdown",
     "checksum": "f5f3a7282993fb48c8d10282e3abe34c",
     "grade": false,
     "grade_id": "cell-0965fcf39f7df5e9",
     "locked": true,
     "schema_version": 3,
     "solution": false,
     "task": false
    }
   },
   "source": [
    "## Task 4: Multiple Graphs, Multiple Properties And Multiple Languages [3 points]\n",
    "Consider the following RDF graph in Turtle format:"
   ]
  },
  {
   "cell_type": "code",
   "execution_count": null,
   "metadata": {
    "deletable": false,
    "editable": false,
    "nbgrader": {
     "cell_type": "code",
     "checksum": "5575dc026ec83525d8465511afb7749e",
     "grade": false,
     "grade_id": "cell-d9ab69936cfb71e2",
     "locked": true,
     "schema_version": 3,
     "solution": false,
     "task": false
    }
   },
   "outputs": [],
   "source": [
    "%%rdf turtle -d graph\n",
    "PREFIX rdf: <http://www.w3.org/1999/02/22-rdf-syntax-ns#>\n",
    "PREFIX xsd: <http://www.w3.org/2001/XMLSchema#>\n",
    "PREFIX ex: <http://example.org/#>\n",
    "\n",
    "ex:Germany ex:name \"Deutschland\"@de, \"Germany\"@en .\n",
    "ex:Sweden ex:name \"Schweden\"@de, \"Sweden\"@en ."
   ]
  },
  {
   "cell_type": "markdown",
   "metadata": {
    "deletable": false,
    "editable": false,
    "nbgrader": {
     "cell_type": "markdown",
     "checksum": "fcdda475a36fe461c19b8e54748308b9",
     "grade": false,
     "grade_id": "cell-f4b59ad9c2b853cf",
     "locked": true,
     "schema_version": 3,
     "solution": false,
     "task": false
    }
   },
   "source": [
    "Create an identical graph using JSON-LD."
   ]
  },
  {
   "cell_type": "code",
   "execution_count": null,
   "metadata": {
    "deletable": false,
    "nbgrader": {
     "cell_type": "code",
     "checksum": "390a9703c0f7c8d244c0edbd1865a9b9",
     "grade": false,
     "grade_id": "cell-7ac50fae9fadd1b9",
     "locked": false,
     "schema_version": 3,
     "solution": true,
     "task": false
    }
   },
   "outputs": [],
   "source": [
    "%%rdf json-ld -d graph -l multi\n",
    "{\n",
    "    ### YOUR SOLUTION HERE\n",
    "}"
   ]
  },
  {
   "cell_type": "code",
   "execution_count": null,
   "metadata": {
    "deletable": false,
    "editable": false,
    "nbgrader": {
     "cell_type": "code",
     "checksum": "04285120dc5a14a88cfe547ab2549bff",
     "grade": true,
     "grade_id": "cell-bed0298d85eea115",
     "locked": true,
     "points": 1,
     "schema_version": 3,
     "solution": false,
     "task": false
    }
   },
   "outputs": [],
   "source": [
    "# This test will check whether you modelled multiple disconnected graphs. [1 point]"
   ]
  },
  {
   "cell_type": "code",
   "execution_count": null,
   "metadata": {
    "deletable": false,
    "editable": false,
    "nbgrader": {
     "cell_type": "code",
     "checksum": "0d289456ec8db854ab448c3d03137546",
     "grade": true,
     "grade_id": "cell-a6bc899633d4619e",
     "locked": true,
     "points": 1,
     "schema_version": 3,
     "solution": false,
     "task": false
    }
   },
   "outputs": [],
   "source": [
    "# This test will check whether you modelled multiple name properties correctly. [1 point]"
   ]
  },
  {
   "cell_type": "code",
   "execution_count": null,
   "metadata": {
    "deletable": false,
    "editable": false,
    "nbgrader": {
     "cell_type": "code",
     "checksum": "eb43b1b34b442dd0b1f1c7d2b3864a1e",
     "grade": true,
     "grade_id": "cell-9a7ddad3954864b5",
     "locked": true,
     "points": 1,
     "schema_version": 3,
     "solution": false,
     "task": false
    }
   },
   "outputs": [],
   "source": [
    "# This test will check whether you modelled multiple languages correctly. [1 point]"
   ]
  }
 ],
 "metadata": {
  "kernelspec": {
   "display_name": "Python 3",
   "language": "python",
   "name": "python3"
  },
  "language_info": {
   "codemirror_mode": {
    "name": "ipython",
    "version": 3
   },
   "file_extension": ".py",
   "mimetype": "text/x-python",
   "name": "python",
   "nbconvert_exporter": "python",
   "pygments_lexer": "ipython3",
   "version": "3.8.5"
  }
 },
 "nbformat": 4,
 "nbformat_minor": 4
}
